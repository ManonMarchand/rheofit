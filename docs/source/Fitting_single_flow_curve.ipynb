{
 "cells": [
  {
   "cell_type": "markdown",
   "metadata": {},
   "source": [
    "# Fitting single flow curve\n",
    "\n",
    "List of usefull scripts\n",
    "\n",
    "The only objects that cells should share are functions and the general import in the first few cells"
   ]
  },
  {
   "cell_type": "code",
   "execution_count": 1,
   "metadata": {},
   "outputs": [],
   "source": [
    "%matplotlib inline\n",
    "import sys\n",
    "sys.path.append(\"./../../\")\n",
    "import rheofit\n",
    "import lmfit\n",
    "import pybroom as pb\n",
    "import matplotlib.pyplot as plt\n",
    "import pandas as pd\n",
    "import emcee\n",
    "import corner"
   ]
  },
  {
   "cell_type": "code",
   "execution_count": 2,
   "metadata": {},
   "outputs": [],
   "source": [
    "pd.set_option('display.notebook_repr_html', True)\n",
    "\n",
    "def _repr_latex_(self):\n",
    "    return \"\\centering{%s}\" % self.to_latex()\n",
    "\n",
    "pd.DataFrame._repr_latex_ = _repr_latex_  # monkey patch pandas DataFrame"
   ]
  },
  {
   "cell_type": "code",
   "execution_count": 3,
   "metadata": {},
   "outputs": [],
   "source": [
    "# from IPython.display import set_matplotlib_formats\n",
    "# set_matplotlib_formats('pdf', 'png')\n",
    "# plt.rcParams['savefig.dpi'] = 300\n",
    "\n",
    "# plt.rcParams['figure.autolayout'] = False\n",
    "# plt.rcParams['figure.figsize'] = 10, 7\n",
    "# plt.rcParams['axes.labelsize'] = 25\n",
    "# plt.rcParams['axes.titlesize'] = 30\n",
    "# plt.rcParams['font.size'] = 20\n",
    "# plt.rcParams['lines.linewidth'] = 2.0\n",
    "# plt.rcParams['lines.markersize'] = 8\n",
    "# plt.rcParams['legend.fontsize'] = 20\n",
    "# plt.rcParams['grid.linewidth']=1\n",
    "# plt.rcParams['axes.linewidth']=1\n",
    "\n",
    "# plt.rcParams['xtick.major.size'] = 10\n",
    "# plt.rcParams['xtick.major.width'] = 1\n",
    "# plt.rcParams['xtick.minor.size'] = 5\n",
    "# plt.rcParams['xtick.minor.width'] = 1\n",
    "\n",
    "# plt.rcParams['ytick.major.size'] = 10\n",
    "# plt.rcParams['ytick.major.width'] = 1\n",
    "# plt.rcParams['ytick.minor.size'] = 5\n",
    "# plt.rcParams['ytick.minor.width'] = 1\n",
    "\n",
    "# plt.rcParams['text.usetex'] = True\n",
    "\n",
    "# %config InlineBackend.figure_format = 'svg'"
   ]
  },
  {
   "cell_type": "markdown",
   "metadata": {},
   "source": [
    "## Getting Example flow curve data"
   ]
  },
  {
   "cell_type": "code",
   "execution_count": 4,
   "metadata": {
    "scrolled": false
   },
   "outputs": [
    {
     "data": {
      "text/html": [
       "<div>\n",
       "<style scoped>\n",
       "    .dataframe tbody tr th:only-of-type {\n",
       "        vertical-align: middle;\n",
       "    }\n",
       "\n",
       "    .dataframe tbody tr th {\n",
       "        vertical-align: top;\n",
       "    }\n",
       "\n",
       "    .dataframe thead th {\n",
       "        text-align: right;\n",
       "    }\n",
       "</style>\n",
       "<table border=\"1\" class=\"dataframe\">\n",
       "  <thead>\n",
       "    <tr style=\"text-align: right;\">\n",
       "      <th></th>\n",
       "      <th>Shear rate</th>\n",
       "      <th>Stress</th>\n",
       "    </tr>\n",
       "  </thead>\n",
       "  <tbody>\n",
       "    <tr>\n",
       "      <td>0</td>\n",
       "      <td>999.894750</td>\n",
       "      <td>131.224750</td>\n",
       "    </tr>\n",
       "    <tr>\n",
       "      <td>1</td>\n",
       "      <td>891.251000</td>\n",
       "      <td>121.572250</td>\n",
       "    </tr>\n",
       "    <tr>\n",
       "      <td>2</td>\n",
       "      <td>794.328250</td>\n",
       "      <td>112.565250</td>\n",
       "    </tr>\n",
       "    <tr>\n",
       "      <td>3</td>\n",
       "      <td>707.946000</td>\n",
       "      <td>104.258000</td>\n",
       "    </tr>\n",
       "    <tr>\n",
       "      <td>4</td>\n",
       "      <td>630.957500</td>\n",
       "      <td>96.582950</td>\n",
       "    </tr>\n",
       "    <tr>\n",
       "      <td>...</td>\n",
       "      <td>...</td>\n",
       "      <td>...</td>\n",
       "    </tr>\n",
       "    <tr>\n",
       "      <td>96</td>\n",
       "      <td>0.015848</td>\n",
       "      <td>3.098968</td>\n",
       "    </tr>\n",
       "    <tr>\n",
       "      <td>97</td>\n",
       "      <td>0.014126</td>\n",
       "      <td>3.046845</td>\n",
       "    </tr>\n",
       "    <tr>\n",
       "      <td>98</td>\n",
       "      <td>0.012588</td>\n",
       "      <td>2.997400</td>\n",
       "    </tr>\n",
       "    <tr>\n",
       "      <td>99</td>\n",
       "      <td>0.011219</td>\n",
       "      <td>2.950915</td>\n",
       "    </tr>\n",
       "    <tr>\n",
       "      <td>100</td>\n",
       "      <td>0.010000</td>\n",
       "      <td>2.906797</td>\n",
       "    </tr>\n",
       "  </tbody>\n",
       "</table>\n",
       "<p>101 rows × 2 columns</p>\n",
       "</div>"
      ],
      "text/latex": [
       "\\centering{\\begin{tabular}{lrr}\n",
       "\\toprule\n",
       "{} &  Shear rate &      Stress \\\\\n",
       "\\midrule\n",
       "0   &  999.894750 &  131.224750 \\\\\n",
       "1   &  891.251000 &  121.572250 \\\\\n",
       "2   &  794.328250 &  112.565250 \\\\\n",
       "3   &  707.946000 &  104.258000 \\\\\n",
       "4   &  630.957500 &   96.582950 \\\\\n",
       "5   &  562.341500 &   89.495925 \\\\\n",
       "6   &  501.187000 &   82.973725 \\\\\n",
       "7   &  446.683250 &   76.952300 \\\\\n",
       "8   &  398.109000 &   71.449250 \\\\\n",
       "9   &  354.815000 &   66.382500 \\\\\n",
       "10  &  316.227750 &   61.738000 \\\\\n",
       "11  &  281.838250 &   57.470050 \\\\\n",
       "12  &  251.188750 &   53.562825 \\\\\n",
       "13  &  223.872000 &   49.971150 \\\\\n",
       "14  &  199.527250 &   46.678000 \\\\\n",
       "15  &  177.829000 &   43.665100 \\\\\n",
       "16  &  158.490750 &   40.893600 \\\\\n",
       "17  &  141.253000 &   38.343550 \\\\\n",
       "18  &  125.893500 &   35.998150 \\\\\n",
       "19  &  112.202000 &   33.834100 \\\\\n",
       "20  &  100.000225 &   31.832825 \\\\\n",
       "21  &   89.125850 &   29.987525 \\\\\n",
       "22  &   79.433425 &   28.279775 \\\\\n",
       "23  &   70.794800 &   26.694725 \\\\\n",
       "24  &   63.095775 &   25.224025 \\\\\n",
       "25  &   56.234175 &   23.861250 \\\\\n",
       "26  &   50.118925 &   22.594175 \\\\\n",
       "27  &   44.668400 &   21.418600 \\\\\n",
       "28  &   39.810875 &   20.322825 \\\\\n",
       "29  &   35.481400 &   19.299625 \\\\\n",
       "30  &   31.622875 &   18.345225 \\\\\n",
       "31  &   28.183875 &   17.461225 \\\\\n",
       "32  &   25.119050 &   16.637150 \\\\\n",
       "33  &   22.387175 &   15.854425 \\\\\n",
       "34  &   19.952600 &   15.142100 \\\\\n",
       "35  &   17.782925 &   14.466350 \\\\\n",
       "36  &   15.848950 &   13.832200 \\\\\n",
       "37  &   14.125400 &   13.239375 \\\\\n",
       "38  &   12.589300 &   12.683750 \\\\\n",
       "39  &   11.220200 &   12.159000 \\\\\n",
       "40  &    9.999990 &   11.673425 \\\\\n",
       "41  &    8.912562 &   11.221750 \\\\\n",
       "42  &    7.943310 &   10.785100 \\\\\n",
       "43  &    7.079470 &   10.385050 \\\\\n",
       "44  &    6.309578 &    9.998685 \\\\\n",
       "45  &    5.623450 &    9.647470 \\\\\n",
       "46  &    5.011882 &    9.311640 \\\\\n",
       "47  &    4.466837 &    8.987080 \\\\\n",
       "48  &    3.981082 &    8.691690 \\\\\n",
       "49  &    3.548155 &    8.411305 \\\\\n",
       "50  &    3.162275 &    8.146395 \\\\\n",
       "51  &    2.818390 &    7.895768 \\\\\n",
       "52  &    2.511893 &    7.659020 \\\\\n",
       "53  &    2.238733 &    7.432132 \\\\\n",
       "54  &    1.995270 &    7.221855 \\\\\n",
       "55  &    1.778285 &    7.023707 \\\\\n",
       "56  &    1.584898 &    6.835063 \\\\\n",
       "57  &    1.412540 &    6.655800 \\\\\n",
       "58  &    1.258925 &    6.481415 \\\\\n",
       "59  &    1.122030 &    6.320292 \\\\\n",
       "60  &    1.000000 &    6.168960 \\\\\n",
       "61  &    0.891250 &    6.022328 \\\\\n",
       "62  &    0.794334 &    5.885282 \\\\\n",
       "63  &    0.707949 &    5.755240 \\\\\n",
       "64  &    0.630960 &    5.627407 \\\\\n",
       "65  &    0.562345 &    5.510838 \\\\\n",
       "66  &    0.501192 &    5.398845 \\\\\n",
       "67  &    0.446688 &    5.289307 \\\\\n",
       "68  &    0.398107 &    5.184628 \\\\\n",
       "69  &    0.354813 &    5.087360 \\\\\n",
       "70  &    0.316232 &    4.994620 \\\\\n",
       "71  &    0.281839 &    4.903512 \\\\\n",
       "72  &    0.251192 &    4.815292 \\\\\n",
       "73  &    0.223873 &    4.729872 \\\\\n",
       "74  &    0.199528 &    4.648013 \\\\\n",
       "75  &    0.177830 &    4.568455 \\\\\n",
       "76  &    0.158490 &    4.490795 \\\\\n",
       "77  &    0.141253 &    4.413418 \\\\\n",
       "78  &    0.125892 &    4.337580 \\\\\n",
       "79  &    0.112201 &    4.261750 \\\\\n",
       "80  &    0.099999 &    4.186445 \\\\\n",
       "81  &    0.089125 &    4.111598 \\\\\n",
       "82  &    0.079431 &    4.036218 \\\\\n",
       "83  &    0.070795 &    3.961225 \\\\\n",
       "84  &    0.063097 &    3.886750 \\\\\n",
       "85  &    0.056236 &    3.812663 \\\\\n",
       "86  &    0.050118 &    3.739257 \\\\\n",
       "87  &    0.044667 &    3.666965 \\\\\n",
       "88  &    0.039812 &    3.596097 \\\\\n",
       "89  &    0.035480 &    3.526772 \\\\\n",
       "90  &    0.031622 &    3.458772 \\\\\n",
       "91  &    0.028183 &    3.393145 \\\\\n",
       "92  &    0.025118 &    3.329848 \\\\\n",
       "93  &    0.022387 &    3.269595 \\\\\n",
       "94  &    0.019953 &    3.210183 \\\\\n",
       "95  &    0.017782 &    3.153433 \\\\\n",
       "96  &    0.015848 &    3.098968 \\\\\n",
       "97  &    0.014126 &    3.046845 \\\\\n",
       "98  &    0.012588 &    2.997400 \\\\\n",
       "99  &    0.011219 &    2.950915 \\\\\n",
       "100 &    0.010000 &    2.906797 \\\\\n",
       "\\bottomrule\n",
       "\\end{tabular}\n",
       "}"
      ],
      "text/plain": [
       "     Shear rate      Stress\n",
       "0    999.894750  131.224750\n",
       "1    891.251000  121.572250\n",
       "2    794.328250  112.565250\n",
       "3    707.946000  104.258000\n",
       "4    630.957500   96.582950\n",
       "..          ...         ...\n",
       "96     0.015848    3.098968\n",
       "97     0.014126    3.046845\n",
       "98     0.012588    2.997400\n",
       "99     0.011219    2.950915\n",
       "100    0.010000    2.906797\n",
       "\n",
       "[101 rows x 2 columns]"
      ]
     },
     "execution_count": 4,
     "metadata": {},
     "output_type": "execute_result"
    }
   ],
   "source": [
    "#using provided example data\n",
    "example_data=rheofit.rheodata.example_emulsion()\n",
    "example_data"
   ]
  },
  {
   "cell_type": "markdown",
   "metadata": {},
   "source": [
    "## Plotting flow curve data"
   ]
  },
  {
   "cell_type": "code",
   "execution_count": 5,
   "metadata": {},
   "outputs": [
    {
     "data": {
      "image/png": "[encoded data removed]",
      "text/plain": [
       "<Figure size 432x288 with 1 Axes>"
      ]
     },
     "metadata": {
      "needs_background": "light"
     },
     "output_type": "display_data"
    }
   ],
   "source": [
    "data=rheofit.rheodata.example_emulsion()\n",
    "\n",
    "def plot_data(data):\n",
    "    plt.plot(data['Shear rate'],data['Stress'],'o')\n",
    "    plt.yscale('log')\n",
    "    plt.xscale('log')\n",
    "    plt.ylabel('$\\sigma [Pa]$');\n",
    "    plt.xlabel('$\\dot\\gamma [1/s]$');\n",
    "    \n",
    "    return plt.gcf()\n",
    "\n",
    "plot_data(data);"
   ]
  },
  {
   "cell_type": "markdown",
   "metadata": {},
   "source": [
    "## Fitting flow curve data to a rheological model"
   ]
  },
  {
   "cell_type": "code",
   "execution_count": 6,
   "metadata": {},
   "outputs": [
    {
     "data": {
      "text/html": [
       "<h2> Model</h2> Model(HB, prefix='HB_') <h2>Fit Statistics</h2><table><tr><td>fitting method</td><td>leastsq</td><td></td></tr><tr><td># function evals</td><td>29</td><td></td></tr><tr><td># data points</td><td>101</td><td></td></tr><tr><td># variables</td><td>3</td><td></td></tr><tr><td>chi-square</td><td> 0.52363806</td><td></td></tr><tr><td>reduced chi-square</td><td> 0.00534325</td><td></td></tr><tr><td>Akaike info crit.</td><td>-525.469582</td><td></td></tr><tr><td>Bayesian info crit.</td><td>-517.624221</td><td></td></tr></table><h2>Variables</h2><table><tr><th> name </th><th> value </th><th> standard error </th><th> relative error </th><th> initial value </th><th> min </th><th> max </th><th> vary </th></tr><tr><td> HB_n </td><td>  0.53928815 </td><td>  0.00752288 </td><td> 1.39% </td><td> 0.5 </td><td>  0.00000000 </td><td>  1.00000000 </td><td> True </td></tr><tr><td> HB_K </td><td>  2.56281495 </td><td>  0.09118889 </td><td> 3.56% </td><td> 1.0 </td><td>  0.00000000 </td><td>         inf </td><td> True </td></tr><tr><td> HB_ystress </td><td>  3.18629490 </td><td>  0.06296913 </td><td> 1.98% </td><td> 1.0 </td><td>  0.00000000 </td><td>         inf </td><td> True </td></tr></table><h2>Correlations (unreported correlations are < 0.100)</h2><table><tr><td>HB_n</td><td>HB_K</td><td>-0.9380</td></tr><tr><td>HB_K</td><td>HB_ystress</td><td>-0.7366</td></tr><tr><td>HB_n</td><td>HB_ystress</td><td>0.6757</td></tr></table>"
      ],
      "text/plain": [
       "<lmfit.model.ModelResult at 0x1fe550fb408>"
      ]
     },
     "execution_count": 6,
     "metadata": {},
     "output_type": "execute_result"
    }
   ],
   "source": [
    "data=rheofit.rheodata.example_emulsion()\n",
    "model=rheofit.models.HB_model\n",
    "res_fit=model.fit(data['Stress'],x=data['Shear rate'],weights=1/(data['Stress']))\n",
    "res_fit"
   ]
  },
  {
   "cell_type": "code",
   "execution_count": 7,
   "metadata": {},
   "outputs": [
    {
     "data": {
      "image/png": "[encoded data removed]",
      "text/plain": [
       "<Figure size 432x288 with 1 Axes>"
      ]
     },
     "metadata": {
      "needs_background": "light"
     },
     "output_type": "display_data"
    }
   ],
   "source": [
    "data=rheofit.rheodata.example_emulsion()\n",
    "data=data[data['Shear rate']>0.1]\n",
    "model=rheofit.models.HB_model\n",
    "res_fit=model.fit(data['Stress'],x=data['Shear rate'],weights=1/(data['Stress']))\n",
    "\n",
    "kwarg={'xscale':'log','yscale':('log')}\n",
    "res_fit.plot_fit(ax_kws=kwarg,yerr=False);"
   ]
  },
  {
   "cell_type": "code",
   "execution_count": 8,
   "metadata": {},
   "outputs": [
    {
     "data": {
      "image/png": "[encoded data removed]",
      "text/plain": [
       "<Figure size 432x288 with 1 Axes>"
      ]
     },
     "metadata": {
      "needs_background": "light"
     },
     "output_type": "display_data"
    }
   ],
   "source": [
    "data=rheofit.rheodata.example_emulsion()\n",
    "data=data[data['Shear rate']>0.1]\n",
    "\n",
    "model=rheofit.models.HB_model\n",
    "res_fit=model.fit(data['Stress'],x=data['Shear rate'],weights=1/(data['Stress']))\n",
    "\n",
    "def plot_fit(res_fit, xlist=None):\n",
    "    if xlist is None:\n",
    "        xlist=res_fit.userkws['x']\n",
    "    \n",
    "    plt.plot(res_fit.userkws['x'], res_fit.data,'o',label='Data')\n",
    "    plt.plot(xlist, res_fit.eval(x=xlist),label='Best fit')\n",
    "    plt.yscale('log')\n",
    "    plt.xscale('log')\n",
    "    plt.ylabel('$\\sigma [Pa]$')\n",
    "    plt.xlabel('$\\dot\\gamma [1/s]$')\n",
    "\n",
    "plot_fit(res_fit);"
   ]
  },
  {
   "cell_type": "markdown",
   "metadata": {},
   "source": [
    "## Explore fit results with pybroom "
   ]
  },
  {
   "cell_type": "code",
   "execution_count": 9,
   "metadata": {},
   "outputs": [
    {
     "data": {
      "text/html": [
       "<div>\n",
       "<style scoped>\n",
       "    .dataframe tbody tr th:only-of-type {\n",
       "        vertical-align: middle;\n",
       "    }\n",
       "\n",
       "    .dataframe tbody tr th {\n",
       "        vertical-align: top;\n",
       "    }\n",
       "\n",
       "    .dataframe thead th {\n",
       "        text-align: right;\n",
       "    }\n",
       "</style>\n",
       "<table border=\"1\" class=\"dataframe\">\n",
       "  <thead>\n",
       "    <tr style=\"text-align: right;\">\n",
       "      <th></th>\n",
       "      <th>model</th>\n",
       "      <th>method</th>\n",
       "      <th>num_params</th>\n",
       "      <th>num_data_points</th>\n",
       "      <th>chisqr</th>\n",
       "      <th>redchi</th>\n",
       "      <th>AIC</th>\n",
       "      <th>BIC</th>\n",
       "      <th>num_func_eval</th>\n",
       "      <th>success</th>\n",
       "      <th>message</th>\n",
       "    </tr>\n",
       "  </thead>\n",
       "  <tbody>\n",
       "    <tr>\n",
       "      <td>0</td>\n",
       "      <td>Model(HB, prefix='HB_')</td>\n",
       "      <td>leastsq</td>\n",
       "      <td>3</td>\n",
       "      <td>101</td>\n",
       "      <td>0.523638</td>\n",
       "      <td>0.005343</td>\n",
       "      <td>-525.469582</td>\n",
       "      <td>-517.624221</td>\n",
       "      <td>29</td>\n",
       "      <td>True</td>\n",
       "      <td>Fit succeeded.</td>\n",
       "    </tr>\n",
       "  </tbody>\n",
       "</table>\n",
       "</div>"
      ],
      "text/latex": [
       "\\centering{\\begin{tabular}{lllrrrrrrrll}\n",
       "\\toprule\n",
       "{} &                    model &   method &  num\\_params &  num\\_data\\_points &    chisqr &    redchi &         AIC &         BIC &  num\\_func\\_eval &  success &         message \\\\\n",
       "\\midrule\n",
       "0 &  Model(HB, prefix='HB\\_') &  leastsq &           3 &              101 &  0.523638 &  0.005343 & -525.469582 & -517.624221 &             29 &     True &  Fit succeeded. \\\\\n",
       "\\bottomrule\n",
       "\\end{tabular}\n",
       "}"
      ],
      "text/plain": [
       "                     model   method  num_params  num_data_points    chisqr  \\\n",
       "0  Model(HB, prefix='HB_')  leastsq           3              101  0.523638   \n",
       "\n",
       "     redchi         AIC         BIC  num_func_eval  success         message  \n",
       "0  0.005343 -525.469582 -517.624221             29     True  Fit succeeded.  "
      ]
     },
     "execution_count": 9,
     "metadata": {},
     "output_type": "execute_result"
    }
   ],
   "source": [
    "data=rheofit.rheodata.example_emulsion()\n",
    "model=rheofit.models.HB_model\n",
    "res_fit=model.fit(data['Stress'],x=data['Shear rate'],weights=1/(data['Stress']))\n",
    "\n",
    "pb.glance(res_fit)"
   ]
  },
  {
   "cell_type": "code",
   "execution_count": 10,
   "metadata": {},
   "outputs": [
    {
     "data": {
      "text/html": [
       "<div>\n",
       "<style scoped>\n",
       "    .dataframe tbody tr th:only-of-type {\n",
       "        vertical-align: middle;\n",
       "    }\n",
       "\n",
       "    .dataframe tbody tr th {\n",
       "        vertical-align: top;\n",
       "    }\n",
       "\n",
       "    .dataframe thead th {\n",
       "        text-align: right;\n",
       "    }\n",
       "</style>\n",
       "<table border=\"1\" class=\"dataframe\">\n",
       "  <thead>\n",
       "    <tr style=\"text-align: right;\">\n",
       "      <th></th>\n",
       "      <th>name</th>\n",
       "      <th>value</th>\n",
       "      <th>min</th>\n",
       "      <th>max</th>\n",
       "      <th>vary</th>\n",
       "      <th>expr</th>\n",
       "      <th>stderr</th>\n",
       "      <th>init_value</th>\n",
       "    </tr>\n",
       "  </thead>\n",
       "  <tbody>\n",
       "    <tr>\n",
       "      <td>0</td>\n",
       "      <td>HB_K</td>\n",
       "      <td>2.562815</td>\n",
       "      <td>0</td>\n",
       "      <td>inf</td>\n",
       "      <td>True</td>\n",
       "      <td>NaN</td>\n",
       "      <td>0.091189</td>\n",
       "      <td>1.0</td>\n",
       "    </tr>\n",
       "    <tr>\n",
       "      <td>1</td>\n",
       "      <td>HB_n</td>\n",
       "      <td>0.539288</td>\n",
       "      <td>0</td>\n",
       "      <td>1.0</td>\n",
       "      <td>True</td>\n",
       "      <td>NaN</td>\n",
       "      <td>0.007523</td>\n",
       "      <td>0.5</td>\n",
       "    </tr>\n",
       "    <tr>\n",
       "      <td>2</td>\n",
       "      <td>HB_ystress</td>\n",
       "      <td>3.186295</td>\n",
       "      <td>0</td>\n",
       "      <td>inf</td>\n",
       "      <td>True</td>\n",
       "      <td>NaN</td>\n",
       "      <td>0.062969</td>\n",
       "      <td>1.0</td>\n",
       "    </tr>\n",
       "  </tbody>\n",
       "</table>\n",
       "</div>"
      ],
      "text/latex": [
       "\\centering{\\begin{tabular}{llrrrlrrr}\n",
       "\\toprule\n",
       "{} &        name &     value &  min &  max &  vary &  expr &    stderr &  init\\_value \\\\\n",
       "\\midrule\n",
       "0 &        HB\\_K &  2.562815 &    0 &  inf &  True &   NaN &  0.091189 &         1.0 \\\\\n",
       "1 &        HB\\_n &  0.539288 &    0 &  1.0 &  True &   NaN &  0.007523 &         0.5 \\\\\n",
       "2 &  HB\\_ystress &  3.186295 &    0 &  inf &  True &   NaN &  0.062969 &         1.0 \\\\\n",
       "\\bottomrule\n",
       "\\end{tabular}\n",
       "}"
      ],
      "text/plain": [
       "         name     value  min  max  vary  expr    stderr  init_value\n",
       "0        HB_K  2.562815    0  inf  True   NaN  0.091189         1.0\n",
       "1        HB_n  0.539288    0  1.0  True   NaN  0.007523         0.5\n",
       "2  HB_ystress  3.186295    0  inf  True   NaN  0.062969         1.0"
      ]
     },
     "execution_count": 10,
     "metadata": {},
     "output_type": "execute_result"
    }
   ],
   "source": [
    "data=rheofit.rheodata.example_emulsion()\n",
    "model=rheofit.models.HB_model\n",
    "res_fit=model.fit(data['Stress'],x=data['Shear rate'],weights=1/(data['Stress']))\n",
    "\n",
    "pb.tidy(res_fit)"
   ]
  },
  {
   "cell_type": "code",
   "execution_count": 11,
   "metadata": {},
   "outputs": [
    {
     "data": {
      "text/html": [
       "<div>\n",
       "<style scoped>\n",
       "    .dataframe tbody tr th:only-of-type {\n",
       "        vertical-align: middle;\n",
       "    }\n",
       "\n",
       "    .dataframe tbody tr th {\n",
       "        vertical-align: top;\n",
       "    }\n",
       "\n",
       "    .dataframe thead th {\n",
       "        text-align: right;\n",
       "    }\n",
       "</style>\n",
       "<table border=\"1\" class=\"dataframe\">\n",
       "  <thead>\n",
       "    <tr style=\"text-align: right;\">\n",
       "      <th></th>\n",
       "      <th>x</th>\n",
       "      <th>data</th>\n",
       "      <th>best_fit</th>\n",
       "      <th>residual</th>\n",
       "    </tr>\n",
       "  </thead>\n",
       "  <tbody>\n",
       "    <tr>\n",
       "      <td>0</td>\n",
       "      <td>999.894750</td>\n",
       "      <td>131.224750</td>\n",
       "      <td>109.492113</td>\n",
       "      <td>-0.165614</td>\n",
       "    </tr>\n",
       "    <tr>\n",
       "      <td>1</td>\n",
       "      <td>891.251000</td>\n",
       "      <td>121.572250</td>\n",
       "      <td>103.098212</td>\n",
       "      <td>-0.151959</td>\n",
       "    </tr>\n",
       "    <tr>\n",
       "      <td>2</td>\n",
       "      <td>794.328250</td>\n",
       "      <td>112.565250</td>\n",
       "      <td>97.083545</td>\n",
       "      <td>-0.137535</td>\n",
       "    </tr>\n",
       "    <tr>\n",
       "      <td>3</td>\n",
       "      <td>707.946000</td>\n",
       "      <td>104.258000</td>\n",
       "      <td>91.430975</td>\n",
       "      <td>-0.123032</td>\n",
       "    </tr>\n",
       "    <tr>\n",
       "      <td>4</td>\n",
       "      <td>630.957500</td>\n",
       "      <td>96.582950</td>\n",
       "      <td>86.118672</td>\n",
       "      <td>-0.108345</td>\n",
       "    </tr>\n",
       "    <tr>\n",
       "      <td>...</td>\n",
       "      <td>...</td>\n",
       "      <td>...</td>\n",
       "      <td>...</td>\n",
       "      <td>...</td>\n",
       "    </tr>\n",
       "    <tr>\n",
       "      <td>96</td>\n",
       "      <td>0.015848</td>\n",
       "      <td>3.098968</td>\n",
       "      <td>3.460439</td>\n",
       "      <td>0.116642</td>\n",
       "    </tr>\n",
       "    <tr>\n",
       "      <td>97</td>\n",
       "      <td>0.014126</td>\n",
       "      <td>3.046845</td>\n",
       "      <td>3.443949</td>\n",
       "      <td>0.130333</td>\n",
       "    </tr>\n",
       "    <tr>\n",
       "      <td>98</td>\n",
       "      <td>0.012588</td>\n",
       "      <td>2.997400</td>\n",
       "      <td>3.428427</td>\n",
       "      <td>0.143800</td>\n",
       "    </tr>\n",
       "    <tr>\n",
       "      <td>99</td>\n",
       "      <td>0.011219</td>\n",
       "      <td>2.950915</td>\n",
       "      <td>3.413850</td>\n",
       "      <td>0.156878</td>\n",
       "    </tr>\n",
       "    <tr>\n",
       "      <td>100</td>\n",
       "      <td>0.010000</td>\n",
       "      <td>2.906797</td>\n",
       "      <td>3.400155</td>\n",
       "      <td>0.169726</td>\n",
       "    </tr>\n",
       "  </tbody>\n",
       "</table>\n",
       "<p>101 rows × 4 columns</p>\n",
       "</div>"
      ],
      "text/latex": [
       "\\centering{\\begin{tabular}{lrrrr}\n",
       "\\toprule\n",
       "{} &           x &        data &    best\\_fit &  residual \\\\\n",
       "\\midrule\n",
       "0   &  999.894750 &  131.224750 &  109.492113 & -0.165614 \\\\\n",
       "1   &  891.251000 &  121.572250 &  103.098212 & -0.151959 \\\\\n",
       "2   &  794.328250 &  112.565250 &   97.083545 & -0.137535 \\\\\n",
       "3   &  707.946000 &  104.258000 &   91.430975 & -0.123032 \\\\\n",
       "4   &  630.957500 &   96.582950 &   86.118672 & -0.108345 \\\\\n",
       "5   &  562.341500 &   89.495925 &   81.126173 & -0.093521 \\\\\n",
       "6   &  501.187000 &   82.973725 &   76.434187 & -0.078815 \\\\\n",
       "7   &  446.683250 &   76.952300 &   72.024677 & -0.064035 \\\\\n",
       "8   &  398.109000 &   71.449250 &   67.880816 & -0.049944 \\\\\n",
       "9   &  354.815000 &   66.382500 &   63.986225 & -0.036098 \\\\\n",
       "10  &  316.227750 &   61.738000 &   60.325948 & -0.022872 \\\\\n",
       "11  &  281.838250 &   57.470050 &   56.886157 & -0.010160 \\\\\n",
       "12  &  251.188750 &   53.562825 &   53.653459 &  0.001692 \\\\\n",
       "13  &  223.872000 &   49.971150 &   50.615328 &  0.012891 \\\\\n",
       "14  &  199.527250 &   46.678000 &   47.760251 &  0.023185 \\\\\n",
       "15  &  177.829000 &   43.665100 &   45.076932 &  0.032333 \\\\\n",
       "16  &  158.490750 &   40.893600 &   42.555195 &  0.040632 \\\\\n",
       "17  &  141.253000 &   38.343550 &   40.184914 &  0.048023 \\\\\n",
       "18  &  125.893500 &   35.998150 &   37.957852 &  0.054439 \\\\\n",
       "19  &  112.202000 &   33.834100 &   35.864506 &  0.060011 \\\\\n",
       "20  &  100.000225 &   31.832825 &   33.897303 &  0.064854 \\\\\n",
       "21  &   89.125850 &   29.987525 &   32.048607 &  0.068731 \\\\\n",
       "22  &   79.433425 &   28.279775 &   30.311092 &  0.071829 \\\\\n",
       "23  &   70.794800 &   26.694725 &   28.678127 &  0.074299 \\\\\n",
       "24  &   63.095775 &   25.224025 &   27.143495 &  0.076097 \\\\\n",
       "25  &   56.234175 &   23.861250 &   25.701281 &  0.077114 \\\\\n",
       "26  &   50.118925 &   22.594175 &   24.345923 &  0.077531 \\\\\n",
       "27  &   44.668400 &   21.418600 &   23.072087 &  0.077199 \\\\\n",
       "28  &   39.810875 &   20.322825 &   21.875000 &  0.076376 \\\\\n",
       "29  &   35.481400 &   19.299625 &   20.749925 &  0.075147 \\\\\n",
       "30  &   31.622875 &   18.345225 &   19.692612 &  0.073446 \\\\\n",
       "31  &   28.183875 &   17.461225 &   18.698925 &  0.070883 \\\\\n",
       "32  &   25.119050 &   16.637150 &   17.765115 &  0.067798 \\\\\n",
       "33  &   22.387175 &   15.854425 &   16.887408 &  0.065154 \\\\\n",
       "34  &   19.952600 &   15.142100 &   16.062609 &  0.060791 \\\\\n",
       "35  &   17.782925 &   14.466350 &   15.287515 &  0.056764 \\\\\n",
       "36  &   15.848950 &   13.832200 &   14.558987 &  0.052543 \\\\\n",
       "37  &   14.125400 &   13.239375 &   13.874358 &  0.047962 \\\\\n",
       "38  &   12.589300 &   12.683750 &   13.230951 &  0.043142 \\\\\n",
       "39  &   11.220200 &   12.159000 &   12.626254 &  0.038429 \\\\\n",
       "40  &    9.999990 &   11.673425 &   12.057960 &  0.032941 \\\\\n",
       "41  &    8.912562 &   11.221750 &   11.523920 &  0.026927 \\\\\n",
       "42  &    7.943310 &   10.785100 &   11.021988 &  0.021964 \\\\\n",
       "43  &    7.079470 &   10.385050 &   10.550274 &  0.015910 \\\\\n",
       "44  &    6.309578 &    9.998685 &   10.106961 &  0.010829 \\\\\n",
       "45  &    5.623450 &    9.647470 &    9.690360 &  0.004446 \\\\\n",
       "46  &    5.011882 &    9.311640 &    9.298803 & -0.001379 \\\\\n",
       "47  &    4.466837 &    8.987080 &    8.930827 & -0.006259 \\\\\n",
       "48  &    3.981082 &    8.691690 &    8.585014 & -0.012273 \\\\\n",
       "49  &    3.548155 &    8.411305 &    8.260022 & -0.017986 \\\\\n",
       "50  &    3.162275 &    8.146395 &    7.954568 & -0.023547 \\\\\n",
       "51  &    2.818390 &    7.895768 &    7.667528 & -0.028907 \\\\\n",
       "52  &    2.511893 &    7.659020 &    7.397759 & -0.034112 \\\\\n",
       "53  &    2.238733 &    7.432132 &    7.144236 & -0.038737 \\\\\n",
       "54  &    1.995270 &    7.221855 &    6.905966 & -0.043741 \\\\\n",
       "55  &    1.778285 &    7.023707 &    6.682042 & -0.048645 \\\\\n",
       "56  &    1.584898 &    6.835063 &    6.471599 & -0.053176 \\\\\n",
       "57  &    1.412540 &    6.655800 &    6.273823 & -0.057390 \\\\\n",
       "58  &    1.258925 &    6.481415 &    6.087951 & -0.060706 \\\\\n",
       "59  &    1.122030 &    6.320292 &    5.913288 & -0.064396 \\\\\n",
       "60  &    1.000000 &    6.168960 &    5.749110 & -0.068059 \\\\\n",
       "61  &    0.891250 &    6.022328 &    5.594828 & -0.070986 \\\\\n",
       "62  &    0.794334 &    5.885282 &    5.449845 & -0.073988 \\\\\n",
       "63  &    0.707949 &    5.755240 &    5.313577 & -0.076741 \\\\\n",
       "64  &    0.630960 &    5.627407 &    5.185515 & -0.078525 \\\\\n",
       "65  &    0.562345 &    5.510838 &    5.065165 & -0.080872 \\\\\n",
       "66  &    0.501192 &    5.398845 &    4.952060 & -0.082756 \\\\\n",
       "67  &    0.446688 &    5.289307 &    4.845762 & -0.083857 \\\\\n",
       "68  &    0.398107 &    5.184628 &    4.745853 & -0.084630 \\\\\n",
       "69  &    0.354813 &    5.087360 &    4.651969 & -0.085583 \\\\\n",
       "70  &    0.316232 &    4.994620 &    4.563746 & -0.086268 \\\\\n",
       "71  &    0.281839 &    4.903512 &    4.480817 & -0.086203 \\\\\n",
       "72  &    0.251192 &    4.815292 &    4.402893 & -0.085644 \\\\\n",
       "73  &    0.223873 &    4.729872 &    4.329648 & -0.084616 \\\\\n",
       "74  &    0.199528 &    4.648013 &    4.260823 & -0.083302 \\\\\n",
       "75  &    0.177830 &    4.568455 &    4.196137 & -0.081498 \\\\\n",
       "76  &    0.158490 &    4.490795 &    4.135343 & -0.079151 \\\\\n",
       "77  &    0.141253 &    4.413418 &    4.078206 & -0.075953 \\\\\n",
       "78  &    0.125892 &    4.337580 &    4.024514 & -0.072175 \\\\\n",
       "79  &    0.112201 &    4.261750 &    3.974052 & -0.067507 \\\\\n",
       "80  &    0.099999 &    4.186445 &    3.926629 & -0.062061 \\\\\n",
       "81  &    0.089125 &    4.111598 &    3.882063 & -0.055826 \\\\\n",
       "82  &    0.079431 &    4.036218 &    3.840171 & -0.048572 \\\\\n",
       "83  &    0.070795 &    3.961225 &    3.800816 & -0.040495 \\\\\n",
       "84  &    0.063097 &    3.886750 &    3.763826 & -0.031626 \\\\\n",
       "85  &    0.056236 &    3.812663 &    3.729064 & -0.021926 \\\\\n",
       "86  &    0.050118 &    3.739257 &    3.696374 & -0.011468 \\\\\n",
       "87  &    0.044667 &    3.666965 &    3.665668 & -0.000354 \\\\\n",
       "88  &    0.039812 &    3.596097 &    3.636820 &  0.011324 \\\\\n",
       "89  &    0.035480 &    3.526772 &    3.609686 &  0.023510 \\\\\n",
       "90  &    0.031622 &    3.458772 &    3.584199 &  0.036263 \\\\\n",
       "91  &    0.028183 &    3.393145 &    3.560246 &  0.049247 \\\\\n",
       "92  &    0.025118 &    3.329848 &    3.537732 &  0.062431 \\\\\n",
       "93  &    0.022387 &    3.269595 &    3.516580 &  0.075540 \\\\\n",
       "94  &    0.019953 &    3.210183 &    3.496700 &  0.089253 \\\\\n",
       "95  &    0.017782 &    3.153433 &    3.478008 &  0.102928 \\\\\n",
       "96  &    0.015848 &    3.098968 &    3.460439 &  0.116642 \\\\\n",
       "97  &    0.014126 &    3.046845 &    3.443949 &  0.130333 \\\\\n",
       "98  &    0.012588 &    2.997400 &    3.428427 &  0.143800 \\\\\n",
       "99  &    0.011219 &    2.950915 &    3.413850 &  0.156878 \\\\\n",
       "100 &    0.010000 &    2.906797 &    3.400155 &  0.169726 \\\\\n",
       "\\bottomrule\n",
       "\\end{tabular}\n",
       "}"
      ],
      "text/plain": [
       "              x        data    best_fit  residual\n",
       "0    999.894750  131.224750  109.492113 -0.165614\n",
       "1    891.251000  121.572250  103.098212 -0.151959\n",
       "2    794.328250  112.565250   97.083545 -0.137535\n",
       "3    707.946000  104.258000   91.430975 -0.123032\n",
       "4    630.957500   96.582950   86.118672 -0.108345\n",
       "..          ...         ...         ...       ...\n",
       "96     0.015848    3.098968    3.460439  0.116642\n",
       "97     0.014126    3.046845    3.443949  0.130333\n",
       "98     0.012588    2.997400    3.428427  0.143800\n",
       "99     0.011219    2.950915    3.413850  0.156878\n",
       "100    0.010000    2.906797    3.400155  0.169726\n",
       "\n",
       "[101 rows x 4 columns]"
      ]
     },
     "execution_count": 11,
     "metadata": {},
     "output_type": "execute_result"
    }
   ],
   "source": [
    "data=rheofit.rheodata.example_emulsion()\n",
    "model=rheofit.models.HB_model\n",
    "res_fit=model.fit(data['Stress'],x=data['Shear rate'],weights=1/(data['Stress']))\n",
    "\n",
    "augmented=pb.augment(res_fit)\n",
    "augmented"
   ]
  },
  {
   "cell_type": "markdown",
   "metadata": {},
   "source": [
    "## Plot residuals"
   ]
  },
  {
   "cell_type": "code",
   "execution_count": 12,
   "metadata": {},
   "outputs": [
    {
     "data": {
      "image/png": "[encoded data removed]",
      "text/plain": [
       "<Figure size 432x288 with 1 Axes>"
      ]
     },
     "metadata": {
      "needs_background": "light"
     },
     "output_type": "display_data"
    }
   ],
   "source": [
    "data=rheofit.rheodata.example_emulsion()\n",
    "model=rheofit.models.HB_model\n",
    "res_fit=model.fit(data['Stress'],x=data['Shear rate'],weights=1/(data['Stress']))\n",
    "\n",
    "\n",
    "def plot_residuals(res_fit):\n",
    "    augmented=pb.augment(res_fit)\n",
    "    plt.plot('x','residual',data=augmented)\n",
    "    plt.xscale('log')\n",
    "    plt.ylabel('residual - relative deviation');\n",
    "    plt.xlabel('$\\dot\\gamma [1/s]$');\n",
    "    \n",
    "    return plt.gcf()\n",
    "\n",
    "plot_residuals(res_fit);"
   ]
  },
  {
   "cell_type": "markdown",
   "metadata": {},
   "source": [
    "## Confidence interval"
   ]
  },
  {
   "cell_type": "code",
   "execution_count": 13,
   "metadata": {},
   "outputs": [
    {
     "data": {
      "image/png": "[encoded data removed]",
      "text/plain": [
       "<Figure size 432x288 with 1 Axes>"
      ]
     },
     "metadata": {
      "needs_background": "light"
     },
     "output_type": "display_data"
    }
   ],
   "source": [
    "data=rheofit.rheodata.example_emulsion()\n",
    "data=data[data['Shear rate']>0.1]\n",
    "model=rheofit.models.HB_model\n",
    "res_fit=model.fit(data['Stress'],x=data['Shear rate'],weights=1/(data['Stress']))\n",
    "\n",
    "def plot_confidence(res_fit,expand=10):\n",
    "    dely = res_fit.eval_uncertainty(x=res_fit.userkws['x'],sigma=3)*expand\n",
    "    \n",
    "    plt.plot(res_fit.userkws['x'], res_fit.data,'o',color='black',label='Data',markersize=5)\n",
    "    plt.plot(res_fit.userkws['x'], res_fit.best_fit,label='Best fit TC model',color='red')\n",
    "    plt.fill_between(res_fit.userkws['x'], res_fit.best_fit-dely,res_fit.best_fit+dely,\n",
    "                     color='blue',alpha=0.2,label='0.9973 Confidence interval')\n",
    "    plt.yscale('log')\n",
    "    plt.xscale('log')\n",
    "    plt.ylabel('$\\sigma [Pa]$')\n",
    "    plt.xlabel('$\\dot\\gamma [1/s]$')\n",
    "    \n",
    "    return plt.gcf()\n",
    "\n",
    "plot_confidence(res_fit);"
   ]
  },
  {
   "cell_type": "markdown",
   "metadata": {},
   "source": [
    "## Fit specific shear rate range"
   ]
  },
  {
   "cell_type": "code",
   "execution_count": 14,
   "metadata": {
    "scrolled": false
   },
   "outputs": [
    {
     "data": {
      "image/png": "[encoded data removed]",
      "text/plain": [
       "<Figure size 432x288 with 1 Axes>"
      ]
     },
     "metadata": {
      "needs_background": "light"
     },
     "output_type": "display_data"
    }
   ],
   "source": [
    "data=rheofit.rheodata.example_emulsion()\n",
    "data=data[data['Shear rate']>0.1]\n",
    "model=rheofit.models.HB_model\n",
    "res_fit=model.fit(data['Stress'],x=data['Shear rate'],weights=1/(data['Stress']))\n",
    "\n",
    "min_shear_rate=0.1\n",
    "max_shear_rate=1000\n",
    "\n",
    "def fit_range(res_fit,min_shear_rate=0.1,max_shear_rate=100):\n",
    "    data=pd.DataFrame.from_dict({'Shear rate':res_fit.userkws['x'],'Stress':res_fit.data})\n",
    "    mask=(data['Shear rate']>=min_shear_rate) & (data['Shear rate']<=max_shear_rate)\n",
    "    res_fit=model.fit(data[mask]['Stress'],x=data[mask]['Shear rate'],weights=1/(data[mask]['Stress']))\n",
    "    \n",
    "    return res_fit\n",
    "\n",
    "plot_fit(res_fit);\n",
    "plot_fit(fit_range(res_fit));"
   ]
  },
  {
   "cell_type": "code",
   "execution_count": 15,
   "metadata": {},
   "outputs": [
    {
     "data": {
      "text/html": [
       "<div>\n",
       "<style scoped>\n",
       "    .dataframe tbody tr th:only-of-type {\n",
       "        vertical-align: middle;\n",
       "    }\n",
       "\n",
       "    .dataframe tbody tr th {\n",
       "        vertical-align: top;\n",
       "    }\n",
       "\n",
       "    .dataframe thead th {\n",
       "        text-align: right;\n",
       "    }\n",
       "</style>\n",
       "<table border=\"1\" class=\"dataframe\">\n",
       "  <thead>\n",
       "    <tr style=\"text-align: right;\">\n",
       "      <th></th>\n",
       "      <th>name</th>\n",
       "      <th>value</th>\n",
       "      <th>min</th>\n",
       "      <th>max</th>\n",
       "      <th>vary</th>\n",
       "      <th>expr</th>\n",
       "      <th>stderr</th>\n",
       "      <th>init_value</th>\n",
       "    </tr>\n",
       "  </thead>\n",
       "  <tbody>\n",
       "    <tr>\n",
       "      <td>0</td>\n",
       "      <td>HB_K</td>\n",
       "      <td>2.946032</td>\n",
       "      <td>0</td>\n",
       "      <td>inf</td>\n",
       "      <td>True</td>\n",
       "      <td>NaN</td>\n",
       "      <td>0.033507</td>\n",
       "      <td>1.0</td>\n",
       "    </tr>\n",
       "    <tr>\n",
       "      <td>1</td>\n",
       "      <td>HB_n</td>\n",
       "      <td>0.452852</td>\n",
       "      <td>0</td>\n",
       "      <td>1.0</td>\n",
       "      <td>True</td>\n",
       "      <td>NaN</td>\n",
       "      <td>0.004298</td>\n",
       "      <td>0.5</td>\n",
       "    </tr>\n",
       "    <tr>\n",
       "      <td>2</td>\n",
       "      <td>HB_ystress</td>\n",
       "      <td>3.219395</td>\n",
       "      <td>0</td>\n",
       "      <td>inf</td>\n",
       "      <td>True</td>\n",
       "      <td>NaN</td>\n",
       "      <td>0.028909</td>\n",
       "      <td>1.0</td>\n",
       "    </tr>\n",
       "  </tbody>\n",
       "</table>\n",
       "</div>"
      ],
      "text/latex": [
       "\\centering{\\begin{tabular}{llrrrlrrr}\n",
       "\\toprule\n",
       "{} &        name &     value &  min &  max &  vary &  expr &    stderr &  init\\_value \\\\\n",
       "\\midrule\n",
       "0 &        HB\\_K &  2.946032 &    0 &  inf &  True &   NaN &  0.033507 &         1.0 \\\\\n",
       "1 &        HB\\_n &  0.452852 &    0 &  1.0 &  True &   NaN &  0.004298 &         0.5 \\\\\n",
       "2 &  HB\\_ystress &  3.219395 &    0 &  inf &  True &   NaN &  0.028909 &         1.0 \\\\\n",
       "\\bottomrule\n",
       "\\end{tabular}\n",
       "}"
      ],
      "text/plain": [
       "         name     value  min  max  vary  expr    stderr  init_value\n",
       "0        HB_K  2.946032    0  inf  True   NaN  0.033507         1.0\n",
       "1        HB_n  0.452852    0  1.0  True   NaN  0.004298         0.5\n",
       "2  HB_ystress  3.219395    0  inf  True   NaN  0.028909         1.0"
      ]
     },
     "metadata": {},
     "output_type": "display_data"
    },
    {
     "data": {
      "text/html": [
       "<div>\n",
       "<style scoped>\n",
       "    .dataframe tbody tr th:only-of-type {\n",
       "        vertical-align: middle;\n",
       "    }\n",
       "\n",
       "    .dataframe tbody tr th {\n",
       "        vertical-align: top;\n",
       "    }\n",
       "\n",
       "    .dataframe thead th {\n",
       "        text-align: right;\n",
       "    }\n",
       "</style>\n",
       "<table border=\"1\" class=\"dataframe\">\n",
       "  <thead>\n",
       "    <tr style=\"text-align: right;\">\n",
       "      <th></th>\n",
       "      <th>name</th>\n",
       "      <th>value</th>\n",
       "      <th>min</th>\n",
       "      <th>max</th>\n",
       "      <th>vary</th>\n",
       "      <th>expr</th>\n",
       "      <th>stderr</th>\n",
       "      <th>init_value</th>\n",
       "    </tr>\n",
       "  </thead>\n",
       "  <tbody>\n",
       "    <tr>\n",
       "      <td>0</td>\n",
       "      <td>HB_K</td>\n",
       "      <td>2.498040</td>\n",
       "      <td>0</td>\n",
       "      <td>inf</td>\n",
       "      <td>True</td>\n",
       "      <td>NaN</td>\n",
       "      <td>0.037762</td>\n",
       "      <td>1.0</td>\n",
       "    </tr>\n",
       "    <tr>\n",
       "      <td>1</td>\n",
       "      <td>HB_n</td>\n",
       "      <td>0.517414</td>\n",
       "      <td>0</td>\n",
       "      <td>1.0</td>\n",
       "      <td>True</td>\n",
       "      <td>NaN</td>\n",
       "      <td>0.003954</td>\n",
       "      <td>0.5</td>\n",
       "    </tr>\n",
       "    <tr>\n",
       "      <td>2</td>\n",
       "      <td>HB_ystress</td>\n",
       "      <td>3.589250</td>\n",
       "      <td>0</td>\n",
       "      <td>inf</td>\n",
       "      <td>True</td>\n",
       "      <td>NaN</td>\n",
       "      <td>0.034026</td>\n",
       "      <td>1.0</td>\n",
       "    </tr>\n",
       "  </tbody>\n",
       "</table>\n",
       "</div>"
      ],
      "text/latex": [
       "\\centering{\\begin{tabular}{llrrrlrrr}\n",
       "\\toprule\n",
       "{} &        name &     value &  min &  max &  vary &  expr &    stderr &  init\\_value \\\\\n",
       "\\midrule\n",
       "0 &        HB\\_K &  2.498040 &    0 &  inf &  True &   NaN &  0.037762 &         1.0 \\\\\n",
       "1 &        HB\\_n &  0.517414 &    0 &  1.0 &  True &   NaN &  0.003954 &         0.5 \\\\\n",
       "2 &  HB\\_ystress &  3.589250 &    0 &  inf &  True &   NaN &  0.034026 &         1.0 \\\\\n",
       "\\bottomrule\n",
       "\\end{tabular}\n",
       "}"
      ],
      "text/plain": [
       "         name     value  min  max  vary  expr    stderr  init_value\n",
       "0        HB_K  2.498040    0  inf  True   NaN  0.037762         1.0\n",
       "1        HB_n  0.517414    0  1.0  True   NaN  0.003954         0.5\n",
       "2  HB_ystress  3.589250    0  inf  True   NaN  0.034026         1.0"
      ]
     },
     "metadata": {},
     "output_type": "display_data"
    },
    {
     "data": {
      "text/html": [
       "<div>\n",
       "<style scoped>\n",
       "    .dataframe tbody tr th:only-of-type {\n",
       "        vertical-align: middle;\n",
       "    }\n",
       "\n",
       "    .dataframe tbody tr th {\n",
       "        vertical-align: top;\n",
       "    }\n",
       "\n",
       "    .dataframe thead th {\n",
       "        text-align: right;\n",
       "    }\n",
       "</style>\n",
       "<table border=\"1\" class=\"dataframe\">\n",
       "  <thead>\n",
       "    <tr style=\"text-align: right;\">\n",
       "      <th></th>\n",
       "      <th>name</th>\n",
       "      <th>value</th>\n",
       "      <th>min</th>\n",
       "      <th>max</th>\n",
       "      <th>vary</th>\n",
       "      <th>expr</th>\n",
       "      <th>stderr</th>\n",
       "      <th>init_value</th>\n",
       "    </tr>\n",
       "  </thead>\n",
       "  <tbody>\n",
       "    <tr>\n",
       "      <td>0</td>\n",
       "      <td>HB_K</td>\n",
       "      <td>1.880492</td>\n",
       "      <td>0</td>\n",
       "      <td>inf</td>\n",
       "      <td>True</td>\n",
       "      <td>NaN</td>\n",
       "      <td>0.051488</td>\n",
       "      <td>1.0</td>\n",
       "    </tr>\n",
       "    <tr>\n",
       "      <td>1</td>\n",
       "      <td>HB_n</td>\n",
       "      <td>0.595807</td>\n",
       "      <td>0</td>\n",
       "      <td>1.0</td>\n",
       "      <td>True</td>\n",
       "      <td>NaN</td>\n",
       "      <td>0.005270</td>\n",
       "      <td>0.5</td>\n",
       "    </tr>\n",
       "    <tr>\n",
       "      <td>2</td>\n",
       "      <td>HB_ystress</td>\n",
       "      <td>4.088222</td>\n",
       "      <td>0</td>\n",
       "      <td>inf</td>\n",
       "      <td>True</td>\n",
       "      <td>NaN</td>\n",
       "      <td>0.059816</td>\n",
       "      <td>1.0</td>\n",
       "    </tr>\n",
       "  </tbody>\n",
       "</table>\n",
       "</div>"
      ],
      "text/latex": [
       "\\centering{\\begin{tabular}{llrrrlrrr}\n",
       "\\toprule\n",
       "{} &        name &     value &  min &  max &  vary &  expr &    stderr &  init\\_value \\\\\n",
       "\\midrule\n",
       "0 &        HB\\_K &  1.880492 &    0 &  inf &  True &   NaN &  0.051488 &         1.0 \\\\\n",
       "1 &        HB\\_n &  0.595807 &    0 &  1.0 &  True &   NaN &  0.005270 &         0.5 \\\\\n",
       "2 &  HB\\_ystress &  4.088222 &    0 &  inf &  True &   NaN &  0.059816 &         1.0 \\\\\n",
       "\\bottomrule\n",
       "\\end{tabular}\n",
       "}"
      ],
      "text/plain": [
       "         name     value  min  max  vary  expr    stderr  init_value\n",
       "0        HB_K  1.880492    0  inf  True   NaN  0.051488         1.0\n",
       "1        HB_n  0.595807    0  1.0  True   NaN  0.005270         0.5\n",
       "2  HB_ystress  4.088222    0  inf  True   NaN  0.059816         1.0"
      ]
     },
     "metadata": {},
     "output_type": "display_data"
    }
   ],
   "source": [
    "data=rheofit.rheodata.example_emulsion()\n",
    "model=rheofit.models.HB_model\n",
    "res_fit=model.fit(data['Stress'],x=data['Shear rate'],weights=1/(data['Stress']))\n",
    "\n",
    "min_shear_rate=0.1\n",
    "max_shear_rate=1000\n",
    "\n",
    "def fit_range(res_fit,min_shear_rate=0.1,max_shear_rate=100):\n",
    "    data=pd.DataFrame.from_dict({'Shear rate':res_fit.userkws['x'],'Stress':res_fit.data})\n",
    "    mask=(data['Shear rate']>min_shear_rate) & (data['Shear rate']<max_shear_rate)\n",
    "    res_fit=model.fit(data[mask]['Stress'],x=data[mask]['Shear rate'],weights=1/(data[mask]['Stress']))\n",
    "    \n",
    "    return res_fit\n",
    "\n",
    "display(pb.tidy(fit_range(res_fit,min_shear_rate=0.1,max_shear_rate=10)))\n",
    "display(pb.tidy(fit_range(res_fit,min_shear_rate=0.1,max_shear_rate=100)))\n",
    "display(pb.tidy(fit_range(res_fit,min_shear_rate=0.1,max_shear_rate=1000)))"
   ]
  },
  {
   "cell_type": "markdown",
   "metadata": {},
   "source": [
    "## Reduced $\\chi^2$ sensitivity on shear rate range"
   ]
  },
  {
   "cell_type": "code",
   "execution_count": 16,
   "metadata": {},
   "outputs": [
    {
     "data": {
      "image/png": "[encoded data removed]",
      "text/plain": [
       "<Figure size 432x288 with 2 Axes>"
      ]
     },
     "metadata": {
      "needs_background": "light"
     },
     "output_type": "display_data"
    }
   ],
   "source": [
    "data=rheofit.rheodata.example_emulsion()\n",
    "model=rheofit.models.HB_model\n",
    "res_fit=model.fit(data['Stress'],x=data['Shear rate'],weights=1/(data['Stress']))\n",
    "\n",
    "\n",
    "def explore_redchi(res_fit,min_shear_rate=0.01,max_shear_rate=1000):\n",
    "    data=pd.DataFrame.from_dict({'Shear rate':res_fit.userkws['x'],'Stress':res_fit.data})\n",
    "    res_dict={min_shear:fit_range(res_fit,min_shear_rate=min_shear,max_shear_rate=1000) \n",
    "              for min_shear in data['Shear rate'][10:-1]}\n",
    "    \n",
    "    ax1= plt.subplot(2,1,1)\n",
    "    \n",
    "    plt.plot(data['Shear rate'],data['Stress'],'o')\n",
    "    plt.yscale('log')\n",
    "    plt.xscale('log')\n",
    "    plt.xlabel('$\\dot\\gamma [1/s]$')\n",
    "    plt.ylabel('$\\sigma [Pa]$')\n",
    "\n",
    "    ax2= plt.subplot(2,1,2,sharex = ax1)\n",
    "    \n",
    "    plt.plot(list(res_dict.keys()),pb.glance(res_dict)['redchi'])\n",
    "    plt.xscale('log')\n",
    "    plt.ylabel('$\\chi_{red}$')\n",
    "    plt.xlabel('$\\dot\\gamma_{min} [1/s]$')\n",
    "    \n",
    "    return plt.gcf()\n",
    "    \n",
    "explore_redchi(res_fit);"
   ]
  },
  {
   "cell_type": "markdown",
   "metadata": {},
   "source": [
    "## Model parameter sensitivity on shear rate range"
   ]
  },
  {
   "cell_type": "code",
   "execution_count": 18,
   "metadata": {},
   "outputs": [
    {
     "data": {
      "image/png": "[encoded data removed]",
      "text/plain": [
       "<Figure size 432x288 with 2 Axes>"
      ]
     },
     "metadata": {
      "needs_background": "light"
     },
     "output_type": "display_data"
    }
   ],
   "source": [
    "data=rheofit.rheodata.example_emulsion()\n",
    "data.sort_values('Shear rate',ascending=False, inplace=True)\n",
    "\n",
    "model=rheofit.models.HB_model\n",
    "res_fit=model.fit(data['Stress'],x=data['Shear rate'],weights=1/(data['Stress']))\n",
    "\n",
    "\n",
    "def explore_param_keephigh(res_fit,min_shear_rate=0.01,max_shear_rate=1000,param_name=None):\n",
    "    '''keep the right range of data for the fit\n",
    "    answer the question: how important it is how low we extend the analysis at low shear?\n",
    "    '''\n",
    "    data=pd.DataFrame.from_dict({'Shear rate':res_fit.userkws['x'],'Stress':res_fit.data})\n",
    "    data.sort_values('Shear rate',ascending=False, inplace=True)\n",
    "    res_fit=res_fit.model.fit(data['Stress'],x=data['Shear rate'],weights=1/(data['Stress']))\n",
    "    res_fit=fit_range(res_fit,min_shear_rate=min_shear_rate,max_shear_rate=max_shear_rate)\n",
    "    res_dict={min_shear:fit_range(res_fit,min_shear_rate=min_shear,max_shear_rate=max(res_fit.userkws['x'])) \n",
    "              for min_shear in res_fit.userkws['x'][5:-1]}\n",
    "    \n",
    "    ax1= plt.subplot(2,1,1)\n",
    "    \n",
    "    plt.plot(data['Shear rate'],data['Stress'],'o')\n",
    "    plt.yscale('log')\n",
    "    plt.xscale('log')\n",
    "    plt.xlabel('$\\dot\\gamma [1/s]$')\n",
    "    plt.ylabel('$\\sigma [Pa]$')\n",
    "    \n",
    "    xlim=plt.gca().get_xlim()\n",
    "    plt.axvspan(xlim[0],min_shear_rate,color='gray',alpha=0.5)\n",
    "    plt.axvspan(max_shear_rate,xlim[1],color='gray',alpha=0.5)\n",
    "    \n",
    "    ax2= plt.subplot(2,1,2,sharex = ax1)\n",
    "    \n",
    "    plt.plot(list(res_dict.keys()),pb.tidy(res_dict)['value'][pb.tidy(res_dict)['name']=='HB_n'])\n",
    "    plt.xscale('log')\n",
    "    plt.ylabel('$'+param_name+'$')\n",
    "    plt.xlabel('$\\dot\\gamma_{min} [1/s]$')\n",
    "    \n",
    "    plt.axvspan(xlim[0],min_shear_rate,color='gray',alpha=0.5)\n",
    "    plt.axvspan(max_shear_rate,xlim[1],color='gray',alpha=0.5)\n",
    "\n",
    "    plt.gca().set_xlim(xlim)\n",
    "    \n",
    "    return plt.gcf()\n",
    "    \n",
    "explore_param_keephigh(res_fit,min_shear_rate=0.1,param_name='n');"
   ]
  },
  {
   "cell_type": "code",
   "execution_count": 19,
   "metadata": {},
   "outputs": [
    {
     "data": {
      "image/png": "[encoded data removed]",
      "text/plain": [
       "<Figure size 432x288 with 2 Axes>"
      ]
     },
     "metadata": {
      "needs_background": "light"
     },
     "output_type": "display_data"
    }
   ],
   "source": [
    "data=rheofit.rheodata.example_emulsion()\n",
    "data.sort_values('Shear rate',ascending=False, inplace=True)\n",
    "\n",
    "model=rheofit.models.HB_model\n",
    "res_fit=model.fit(data['Stress'],x=data['Shear rate'],weights=1/(data['Stress']))\n",
    "\n",
    "\n",
    "def explore_param_keeplow(res_fit,min_shear_rate=0.01,max_shear_rate=1001,param_name=None):\n",
    "    '''keep the right range of data for the fit\n",
    "    answer the question: how important it is how low we extend the analysis at low shear?\n",
    "    '''\n",
    "    \n",
    "    data=pd.DataFrame.from_dict({'Shear rate':res_fit.userkws['x'],'Stress':res_fit.data})\n",
    "    data.sort_values('Shear rate',ascending=True, inplace=True)\n",
    "    res_fit=res_fit.model.fit(data['Stress'],x=data['Shear rate'],weights=1/(data['Stress']))\n",
    "    res_fit=fit_range(res_fit,min_shear_rate=min_shear_rate,max_shear_rate=max_shear_rate)\n",
    "    res_dict={max_shear:fit_range(res_fit,min_shear_rate=min(res_fit.userkws['x']),max_shear_rate=max_shear) \n",
    "              for max_shear in res_fit.userkws['x'][5:-1]}\n",
    "    \n",
    "    ax1= plt.subplot(2,1,1)\n",
    "    \n",
    "    plt.plot(data['Shear rate'],data['Stress'],'o')\n",
    "    plt.yscale('log')\n",
    "    plt.xscale('log')\n",
    "    plt.xlabel('$\\dot\\gamma [1/s]$')\n",
    "    plt.ylabel('$\\sigma [Pa]$')\n",
    "    \n",
    "    xlim=plt.gca().get_xlim()\n",
    "    plt.axvspan(xlim[0],min_shear_rate,color='gray',alpha=0.5)\n",
    "    plt.axvspan(max_shear_rate,xlim[1],color='gray',alpha=0.5)\n",
    "    \n",
    "    ax2= plt.subplot(2,1,2,sharex = ax1)\n",
    "    \n",
    "    plt.plot(list(res_dict.keys()),pb.tidy(res_dict)['value'][pb.tidy(res_dict)['name']=='HB_n'])\n",
    "    plt.xscale('log')\n",
    "    plt.ylabel('$'+param_name+'$')\n",
    "    plt.xlabel('$\\dot\\gamma_{max} [1/s]$')\n",
    "    \n",
    "    plt.axvspan(xlim[0],min_shear_rate,color='gray',alpha=0.5)\n",
    "    plt.axvspan(max_shear_rate,xlim[1],color='gray',alpha=0.5)\n",
    "\n",
    "    plt.gca().set_xlim(xlim)\n",
    "    \n",
    "    return plt.gcf()\n",
    "    \n",
    "explore_param_keeplow(res_fit,min_shear_rate=0.1,param_name='n');"
   ]
  },
  {
   "cell_type": "markdown",
   "metadata": {},
   "source": [
    "## Emcee"
   ]
  },
  {
   "cell_type": "code",
   "execution_count": 20,
   "metadata": {},
   "outputs": [
    {
     "data": {
      "text/html": [
       "<h2> Model</h2> Model(HB, prefix='HB_') <h2>Fit Statistics</h2><table><tr><td>fitting method</td><td>leastsq</td><td></td></tr><tr><td># function evals</td><td>22</td><td></td></tr><tr><td># data points</td><td>80</td><td></td></tr><tr><td># variables</td><td>3</td><td></td></tr><tr><td>chi-square</td><td> 10.8588639</td><td></td></tr><tr><td>reduced chi-square</td><td> 0.14102421</td><td></td></tr><tr><td>Akaike info crit.</td><td>-153.763595</td><td></td></tr><tr><td>Bayesian info crit.</td><td>-146.617515</td><td></td></tr></table><h2>Variables</h2><table><tr><th> name </th><th> value </th><th> standard error </th><th> relative error </th><th> initial value </th><th> min </th><th> max </th><th> vary </th></tr><tr><td> HB_n </td><td>  0.59580716 </td><td>  0.00527012 </td><td> 0.88% </td><td> 0.5 </td><td>  0.00000000 </td><td>  1.00000000 </td><td> True </td></tr><tr><td> HB_K </td><td>  1.88049246 </td><td>  0.05148762 </td><td> 2.74% </td><td> 1.0 </td><td>  0.00000000 </td><td>         inf </td><td> True </td></tr><tr><td> HB_ystress </td><td>  4.08822217 </td><td>  0.05981584 </td><td> 1.46% </td><td> 1.0 </td><td>  0.00000000 </td><td>         inf </td><td> True </td></tr></table><h2>Correlations (unreported correlations are < 0.100)</h2><table><tr><td>HB_n</td><td>HB_K</td><td>-0.9655</td></tr><tr><td>HB_K</td><td>HB_ystress</td><td>-0.8080</td></tr><tr><td>HB_n</td><td>HB_ystress</td><td>0.7536</td></tr></table>"
      ],
      "text/plain": [
       "<lmfit.model.ModelResult at 0x1fe5847f6c8>"
      ]
     },
     "metadata": {},
     "output_type": "display_data"
    },
    {
     "data": {
      "image/png": "[encoded data removed]",
      "text/plain": [
       "<Figure size 547.2x547.2 with 9 Axes>"
      ]
     },
     "metadata": {
      "needs_background": "light"
     },
     "output_type": "display_data"
    }
   ],
   "source": [
    "data=rheofit.rheodata.example_emulsion()\n",
    "data=data[data['Shear rate']>0.1]\n",
    "model=rheofit.models.HB_model\n",
    "res_fit=model.fit(data['Stress'],x=data['Shear rate'],weights=1/(data['Stress']*0.1))\n",
    "res_emcee=res_fit.emcee(steps=1000, nwalkers=50, burn=300)\n",
    "\n",
    "corner.corner(res_emcee.flatchain, labels=res_emcee.var_names, truths=[res_fit.params[key].value for key in res_fit.params.keys()]);\n",
    "display(res_fit)"
   ]
  },
  {
   "cell_type": "code",
   "execution_count": null,
   "metadata": {},
   "outputs": [],
   "source": []
  }
 ],
 "metadata": {
  "hide_input": false,
  "kernel_info": {
   "name": "python3"
  },
  "kernelspec": {
   "display_name": "Python 3",
   "language": "python",
   "name": "python3"
  },
  "language_info": {
   "codemirror_mode": {
    "name": "ipython",
    "version": 3
   },
   "file_extension": ".py",
   "mimetype": "text/x-python",
   "name": "python",
   "nbconvert_exporter": "python",
   "pygments_lexer": "ipython3",
   "version": "3.7.4"
  },
  "nteract": {
   "version": "0.15.0"
  }
 },
 "nbformat": 4,
 "nbformat_minor": 2
}
