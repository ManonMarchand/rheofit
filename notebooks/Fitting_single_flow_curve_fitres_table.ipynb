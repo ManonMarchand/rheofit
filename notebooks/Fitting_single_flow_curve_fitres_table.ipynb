{
  "nbformat": 4,
  "nbformat_minor": 0,
  "metadata": {
    "colab": {
      "name": "Fitting_single_flow_curve.ipynb",
      "provenance": [],
      "include_colab_link": true
    },
    "hide_input": false,
    "kernel_info": {
      "name": "python3"
    },
    "kernelspec": {
      "display_name": "Python 3",
      "language": "python",
      "name": "python3"
    },
    "language_info": {
      "codemirror_mode": {
        "name": "ipython",
        "version": 3
      },
      "file_extension": ".py",
      "mimetype": "text/x-python",
      "name": "python",
      "nbconvert_exporter": "python",
      "pygments_lexer": "ipython3",
      "version": "3.7.4"
    },
    "nteract": {
      "version": "0.15.0"
    }
  },
  "cells": [
    {
      "cell_type": "markdown",
      "metadata": {
        "id": "view-in-github",
        "colab_type": "text"
      },
      "source": [
        "<a href=\"https://colab.research.google.com/github/rheopy/rheofit/blob/master/notebooks/Fitting_single_flow_curve_fitres_table.ipynb\" target=\"_parent\"><img src=\"https://colab.research.google.com/assets/colab-badge.svg\" alt=\"Open In Colab\"/></a>"
      ]
    },
    {
      "cell_type": "markdown",
      "metadata": {
        "colab_type": "text",
        "id": "H9vLPn3ICwlA"
      },
      "source": [
        "# Fitting single flow curve\n",
        "\n",
        "This notebook contains a list scripts focusing on analysis and visualization of a single flow curve. A flow curve is the measurement of the viscosity as a function of shear rate. In a measurment a constant shear rate is imposed on a fluid sample and the required shear stress is measured. \n",
        "\n",
        "Since for Non newtonian fluids the viscosity is a function of the shear rate, the flow curve measurement is a way to characterize such functional dependence. \n",
        "\n",
        "Rheological models can be used to fit the flow curve and extract parameters that in some case directly relates to fundamental material properties.\n",
        "\n",
        "In this notebook we provide some example of analysis of flow curves using powerful python libraries that we simply integrate to make flow curves analysis simple, easy to share and reproduce.\n",
        "\n",
        "We provide a sequence of exaples structured as \"recepies\" each with a specific scope, plotting data, fitting data, evaluating confidence itervals...\n",
        "\n",
        "Each recepy can be considered \"stand alone\" meaning that the only objects that cells share are the general imports in the first cell and the functions defined through the notebook. This should make it easy to copy and paste a cell in case you want to use it as a starting point for your own analysis."
      ]
    },
    {
      "cell_type": "code",
      "metadata": {
        "colab_type": "code",
        "id": "LYT_Q3zkDIE3",
        "outputId": "12902ef6-590c-4f87-c8c5-e747ff8c3777",
        "colab": {
          "base_uri": "https://localhost:8080/",
          "height": 884
        }
      },
      "source": [
        "#executing the notebook in colab requires installation of the rheofit library\n",
        "!pip install git+https://github.com/marcocaggioni/rheofit.git"
      ],
      "execution_count": 0,
      "outputs": [
        {
          "output_type": "stream",
          "text": [
            "Collecting git+https://github.com/marcocaggioni/rheofit.git\n",
            "  Cloning https://github.com/marcocaggioni/rheofit.git to /tmp/pip-req-build-1s9lkkx1\n",
            "  Running command git clone -q https://github.com/marcocaggioni/rheofit.git /tmp/pip-req-build-1s9lkkx1\n",
            "Collecting lmfit\n",
            "\u001b[?25l  Downloading https://files.pythonhosted.org/packages/59/6e/117794cf85b7345361877e49245870490ae438f1981dea3c6af1316b30e7/lmfit-0.9.14.tar.gz (250kB)\n",
            "\u001b[K     |████████████████████████████████| 256kB 2.8MB/s \n",
            "\u001b[?25hCollecting xmltodict\n",
            "  Downloading https://files.pythonhosted.org/packages/28/fd/30d5c1d3ac29ce229f6bdc40bbc20b28f716e8b363140c26eff19122d8a5/xmltodict-0.12.0-py2.py3-none-any.whl\n",
            "Collecting emcee\n",
            "\u001b[?25l  Downloading https://files.pythonhosted.org/packages/97/f4/00151f5f843088337c6a53edd6cbb2df340f1044d23080c662f95219cc3f/emcee-3.0.2-py2.py3-none-any.whl (41kB)\n",
            "\u001b[K     |████████████████████████████████| 51kB 6.7MB/s \n",
            "\u001b[?25hCollecting corner\n",
            "  Downloading https://files.pythonhosted.org/packages/65/af/a7ba022f2d5787f51db91b5550cbe8e8c40a6eebd8f15119e743a09a9c19/corner-2.0.1.tar.gz\n",
            "Collecting pybroom\n",
            "  Downloading https://files.pythonhosted.org/packages/cf/b5/3eafab4e85cddd1a1cc99fce24e794ffefe360acef75b68dda3a20af8827/pybroom-0.2-py3-none-any.whl\n",
            "Collecting asteval>=0.9.12\n",
            "\u001b[?25l  Downloading https://files.pythonhosted.org/packages/b5/a9/c353f8fde8c7a5eedca5ac4671f8378da2cea71878c1fd11ec89d22c47a8/asteval-0.9.17.tar.gz (53kB)\n",
            "\u001b[K     |████████████████████████████████| 61kB 8.2MB/s \n",
            "\u001b[?25hRequirement already satisfied: numpy>=1.10 in /usr/local/lib/python3.6/dist-packages (from lmfit->rheofit==0.1.0) (1.17.4)\n",
            "Requirement already satisfied: scipy>=0.19 in /usr/local/lib/python3.6/dist-packages (from lmfit->rheofit==0.1.0) (1.3.3)\n",
            "Requirement already satisfied: six>1.10 in /usr/local/lib/python3.6/dist-packages (from lmfit->rheofit==0.1.0) (1.12.0)\n",
            "Collecting uncertainties>=3.0\n",
            "\u001b[?25l  Downloading https://files.pythonhosted.org/packages/2a/c2/babbe5b16141859dd799ed31c03987100a7b6d0ca7c0ed4429c96ce60fdf/uncertainties-3.1.2.tar.gz (232kB)\n",
            "\u001b[K     |████████████████████████████████| 235kB 37.7MB/s \n",
            "\u001b[?25hRequirement already satisfied: matplotlib in /usr/local/lib/python3.6/dist-packages (from corner->rheofit==0.1.0) (3.1.2)\n",
            "Requirement already satisfied: pandas in /usr/local/lib/python3.6/dist-packages (from pybroom->rheofit==0.1.0) (0.25.3)\n",
            "Requirement already satisfied: python-dateutil>=2.1 in /usr/local/lib/python3.6/dist-packages (from matplotlib->corner->rheofit==0.1.0) (2.6.1)\n",
            "Requirement already satisfied: kiwisolver>=1.0.1 in /usr/local/lib/python3.6/dist-packages (from matplotlib->corner->rheofit==0.1.0) (1.1.0)\n",
            "Requirement already satisfied: pyparsing!=2.0.4,!=2.1.2,!=2.1.6,>=2.0.1 in /usr/local/lib/python3.6/dist-packages (from matplotlib->corner->rheofit==0.1.0) (2.4.5)\n",
            "Requirement already satisfied: cycler>=0.10 in /usr/local/lib/python3.6/dist-packages (from matplotlib->corner->rheofit==0.1.0) (0.10.0)\n",
            "Requirement already satisfied: pytz>=2017.2 in /usr/local/lib/python3.6/dist-packages (from pandas->pybroom->rheofit==0.1.0) (2018.9)\n",
            "Requirement already satisfied: setuptools in /usr/local/lib/python3.6/dist-packages (from kiwisolver>=1.0.1->matplotlib->corner->rheofit==0.1.0) (42.0.1)\n",
            "Building wheels for collected packages: rheofit, lmfit, corner, asteval, uncertainties\n",
            "  Building wheel for rheofit (setup.py) ... \u001b[?25l\u001b[?25hdone\n",
            "  Created wheel for rheofit: filename=rheofit-0.1.0-cp36-none-any.whl size=7848 sha256=a2e8e32da5a3667ec965f91ce1bed14a5f5c04cc98f3386c9f034e25dd29ebb6\n",
            "  Stored in directory: /tmp/pip-ephem-wheel-cache-tm606o2_/wheels/f3/49/bb/fc1b0ac0a312efb9b4a46588084075de022a26ac00c8cf1193\n",
            "  Building wheel for lmfit (setup.py) ... \u001b[?25l\u001b[?25hdone\n",
            "  Created wheel for lmfit: filename=lmfit-0.9.14-cp36-none-any.whl size=88612 sha256=4ac35bec3be52b7d9adc0cb91985c3fbefa23c7071280dfdf2134caf8a90da3a\n",
            "  Stored in directory: /root/.cache/pip/wheels/a2/ad/74/1efa3d8294126064517e79592df763b8f30e010c18fadf2d6a\n",
            "  Building wheel for corner (setup.py) ... \u001b[?25l\u001b[?25hdone\n",
            "  Created wheel for corner: filename=corner-2.0.1-cp36-none-any.whl size=11643 sha256=ad4a45ea448ad19304764e905142e4df9fe83d642740340982f149403169d0c4\n",
            "  Stored in directory: /root/.cache/pip/wheels/70/d8/e5/e0e7974a2a5757483ea5a180c937041cf6872dc9993d78234a\n",
            "  Building wheel for asteval (setup.py) ... \u001b[?25l\u001b[?25hdone\n",
            "  Created wheel for asteval: filename=asteval-0.9.17-cp36-none-any.whl size=17745 sha256=d8345ddba3c414e7ae3dda305af8be3cc81efaa1789a9b0e63c86f9af0667563\n",
            "  Stored in directory: /root/.cache/pip/wheels/49/74/b2/5b7bcf77e0eed2c654451c84b52d5c7d2fbd95c0e3b36efe0e\n",
            "  Building wheel for uncertainties (setup.py) ... \u001b[?25l\u001b[?25hdone\n",
            "  Created wheel for uncertainties: filename=uncertainties-3.1.2-cp36-none-any.whl size=96457 sha256=c347f2ad8345c791eda502b581c9e17c71cc9bd9ea77ad0dbd204596ff0fb03d\n",
            "  Stored in directory: /root/.cache/pip/wheels/d9/d3/0e/5b0b743a8abd50373705427438456da5dc2621891138d7a618\n",
            "Successfully built rheofit lmfit corner asteval uncertainties\n",
            "Installing collected packages: asteval, uncertainties, lmfit, xmltodict, emcee, corner, pybroom, rheofit\n",
            "Successfully installed asteval-0.9.17 corner-2.0.1 emcee-3.0.2 lmfit-0.9.14 pybroom-0.2 rheofit-0.1.0 uncertainties-3.1.2 xmltodict-0.12.0\n"
          ],
          "name": "stdout"
        }
      ]
    },
    {
      "cell_type": "code",
      "metadata": {
        "colab_type": "code",
        "id": "gjPMl7UDCwlC",
        "colab": {}
      },
      "source": [
        "%matplotlib inline\n",
        "\n",
        "import sys\n",
        "sys.path.append(\"./../\") #in case you are running the notebook in binder or from the cloned repository\n",
        "import rheofit\n",
        "import lmfit\n",
        "import pybroom as pb\n",
        "import matplotlib.pyplot as plt\n",
        "import pandas as pd\n",
        "import emcee\n",
        "import corner\n",
        "import seaborn"
      ],
      "execution_count": 0,
      "outputs": []
    },
    {
      "cell_type": "markdown",
      "metadata": {
        "colab_type": "text",
        "id": "ZWuxcdcuCwlH"
      },
      "source": [
        "## Getting Example flow curve data\n",
        "\n",
        "To make demonstration simple we stored an example flow curve in the rheodata module. In the future we would like to collect flow curves from published works to make them easily available for training purpouse. \n",
        "\n",
        "The data provided refer to a 75w% mineral oil in 11%LAS surfactant solution. The emusion droplets size ranges from 1-10 um and the measurement was performed with a Couette geometry at 40C.\n",
        "\n",
        "The example_emulsion method returns a Pandas dataframe with column 'Shear rate' in [1/s] and column 'Stress' in [Pa]. The choice of the name convention is from the excel exported file by the TA Trios software. A possibly better choice could be the RheoML convention 'ShearRate' and 'ShearStress'.\n",
        "\n",
        "Example of importing data from different file formats are provided in a different Notebook, here we focus on possible analysis and visualization on a single flow curve."
      ]
    },
    {
      "cell_type": "code",
      "metadata": {
        "colab_type": "code",
        "id": "-IdwBgCgCwlI",
        "outputId": "8b1c4657-dfc1-44ac-81e4-51474c343c3a",
        "scrolled": false,
        "colab": {
          "base_uri": "https://localhost:8080/",
          "height": 204
        }
      },
      "source": [
        "#using provided example data\n",
        "example_data=rheofit.rheodata.example_emulsion()\n",
        "example_data.head()"
      ],
      "execution_count": 0,
      "outputs": [
        {
          "output_type": "execute_result",
          "data": {
            "text/html": [
              "<div>\n",
              "<style scoped>\n",
              "    .dataframe tbody tr th:only-of-type {\n",
              "        vertical-align: middle;\n",
              "    }\n",
              "\n",
              "    .dataframe tbody tr th {\n",
              "        vertical-align: top;\n",
              "    }\n",
              "\n",
              "    .dataframe thead th {\n",
              "        text-align: right;\n",
              "    }\n",
              "</style>\n",
              "<table border=\"1\" class=\"dataframe\">\n",
              "  <thead>\n",
              "    <tr style=\"text-align: right;\">\n",
              "      <th></th>\n",
              "      <th>Shear rate</th>\n",
              "      <th>Stress</th>\n",
              "    </tr>\n",
              "  </thead>\n",
              "  <tbody>\n",
              "    <tr>\n",
              "      <th>0</th>\n",
              "      <td>999.89475</td>\n",
              "      <td>131.22475</td>\n",
              "    </tr>\n",
              "    <tr>\n",
              "      <th>1</th>\n",
              "      <td>891.25100</td>\n",
              "      <td>121.57225</td>\n",
              "    </tr>\n",
              "    <tr>\n",
              "      <th>2</th>\n",
              "      <td>794.32825</td>\n",
              "      <td>112.56525</td>\n",
              "    </tr>\n",
              "    <tr>\n",
              "      <th>3</th>\n",
              "      <td>707.94600</td>\n",
              "      <td>104.25800</td>\n",
              "    </tr>\n",
              "    <tr>\n",
              "      <th>4</th>\n",
              "      <td>630.95750</td>\n",
              "      <td>96.58295</td>\n",
              "    </tr>\n",
              "  </tbody>\n",
              "</table>\n",
              "</div>"
            ],
            "text/plain": [
              "   Shear rate     Stress\n",
              "0   999.89475  131.22475\n",
              "1   891.25100  121.57225\n",
              "2   794.32825  112.56525\n",
              "3   707.94600  104.25800\n",
              "4   630.95750   96.58295"
            ]
          },
          "metadata": {
            "tags": []
          },
          "execution_count": 3
        }
      ]
    },
    {
      "cell_type": "markdown",
      "metadata": {
        "colab_type": "text",
        "id": "bvt_Uip1CwlK"
      },
      "source": [
        "## Plotting flow curve data\n",
        "To plot the data we use matplolib. We define a simple function that plot the data, set x and y scale to log and the label for x and y. The function return a matplolib figure object that can be stored in a variable."
      ]
    },
    {
      "cell_type": "code",
      "metadata": {
        "colab_type": "code",
        "id": "7Aa1x6kHCwlL",
        "outputId": "77cd915b-d7c6-4fc3-bd89-6b5093eb48d6",
        "colab": {
          "base_uri": "https://localhost:8080/",
          "height": 288
        }
      },
      "source": [
        "data=rheofit.rheodata.example_emulsion()\n",
        "\n",
        "def plot_data(data):\n",
        "    plt.plot(data['Shear rate'],data['Stress'],'o')\n",
        "    plt.yscale('log')\n",
        "    plt.xscale('log')\n",
        "    plt.ylabel('$\\sigma [Pa]$');\n",
        "    plt.xlabel('$\\dot\\gamma [1/s]$');\n",
        "    \n",
        "    return plt.gcf()\n",
        "\n",
        "fig1=plot_data(data);"
      ],
      "execution_count": 0,
      "outputs": [
        {
          "output_type": "display_data",
          "data": {
            "image/png": "[encoded data removed]",
            "text/plain": [
              "<Figure size 432x288 with 1 Axes>"
            ]
          },
          "metadata": {
            "tags": []
          }
        }
      ]
    },
    {
      "cell_type": "markdown",
      "metadata": {
        "colab_type": "text",
        "id": "1G879lZRCwlN"
      },
      "source": [
        "## Fitting flow curve data to a rheological model\n",
        "This is the most important functionality mostly provided by the [LMFIT](https://lmfit.github.io/lmfit-py/) library. The rheofit module just provide the rheology model definition and documentation. \n",
        "\n",
        "For example a popular model for yield stress fluids is the Hershel Bulckley model is a lmfit.Model object"
      ]
    },
    {
      "cell_type": "code",
      "metadata": {
        "colab_type": "code",
        "id": "E6cAQb7QOH8F",
        "outputId": "7ec29a46-4a6a-4989-8d14-86bdb5a11b33",
        "colab": {
          "base_uri": "https://localhost:8080/",
          "height": 34
        }
      },
      "source": [
        "rheofit.models.HB_model"
      ],
      "execution_count": 0,
      "outputs": [
        {
          "output_type": "execute_result",
          "data": {
            "text/plain": [
              "<lmfit.Model: Model(HB, prefix='HB_')>"
            ]
          },
          "metadata": {
            "tags": []
          },
          "execution_count": 5
        }
      ]
    },
    {
      "cell_type": "markdown",
      "metadata": {
        "colab_type": "text",
        "id": "eITeEEuWOOS1"
      },
      "source": [
        "The model object is based on the function rheofit.models.HB"
      ]
    },
    {
      "cell_type": "code",
      "metadata": {
        "colab_type": "code",
        "id": "vXApmHJiOWC5",
        "outputId": "fe2c2342-91ba-4fcb-d39e-7e88690b270f",
        "colab": {
          "base_uri": "https://localhost:8080/",
          "height": 357
        }
      },
      "source": [
        "help(rheofit.models.HB)"
      ],
      "execution_count": 0,
      "outputs": [
        {
          "output_type": "stream",
          "text": [
            "Help on function HB in module rheofit.models:\n",
            "\n",
            "HB(x, ystress=1.0, K=1.0, n=0.5)\n",
            "    Hershel-Bulkley Model\n",
            "    \n",
            "    Note:\n",
            "    \n",
            "    .. math::\n",
            "       \\sigma= \\sigma_y + K \\cdot \\dot\\gamma^n\n",
            "    \n",
            "    Args:\n",
            "        ystress: yield stress [Pa]\n",
            "    \n",
            "        K : Consistency index [Pa s^n]\n",
            "    \n",
            "        n : Shear thinning index []\n",
            "    \n",
            "    Returns:\n",
            "        stress : Shear Stress, [Pa]\n",
            "\n"
          ],
          "name": "stdout"
        }
      ]
    },
    {
      "cell_type": "markdown",
      "metadata": {
        "colab_type": "text",
        "id": "4kr7kZf6OhrF"
      },
      "source": [
        "To fit the data we use the fit method of the model object passing the **stress**, the **shear rate** and the weights"
      ]
    },
    {
      "cell_type": "code",
      "metadata": {
        "colab_type": "code",
        "id": "imzqgtPACwlN",
        "outputId": "c33e4dcb-01d0-4db0-f9fb-aada1b1eb4e4",
        "colab": {
          "base_uri": "https://localhost:8080/",
          "height": 545
        }
      },
      "source": [
        "data=rheofit.rheodata.example_emulsion()\n",
        "model=rheofit.models.HB_model\n",
        "res_fit=model.fit(data['Stress'],x=data['Shear rate'],weights=1/(data['Stress']))\n",
        "res_fit"
      ],
      "execution_count": 0,
      "outputs": [
        {
          "output_type": "execute_result",
          "data": {
            "text/html": [
              "<h2> Model</h2> Model(HB, prefix='HB_') <h2>Fit Statistics</h2><table><tr><td>fitting method</td><td>leastsq</td><td></td></tr><tr><td># function evals</td><td>29</td><td></td></tr><tr><td># data points</td><td>101</td><td></td></tr><tr><td># variables</td><td>3</td><td></td></tr><tr><td>chi-square</td><td> 0.52363806</td><td></td></tr><tr><td>reduced chi-square</td><td> 0.00534325</td><td></td></tr><tr><td>Akaike info crit.</td><td>-525.469582</td><td></td></tr><tr><td>Bayesian info crit.</td><td>-517.624221</td><td></td></tr></table><h2>Variables</h2><table><tr><th> name </th><th> value </th><th> standard error </th><th> relative error </th><th> initial value </th><th> min </th><th> max </th><th> vary </th></tr><tr><td> HB_ystress </td><td>  3.18629490 </td><td>  0.06296913 </td><td> (1.98%) </td><td> 1.0 </td><td>  0.00000000 </td><td>         inf </td><td> True </td></tr><tr><td> HB_K </td><td>  2.56281495 </td><td>  0.09118889 </td><td> (3.56%) </td><td> 1.0 </td><td>  0.00000000 </td><td>         inf </td><td> True </td></tr><tr><td> HB_n </td><td>  0.53928815 </td><td>  0.00752288 </td><td> (1.39%) </td><td> 0.5 </td><td>  0.00000000 </td><td>  1.00000000 </td><td> True </td></tr></table><h2>Correlations (unreported correlations are < 0.100)</h2><table><tr><td>HB_K</td><td>HB_n</td><td>-0.9380</td></tr><tr><td>HB_ystress</td><td>HB_K</td><td>-0.7366</td></tr><tr><td>HB_ystress</td><td>HB_n</td><td>0.6757</td></tr></table>"
            ],
            "text/plain": [
              "<lmfit.model.ModelResult at 0x7f46cd7ef748>"
            ]
          },
          "metadata": {
            "tags": []
          },
          "execution_count": 7
        }
      ]
    },
    {
      "cell_type": "markdown",
      "metadata": {
        "colab_type": "text",
        "id": "HOAtJ4XOOtgw"
      },
      "source": [
        "## Plotting Fit results\n",
        "\n",
        "The fit method returns a fit result object that contains all the information on the data, the model used and the results"
      ]
    },
    {
      "cell_type": "code",
      "metadata": {
        "colab_type": "code",
        "id": "cA_HHQbBCwlP",
        "outputId": "6f69d2b8-8113-47ac-803c-94902425803a",
        "colab": {
          "base_uri": "https://localhost:8080/",
          "height": 584
        }
      },
      "source": [
        "data=rheofit.rheodata.example_emulsion()\n",
        "data=data[data['Shear rate']>0.1]\n",
        "model=rheofit.models.HB_model\n",
        "res_fit=model.fit(data['Stress'],x=data['Shear rate'],weights=1/(data['Stress']*0.1))\n",
        "\n",
        "kwarg={'xscale':'log','yscale':('log')}\n",
        "res_fit.plot_fit(ax_kws=kwarg,yerr=False);\n",
        "plt.figure()\n",
        "res_fit.plot_residuals(yerr=False,ax_kws={'xscale':'log'})"
      ],
      "execution_count": 0,
      "outputs": [
        {
          "output_type": "execute_result",
          "data": {
            "text/plain": [
              "<matplotlib.axes._subplots.AxesSubplot at 0x7f46ca53bcc0>"
            ]
          },
          "metadata": {
            "tags": []
          },
          "execution_count": 8
        },
        {
          "output_type": "display_data",
          "data": {
            "image/png": "[encoded data removed]",
            "text/plain": [
              "<Figure size 432x288 with 1 Axes>"
            ]
          },
          "metadata": {
            "tags": []
          }
        },
        {
          "output_type": "display_data",
          "data": {
            "image/png": "[encoded data removed]",
            "text/plain": [
              "<Figure size 432x288 with 1 Axes>"
            ]
          },
          "metadata": {
            "tags": []
          }
        }
      ]
    },
    {
      "cell_type": "code",
      "metadata": {
        "colab_type": "code",
        "id": "OGTq1CKOCwlR",
        "outputId": "c56e14ae-8e53-4da6-cfbb-106ab04dd07d",
        "colab": {
          "base_uri": "https://localhost:8080/",
          "height": 288
        }
      },
      "source": [
        "data=rheofit.rheodata.example_emulsion()\n",
        "data=data[data['Shear rate']>0.1]\n",
        "\n",
        "model=rheofit.models.HB_model\n",
        "res_fit=model.fit(data['Stress'],x=data['Shear rate'],weights=1/(data['Stress']))\n",
        "\n",
        "def plot_fit(res_fit, xlist=None):\n",
        "    if xlist is None:\n",
        "        xlist=res_fit.userkws['x']\n",
        "    \n",
        "    plt.plot(res_fit.userkws['x'], res_fit.data,'o',label='Data')\n",
        "    plt.plot(xlist, res_fit.eval(x=xlist),label='Best fit')\n",
        "    plt.yscale('log')\n",
        "    plt.xscale('log')\n",
        "    plt.ylabel('$\\sigma [Pa]$')\n",
        "    plt.xlabel('$\\dot\\gamma [1/s]$')\n",
        "\n",
        "plot_fit(res_fit);"
      ],
      "execution_count": 0,
      "outputs": [
        {
          "output_type": "display_data",
          "data": {
            "image/png": "[encoded data removed]",
            "text/plain": [
              "<Figure size 432x288 with 1 Axes>"
            ]
          },
          "metadata": {
            "tags": []
          }
        }
      ]
    },
    {
      "cell_type": "markdown",
      "metadata": {
        "colab_type": "text",
        "id": "MM3xBkwjCwlT"
      },
      "source": [
        "## Explore fit results with pybroom\n",
        "Exploring the lmfit.fit_result object is not intuitive, using the convenient [pybroom](https://pybroom.readthedocs.io/en/stable/) library make things very easy, especially when we explore lists of results from different sample. "
      ]
    },
    {
      "cell_type": "code",
      "metadata": {
        "colab_type": "code",
        "id": "oPub69raCwlT",
        "colab": {}
      },
      "source": [
        "data=rheofit.rheodata.example_emulsion()\n",
        "model=rheofit.models.HB_model\n",
        "res_fit=model.fit(data['Stress'],x=data['Shear rate'],weights=1/(data['Stress']))\n",
        "\n",
        "# putting the fit result in a dictionary to provide a key which represent the sample/analysis identifier\n",
        "res_dict={'example_data':res_fit}"
      ],
      "execution_count": 0,
      "outputs": []
    },
    {
      "cell_type": "code",
      "metadata": {
        "id": "5CBf8Jtkp5cr",
        "colab_type": "code",
        "outputId": "f5d2a6d9-02b3-4c09-bce3-1ec2758e89fb",
        "colab": {
          "base_uri": "https://localhost:8080/",
          "height": 80
        }
      },
      "source": [
        "data=rheofit.rheodata.example_emulsion()\n",
        "model=rheofit.models.HB_model\n",
        "res_fit=model.fit(data['Stress'],x=data['Shear rate'],weights=1/(data['Stress']))\n",
        "\n",
        "pb.glance(res_dict)"
      ],
      "execution_count": 0,
      "outputs": [
        {
          "output_type": "execute_result",
          "data": {
            "text/html": [
              "<div>\n",
              "<style scoped>\n",
              "    .dataframe tbody tr th:only-of-type {\n",
              "        vertical-align: middle;\n",
              "    }\n",
              "\n",
              "    .dataframe tbody tr th {\n",
              "        vertical-align: top;\n",
              "    }\n",
              "\n",
              "    .dataframe thead th {\n",
              "        text-align: right;\n",
              "    }\n",
              "</style>\n",
              "<table border=\"1\" class=\"dataframe\">\n",
              "  <thead>\n",
              "    <tr style=\"text-align: right;\">\n",
              "      <th></th>\n",
              "      <th>model</th>\n",
              "      <th>method</th>\n",
              "      <th>num_params</th>\n",
              "      <th>num_data_points</th>\n",
              "      <th>chisqr</th>\n",
              "      <th>redchi</th>\n",
              "      <th>AIC</th>\n",
              "      <th>BIC</th>\n",
              "      <th>num_func_eval</th>\n",
              "      <th>success</th>\n",
              "      <th>message</th>\n",
              "      <th>key</th>\n",
              "    </tr>\n",
              "  </thead>\n",
              "  <tbody>\n",
              "    <tr>\n",
              "      <th>0</th>\n",
              "      <td>Model(HB, prefix='HB_')</td>\n",
              "      <td>leastsq</td>\n",
              "      <td>3</td>\n",
              "      <td>101</td>\n",
              "      <td>0.523638</td>\n",
              "      <td>0.005343</td>\n",
              "      <td>-525.469582</td>\n",
              "      <td>-517.624221</td>\n",
              "      <td>29</td>\n",
              "      <td>True</td>\n",
              "      <td>Fit succeeded.</td>\n",
              "      <td>example_data</td>\n",
              "    </tr>\n",
              "  </tbody>\n",
              "</table>\n",
              "</div>"
            ],
            "text/plain": [
              "                     model   method  ...         message           key\n",
              "0  Model(HB, prefix='HB_')  leastsq  ...  Fit succeeded.  example_data\n",
              "\n",
              "[1 rows x 12 columns]"
            ]
          },
          "metadata": {
            "tags": []
          },
          "execution_count": 27
        }
      ]
    },
    {
      "cell_type": "code",
      "metadata": {
        "colab_type": "code",
        "id": "OWyIDjWHCwld",
        "outputId": "28c9473f-e2f3-4d86-f8e0-e199e7be149e",
        "colab": {
          "base_uri": "https://localhost:8080/",
          "height": 142
        }
      },
      "source": [
        "data=rheofit.rheodata.example_emulsion()\n",
        "model=rheofit.models.HB_model\n",
        "res_fit=model.fit(data['Stress'],x=data['Shear rate'],weights=1/(data['Stress']))\n",
        "res_dict={'example_data':res_fit}\n",
        "\n",
        "pb.tidy(res_dict)"
      ],
      "execution_count": 0,
      "outputs": [
        {
          "output_type": "execute_result",
          "data": {
            "text/html": [
              "<div>\n",
              "<style scoped>\n",
              "    .dataframe tbody tr th:only-of-type {\n",
              "        vertical-align: middle;\n",
              "    }\n",
              "\n",
              "    .dataframe tbody tr th {\n",
              "        vertical-align: top;\n",
              "    }\n",
              "\n",
              "    .dataframe thead th {\n",
              "        text-align: right;\n",
              "    }\n",
              "</style>\n",
              "<table border=\"1\" class=\"dataframe\">\n",
              "  <thead>\n",
              "    <tr style=\"text-align: right;\">\n",
              "      <th></th>\n",
              "      <th>name</th>\n",
              "      <th>value</th>\n",
              "      <th>min</th>\n",
              "      <th>max</th>\n",
              "      <th>vary</th>\n",
              "      <th>expr</th>\n",
              "      <th>stderr</th>\n",
              "      <th>init_value</th>\n",
              "      <th>key</th>\n",
              "    </tr>\n",
              "  </thead>\n",
              "  <tbody>\n",
              "    <tr>\n",
              "      <th>0</th>\n",
              "      <td>HB_K</td>\n",
              "      <td>2.562815</td>\n",
              "      <td>0</td>\n",
              "      <td>inf</td>\n",
              "      <td>True</td>\n",
              "      <td>NaN</td>\n",
              "      <td>0.091189</td>\n",
              "      <td>1.0</td>\n",
              "      <td>example_data</td>\n",
              "    </tr>\n",
              "    <tr>\n",
              "      <th>1</th>\n",
              "      <td>HB_n</td>\n",
              "      <td>0.539288</td>\n",
              "      <td>0</td>\n",
              "      <td>1.0</td>\n",
              "      <td>True</td>\n",
              "      <td>NaN</td>\n",
              "      <td>0.007523</td>\n",
              "      <td>0.5</td>\n",
              "      <td>example_data</td>\n",
              "    </tr>\n",
              "    <tr>\n",
              "      <th>2</th>\n",
              "      <td>HB_ystress</td>\n",
              "      <td>3.186295</td>\n",
              "      <td>0</td>\n",
              "      <td>inf</td>\n",
              "      <td>True</td>\n",
              "      <td>NaN</td>\n",
              "      <td>0.062969</td>\n",
              "      <td>1.0</td>\n",
              "      <td>example_data</td>\n",
              "    </tr>\n",
              "  </tbody>\n",
              "</table>\n",
              "</div>"
            ],
            "text/plain": [
              "         name     value  min  max  ...  expr    stderr  init_value           key\n",
              "0        HB_K  2.562815    0  inf  ...   NaN  0.091189         1.0  example_data\n",
              "1        HB_n  0.539288    0  1.0  ...   NaN  0.007523         0.5  example_data\n",
              "2  HB_ystress  3.186295    0  inf  ...   NaN  0.062969         1.0  example_data\n",
              "\n",
              "[3 rows x 9 columns]"
            ]
          },
          "metadata": {
            "tags": []
          },
          "execution_count": 28
        }
      ]
    },
    {
      "cell_type": "markdown",
      "metadata": {
        "id": "M_RZ1eALpCnD",
        "colab_type": "text"
      },
      "source": [
        "Merging the glance table with the tidy table on the key, which represent the sample's identifier or an analysis identifier could provide a data structure to store the result of an analysis"
      ]
    },
    {
      "cell_type": "code",
      "metadata": {
        "id": "MQXBHpyhn28A",
        "colab_type": "code",
        "outputId": "fd48f720-15c1-4f1c-8094-5ff817e1f174",
        "colab": {
          "base_uri": "https://localhost:8080/",
          "height": 142
        }
      },
      "source": [
        "pd.merge(pb.glance(res_dict),pb.tidy(res_dict),on='key')"
      ],
      "execution_count": 0,
      "outputs": [
        {
          "output_type": "execute_result",
          "data": {
            "text/html": [
              "<div>\n",
              "<style scoped>\n",
              "    .dataframe tbody tr th:only-of-type {\n",
              "        vertical-align: middle;\n",
              "    }\n",
              "\n",
              "    .dataframe tbody tr th {\n",
              "        vertical-align: top;\n",
              "    }\n",
              "\n",
              "    .dataframe thead th {\n",
              "        text-align: right;\n",
              "    }\n",
              "</style>\n",
              "<table border=\"1\" class=\"dataframe\">\n",
              "  <thead>\n",
              "    <tr style=\"text-align: right;\">\n",
              "      <th></th>\n",
              "      <th>model</th>\n",
              "      <th>method</th>\n",
              "      <th>num_params</th>\n",
              "      <th>num_data_points</th>\n",
              "      <th>chisqr</th>\n",
              "      <th>redchi</th>\n",
              "      <th>AIC</th>\n",
              "      <th>BIC</th>\n",
              "      <th>num_func_eval</th>\n",
              "      <th>success</th>\n",
              "      <th>message</th>\n",
              "      <th>key</th>\n",
              "      <th>name</th>\n",
              "      <th>value</th>\n",
              "      <th>min</th>\n",
              "      <th>max</th>\n",
              "      <th>vary</th>\n",
              "      <th>expr</th>\n",
              "      <th>stderr</th>\n",
              "      <th>init_value</th>\n",
              "    </tr>\n",
              "  </thead>\n",
              "  <tbody>\n",
              "    <tr>\n",
              "      <th>0</th>\n",
              "      <td>Model(HB, prefix='HB_')</td>\n",
              "      <td>leastsq</td>\n",
              "      <td>3</td>\n",
              "      <td>101</td>\n",
              "      <td>0.523638</td>\n",
              "      <td>0.005343</td>\n",
              "      <td>-525.469582</td>\n",
              "      <td>-517.624221</td>\n",
              "      <td>29</td>\n",
              "      <td>True</td>\n",
              "      <td>Fit succeeded.</td>\n",
              "      <td>example_data</td>\n",
              "      <td>HB_K</td>\n",
              "      <td>2.562815</td>\n",
              "      <td>0</td>\n",
              "      <td>inf</td>\n",
              "      <td>True</td>\n",
              "      <td>NaN</td>\n",
              "      <td>0.091189</td>\n",
              "      <td>1.0</td>\n",
              "    </tr>\n",
              "    <tr>\n",
              "      <th>1</th>\n",
              "      <td>Model(HB, prefix='HB_')</td>\n",
              "      <td>leastsq</td>\n",
              "      <td>3</td>\n",
              "      <td>101</td>\n",
              "      <td>0.523638</td>\n",
              "      <td>0.005343</td>\n",
              "      <td>-525.469582</td>\n",
              "      <td>-517.624221</td>\n",
              "      <td>29</td>\n",
              "      <td>True</td>\n",
              "      <td>Fit succeeded.</td>\n",
              "      <td>example_data</td>\n",
              "      <td>HB_n</td>\n",
              "      <td>0.539288</td>\n",
              "      <td>0</td>\n",
              "      <td>1.0</td>\n",
              "      <td>True</td>\n",
              "      <td>NaN</td>\n",
              "      <td>0.007523</td>\n",
              "      <td>0.5</td>\n",
              "    </tr>\n",
              "    <tr>\n",
              "      <th>2</th>\n",
              "      <td>Model(HB, prefix='HB_')</td>\n",
              "      <td>leastsq</td>\n",
              "      <td>3</td>\n",
              "      <td>101</td>\n",
              "      <td>0.523638</td>\n",
              "      <td>0.005343</td>\n",
              "      <td>-525.469582</td>\n",
              "      <td>-517.624221</td>\n",
              "      <td>29</td>\n",
              "      <td>True</td>\n",
              "      <td>Fit succeeded.</td>\n",
              "      <td>example_data</td>\n",
              "      <td>HB_ystress</td>\n",
              "      <td>3.186295</td>\n",
              "      <td>0</td>\n",
              "      <td>inf</td>\n",
              "      <td>True</td>\n",
              "      <td>NaN</td>\n",
              "      <td>0.062969</td>\n",
              "      <td>1.0</td>\n",
              "    </tr>\n",
              "  </tbody>\n",
              "</table>\n",
              "</div>"
            ],
            "text/plain": [
              "                     model   method  num_params  ...  expr    stderr  init_value\n",
              "0  Model(HB, prefix='HB_')  leastsq           3  ...   NaN  0.091189         1.0\n",
              "1  Model(HB, prefix='HB_')  leastsq           3  ...   NaN  0.007523         0.5\n",
              "2  Model(HB, prefix='HB_')  leastsq           3  ...   NaN  0.062969         1.0\n",
              "\n",
              "[3 rows x 20 columns]"
            ]
          },
          "metadata": {
            "tags": []
          },
          "execution_count": 29
        }
      ]
    },
    {
      "cell_type": "code",
      "metadata": {
        "colab_type": "code",
        "id": "bRXTpYdjCwlh",
        "outputId": "cb47f8c6-2df4-4fd4-b7c4-4d63b7c692a3",
        "colab": {
          "base_uri": "https://localhost:8080/",
          "height": 204
        }
      },
      "source": [
        "data=rheofit.rheodata.example_emulsion()\n",
        "model=rheofit.models.HB_model\n",
        "res_fit=model.fit(data['Stress'],x=data['Shear rate'],weights=1/(data['Stress']))\n",
        "\n",
        "augmented=pb.augment(res_dict)\n",
        "augmented.head()"
      ],
      "execution_count": 0,
      "outputs": [
        {
          "output_type": "execute_result",
          "data": {
            "text/html": [
              "<div>\n",
              "<style scoped>\n",
              "    .dataframe tbody tr th:only-of-type {\n",
              "        vertical-align: middle;\n",
              "    }\n",
              "\n",
              "    .dataframe tbody tr th {\n",
              "        vertical-align: top;\n",
              "    }\n",
              "\n",
              "    .dataframe thead th {\n",
              "        text-align: right;\n",
              "    }\n",
              "</style>\n",
              "<table border=\"1\" class=\"dataframe\">\n",
              "  <thead>\n",
              "    <tr style=\"text-align: right;\">\n",
              "      <th></th>\n",
              "      <th>x</th>\n",
              "      <th>data</th>\n",
              "      <th>best_fit</th>\n",
              "      <th>residual</th>\n",
              "      <th>key</th>\n",
              "    </tr>\n",
              "  </thead>\n",
              "  <tbody>\n",
              "    <tr>\n",
              "      <th>0</th>\n",
              "      <td>999.89475</td>\n",
              "      <td>131.22475</td>\n",
              "      <td>109.492113</td>\n",
              "      <td>-0.165614</td>\n",
              "      <td>example_data</td>\n",
              "    </tr>\n",
              "    <tr>\n",
              "      <th>1</th>\n",
              "      <td>891.25100</td>\n",
              "      <td>121.57225</td>\n",
              "      <td>103.098212</td>\n",
              "      <td>-0.151959</td>\n",
              "      <td>example_data</td>\n",
              "    </tr>\n",
              "    <tr>\n",
              "      <th>2</th>\n",
              "      <td>794.32825</td>\n",
              "      <td>112.56525</td>\n",
              "      <td>97.083545</td>\n",
              "      <td>-0.137535</td>\n",
              "      <td>example_data</td>\n",
              "    </tr>\n",
              "    <tr>\n",
              "      <th>3</th>\n",
              "      <td>707.94600</td>\n",
              "      <td>104.25800</td>\n",
              "      <td>91.430975</td>\n",
              "      <td>-0.123032</td>\n",
              "      <td>example_data</td>\n",
              "    </tr>\n",
              "    <tr>\n",
              "      <th>4</th>\n",
              "      <td>630.95750</td>\n",
              "      <td>96.58295</td>\n",
              "      <td>86.118672</td>\n",
              "      <td>-0.108345</td>\n",
              "      <td>example_data</td>\n",
              "    </tr>\n",
              "  </tbody>\n",
              "</table>\n",
              "</div>"
            ],
            "text/plain": [
              "           x       data    best_fit  residual           key\n",
              "0  999.89475  131.22475  109.492113 -0.165614  example_data\n",
              "1  891.25100  121.57225  103.098212 -0.151959  example_data\n",
              "2  794.32825  112.56525   97.083545 -0.137535  example_data\n",
              "3  707.94600  104.25800   91.430975 -0.123032  example_data\n",
              "4  630.95750   96.58295   86.118672 -0.108345  example_data"
            ]
          },
          "metadata": {
            "tags": []
          },
          "execution_count": 20
        }
      ]
    },
    {
      "cell_type": "code",
      "metadata": {
        "id": "6JnIxo4IqSdT",
        "colab_type": "code",
        "outputId": "329dbcb9-a46e-4cc0-d552-aecd734f9348",
        "colab": {
          "base_uri": "https://localhost:8080/",
          "height": 337
        }
      },
      "source": [
        "#results from two different models in the same table\n",
        "data=rheofit.rheodata.example_emulsion()\n",
        "res_fit_HB=rheofit.models.HB_model.fit(data['Stress'],x=data['Shear rate'],weights=1/(data['Stress']))\n",
        "res_fit_TC=rheofit.models.TC_model.fit(data['Stress'],x=data['Shear rate'],weights=1/(data['Stress']))\n",
        "\n",
        "res_dict={'example_data HB model':res_fit_HB,\n",
        "          'example_data TC model':res_fit_TC}\n",
        "\n",
        "pd.merge(pb.glance(res_dict),pb.tidy(res_dict),on='key')"
      ],
      "execution_count": 0,
      "outputs": [
        {
          "output_type": "execute_result",
          "data": {
            "text/html": [
              "<div>\n",
              "<style scoped>\n",
              "    .dataframe tbody tr th:only-of-type {\n",
              "        vertical-align: middle;\n",
              "    }\n",
              "\n",
              "    .dataframe tbody tr th {\n",
              "        vertical-align: top;\n",
              "    }\n",
              "\n",
              "    .dataframe thead th {\n",
              "        text-align: right;\n",
              "    }\n",
              "</style>\n",
              "<table border=\"1\" class=\"dataframe\">\n",
              "  <thead>\n",
              "    <tr style=\"text-align: right;\">\n",
              "      <th></th>\n",
              "      <th>model</th>\n",
              "      <th>method</th>\n",
              "      <th>num_params</th>\n",
              "      <th>num_data_points</th>\n",
              "      <th>chisqr</th>\n",
              "      <th>redchi</th>\n",
              "      <th>AIC</th>\n",
              "      <th>BIC</th>\n",
              "      <th>num_func_eval</th>\n",
              "      <th>success</th>\n",
              "      <th>message</th>\n",
              "      <th>key</th>\n",
              "      <th>name</th>\n",
              "      <th>value</th>\n",
              "      <th>min</th>\n",
              "      <th>max</th>\n",
              "      <th>vary</th>\n",
              "      <th>expr</th>\n",
              "      <th>stderr</th>\n",
              "      <th>init_value</th>\n",
              "    </tr>\n",
              "  </thead>\n",
              "  <tbody>\n",
              "    <tr>\n",
              "      <th>0</th>\n",
              "      <td>Model(HB, prefix='HB_')</td>\n",
              "      <td>leastsq</td>\n",
              "      <td>3</td>\n",
              "      <td>101</td>\n",
              "      <td>0.523638</td>\n",
              "      <td>0.005343</td>\n",
              "      <td>-525.469582</td>\n",
              "      <td>-517.624221</td>\n",
              "      <td>29</td>\n",
              "      <td>True</td>\n",
              "      <td>Fit succeeded.</td>\n",
              "      <td>example_data HB model</td>\n",
              "      <td>HB_K</td>\n",
              "      <td>2.562815</td>\n",
              "      <td>0</td>\n",
              "      <td>inf</td>\n",
              "      <td>True</td>\n",
              "      <td>NaN</td>\n",
              "      <td>0.091189</td>\n",
              "      <td>1.0</td>\n",
              "    </tr>\n",
              "    <tr>\n",
              "      <th>1</th>\n",
              "      <td>Model(HB, prefix='HB_')</td>\n",
              "      <td>leastsq</td>\n",
              "      <td>3</td>\n",
              "      <td>101</td>\n",
              "      <td>0.523638</td>\n",
              "      <td>0.005343</td>\n",
              "      <td>-525.469582</td>\n",
              "      <td>-517.624221</td>\n",
              "      <td>29</td>\n",
              "      <td>True</td>\n",
              "      <td>Fit succeeded.</td>\n",
              "      <td>example_data HB model</td>\n",
              "      <td>HB_n</td>\n",
              "      <td>0.539288</td>\n",
              "      <td>0</td>\n",
              "      <td>1.0</td>\n",
              "      <td>True</td>\n",
              "      <td>NaN</td>\n",
              "      <td>0.007523</td>\n",
              "      <td>0.5</td>\n",
              "    </tr>\n",
              "    <tr>\n",
              "      <th>2</th>\n",
              "      <td>Model(HB, prefix='HB_')</td>\n",
              "      <td>leastsq</td>\n",
              "      <td>3</td>\n",
              "      <td>101</td>\n",
              "      <td>0.523638</td>\n",
              "      <td>0.005343</td>\n",
              "      <td>-525.469582</td>\n",
              "      <td>-517.624221</td>\n",
              "      <td>29</td>\n",
              "      <td>True</td>\n",
              "      <td>Fit succeeded.</td>\n",
              "      <td>example_data HB model</td>\n",
              "      <td>HB_ystress</td>\n",
              "      <td>3.186295</td>\n",
              "      <td>0</td>\n",
              "      <td>inf</td>\n",
              "      <td>True</td>\n",
              "      <td>NaN</td>\n",
              "      <td>0.062969</td>\n",
              "      <td>1.0</td>\n",
              "    </tr>\n",
              "    <tr>\n",
              "      <th>3</th>\n",
              "      <td>Model(TC, prefix='TC_')</td>\n",
              "      <td>leastsq</td>\n",
              "      <td>3</td>\n",
              "      <td>101</td>\n",
              "      <td>0.313896</td>\n",
              "      <td>0.003203</td>\n",
              "      <td>-577.155328</td>\n",
              "      <td>-569.309966</td>\n",
              "      <td>24</td>\n",
              "      <td>True</td>\n",
              "      <td>One or more variable did not affect the fit.</td>\n",
              "      <td>example_data TC model</td>\n",
              "      <td>TC_eta_bg</td>\n",
              "      <td>0.037180</td>\n",
              "      <td>0</td>\n",
              "      <td>inf</td>\n",
              "      <td>True</td>\n",
              "      <td>NaN</td>\n",
              "      <td>0.003625</td>\n",
              "      <td>0.1</td>\n",
              "    </tr>\n",
              "    <tr>\n",
              "      <th>4</th>\n",
              "      <td>Model(TC, prefix='TC_')</td>\n",
              "      <td>leastsq</td>\n",
              "      <td>3</td>\n",
              "      <td>101</td>\n",
              "      <td>0.313896</td>\n",
              "      <td>0.003203</td>\n",
              "      <td>-577.155328</td>\n",
              "      <td>-569.309966</td>\n",
              "      <td>24</td>\n",
              "      <td>True</td>\n",
              "      <td>One or more variable did not affect the fit.</td>\n",
              "      <td>example_data TC model</td>\n",
              "      <td>TC_gammadot_crit</td>\n",
              "      <td>1.392611</td>\n",
              "      <td>0</td>\n",
              "      <td>inf</td>\n",
              "      <td>True</td>\n",
              "      <td>NaN</td>\n",
              "      <td>0.077651</td>\n",
              "      <td>0.1</td>\n",
              "    </tr>\n",
              "    <tr>\n",
              "      <th>5</th>\n",
              "      <td>Model(TC, prefix='TC_')</td>\n",
              "      <td>leastsq</td>\n",
              "      <td>3</td>\n",
              "      <td>101</td>\n",
              "      <td>0.313896</td>\n",
              "      <td>0.003203</td>\n",
              "      <td>-577.155328</td>\n",
              "      <td>-569.309966</td>\n",
              "      <td>24</td>\n",
              "      <td>True</td>\n",
              "      <td>One or more variable did not affect the fit.</td>\n",
              "      <td>example_data TC model</td>\n",
              "      <td>TC_ystress</td>\n",
              "      <td>3.114964</td>\n",
              "      <td>0</td>\n",
              "      <td>inf</td>\n",
              "      <td>True</td>\n",
              "      <td>NaN</td>\n",
              "      <td>0.040437</td>\n",
              "      <td>1.0</td>\n",
              "    </tr>\n",
              "  </tbody>\n",
              "</table>\n",
              "</div>"
            ],
            "text/plain": [
              "                     model   method  num_params  ...  expr    stderr  init_value\n",
              "0  Model(HB, prefix='HB_')  leastsq           3  ...   NaN  0.091189         1.0\n",
              "1  Model(HB, prefix='HB_')  leastsq           3  ...   NaN  0.007523         0.5\n",
              "2  Model(HB, prefix='HB_')  leastsq           3  ...   NaN  0.062969         1.0\n",
              "3  Model(TC, prefix='TC_')  leastsq           3  ...   NaN  0.003625         0.1\n",
              "4  Model(TC, prefix='TC_')  leastsq           3  ...   NaN  0.077651         0.1\n",
              "5  Model(TC, prefix='TC_')  leastsq           3  ...   NaN  0.040437         1.0\n",
              "\n",
              "[6 rows x 20 columns]"
            ]
          },
          "metadata": {
            "tags": []
          },
          "execution_count": 31
        }
      ]
    },
    {
      "cell_type": "markdown",
      "metadata": {
        "colab_type": "text",
        "id": "jm5du9w3Cwlk"
      },
      "source": [
        "## Plot residuals"
      ]
    },
    {
      "cell_type": "code",
      "metadata": {
        "colab_type": "code",
        "id": "acIsfjWsCwll",
        "outputId": "577c8cd1-7505-4081-961e-215ba6dce6a7",
        "colab": {
          "base_uri": "https://localhost:8080/",
          "height": 292
        }
      },
      "source": [
        "data=rheofit.rheodata.example_emulsion()\n",
        "model=rheofit.models.HB_model\n",
        "res_fit=model.fit(data['Stress'],x=data['Shear rate'],weights=1/(data['Stress']))\n",
        "\n",
        "\n",
        "def plot_residuals(res_fit):\n",
        "    augmented=pb.augment(res_fit)\n",
        "    plt.plot('x','residual',data=augmented)\n",
        "    plt.xscale('log')\n",
        "    plt.ylabel('residual - relative deviation');\n",
        "    plt.xlabel('$\\dot\\gamma [1/s]$');\n",
        "    \n",
        "    return plt.gcf()\n",
        "\n",
        "plot_residuals(res_fit);"
      ],
      "execution_count": 0,
      "outputs": [
        {
          "output_type": "display_data",
          "data": {
            "image/png": "[encoded data removed]",
            "text/plain": [
              "<Figure size 432x288 with 1 Axes>"
            ]
          },
          "metadata": {
            "tags": []
          }
        }
      ]
    },
    {
      "cell_type": "markdown",
      "metadata": {
        "colab_type": "text",
        "id": "FqJ-qer3Cwlo"
      },
      "source": [
        "## Confidence interval"
      ]
    },
    {
      "cell_type": "code",
      "metadata": {
        "colab_type": "code",
        "id": "5QL7Af8VCwlp",
        "outputId": "0c393d9d-f9e2-47e3-b174-1a3fedf53cb3",
        "colab": {
          "base_uri": "https://localhost:8080/",
          "height": 292
        }
      },
      "source": [
        "data=rheofit.rheodata.example_emulsion()\n",
        "data=data[data['Shear rate']>0.1]\n",
        "model=rheofit.models.HB_model\n",
        "res_fit=model.fit(data['Stress'],x=data['Shear rate'],weights=1/(data['Stress']))\n",
        "\n",
        "def plot_confidence(res_fit,expand=10):\n",
        "    dely = res_fit.eval_uncertainty(x=res_fit.userkws['x'],sigma=3)*expand\n",
        "    \n",
        "    plt.plot(res_fit.userkws['x'], res_fit.data,'o',color='black',label='Data',markersize=5)\n",
        "    plt.plot(res_fit.userkws['x'], res_fit.best_fit,label='Best fit TC model',color='red')\n",
        "    plt.fill_between(res_fit.userkws['x'], res_fit.best_fit-dely,res_fit.best_fit+dely,\n",
        "                     color='blue',alpha=0.2,label='0.9973 Confidence interval')\n",
        "    plt.yscale('log')\n",
        "    plt.xscale('log')\n",
        "    plt.ylabel('$\\sigma [Pa]$')\n",
        "    plt.xlabel('$\\dot\\gamma [1/s]$')\n",
        "    \n",
        "    return plt.gcf()\n",
        "\n",
        "plot_confidence(res_fit);"
      ],
      "execution_count": 0,
      "outputs": [
        {
          "output_type": "display_data",
          "data": {
            "image/png": "[encoded data removed]",
            "text/plain": [
              "<Figure size 432x288 with 1 Axes>"
            ]
          },
          "metadata": {
            "tags": []
          }
        }
      ]
    },
    {
      "cell_type": "markdown",
      "metadata": {
        "colab_type": "text",
        "id": "3J-2PjF5Cwlr"
      },
      "source": [
        "## Fit specific shear rate range"
      ]
    },
    {
      "cell_type": "code",
      "metadata": {
        "colab_type": "code",
        "id": "s-f_w_TUCwls",
        "outputId": "b4b32a98-36ef-4655-ff8e-833ac3a77a0c",
        "scrolled": false,
        "colab": {
          "base_uri": "https://localhost:8080/",
          "height": 292
        }
      },
      "source": [
        "data=rheofit.rheodata.example_emulsion()\n",
        "data=data[data['Shear rate']>0.1]\n",
        "model=rheofit.models.HB_model\n",
        "res_fit=model.fit(data['Stress'],x=data['Shear rate'],weights=1/(data['Stress']))\n",
        "\n",
        "min_shear_rate=0.1\n",
        "max_shear_rate=1000\n",
        "\n",
        "def fit_range(res_fit,min_shear_rate=0.1,max_shear_rate=100):\n",
        "    data=pd.DataFrame.from_dict({'Shear rate':res_fit.userkws['x'],'Stress':res_fit.data})\n",
        "    mask=(data['Shear rate']>=min_shear_rate) & (data['Shear rate']<=max_shear_rate)\n",
        "    res_fit=model.fit(data[mask]['Stress'],x=data[mask]['Shear rate'],weights=1/(data[mask]['Stress']))\n",
        "    \n",
        "    return res_fit\n",
        "\n",
        "plot_fit(res_fit);\n",
        "plot_fit(fit_range(res_fit));"
      ],
      "execution_count": 0,
      "outputs": [
        {
          "output_type": "display_data",
          "data": {
            "image/png": "[encoded data removed]",
            "text/plain": [
              "<Figure size 432x288 with 1 Axes>"
            ]
          },
          "metadata": {
            "tags": []
          }
        }
      ]
    },
    {
      "cell_type": "code",
      "metadata": {
        "colab_type": "code",
        "id": "E-5pHGtwCwlu",
        "outputId": "1986cd77-1d60-4eba-e7e0-71fae71b63c0",
        "colab": {
          "base_uri": "https://localhost:8080/",
          "height": 392
        }
      },
      "source": [
        "data=rheofit.rheodata.example_emulsion()\n",
        "model=rheofit.models.HB_model\n",
        "res_fit=model.fit(data['Stress'],x=data['Shear rate'],weights=1/(data['Stress']))\n",
        "\n",
        "min_shear_rate=0.1\n",
        "max_shear_rate=1000\n",
        "\n",
        "def fit_range(res_fit,min_shear_rate=0.1,max_shear_rate=100):\n",
        "    data=pd.DataFrame.from_dict({'Shear rate':res_fit.userkws['x'],'Stress':res_fit.data})\n",
        "    mask=(data['Shear rate']>min_shear_rate) & (data['Shear rate']<max_shear_rate)\n",
        "    res_fit=model.fit(data[mask]['Stress'],x=data[mask]['Shear rate'],weights=1/(data[mask]['Stress']))\n",
        "    \n",
        "    return res_fit\n",
        "\n",
        "display(pb.tidy(fit_range(res_fit,min_shear_rate=0.1,max_shear_rate=10)))\n",
        "display(pb.tidy(fit_range(res_fit,min_shear_rate=0.1,max_shear_rate=100)))\n",
        "display(pb.tidy(fit_range(res_fit,min_shear_rate=0.1,max_shear_rate=1000)))"
      ],
      "execution_count": 0,
      "outputs": [
        {
          "output_type": "display_data",
          "data": {
            "text/html": [
              "<div>\n",
              "<style scoped>\n",
              "    .dataframe tbody tr th:only-of-type {\n",
              "        vertical-align: middle;\n",
              "    }\n",
              "\n",
              "    .dataframe tbody tr th {\n",
              "        vertical-align: top;\n",
              "    }\n",
              "\n",
              "    .dataframe thead th {\n",
              "        text-align: right;\n",
              "    }\n",
              "</style>\n",
              "<table border=\"1\" class=\"dataframe\">\n",
              "  <thead>\n",
              "    <tr style=\"text-align: right;\">\n",
              "      <th></th>\n",
              "      <th>name</th>\n",
              "      <th>value</th>\n",
              "      <th>min</th>\n",
              "      <th>max</th>\n",
              "      <th>vary</th>\n",
              "      <th>expr</th>\n",
              "      <th>stderr</th>\n",
              "      <th>init_value</th>\n",
              "    </tr>\n",
              "  </thead>\n",
              "  <tbody>\n",
              "    <tr>\n",
              "      <th>0</th>\n",
              "      <td>HB_K</td>\n",
              "      <td>2.946032</td>\n",
              "      <td>0</td>\n",
              "      <td>inf</td>\n",
              "      <td>True</td>\n",
              "      <td>NaN</td>\n",
              "      <td>0.033507</td>\n",
              "      <td>1.0</td>\n",
              "    </tr>\n",
              "    <tr>\n",
              "      <th>1</th>\n",
              "      <td>HB_n</td>\n",
              "      <td>0.452852</td>\n",
              "      <td>0</td>\n",
              "      <td>1.0</td>\n",
              "      <td>True</td>\n",
              "      <td>NaN</td>\n",
              "      <td>0.004298</td>\n",
              "      <td>0.5</td>\n",
              "    </tr>\n",
              "    <tr>\n",
              "      <th>2</th>\n",
              "      <td>HB_ystress</td>\n",
              "      <td>3.219395</td>\n",
              "      <td>0</td>\n",
              "      <td>inf</td>\n",
              "      <td>True</td>\n",
              "      <td>NaN</td>\n",
              "      <td>0.028909</td>\n",
              "      <td>1.0</td>\n",
              "    </tr>\n",
              "  </tbody>\n",
              "</table>\n",
              "</div>"
            ],
            "text/plain": [
              "         name     value  min  max  vary  expr    stderr  init_value\n",
              "0        HB_K  2.946032    0  inf  True   NaN  0.033507         1.0\n",
              "1        HB_n  0.452852    0  1.0  True   NaN  0.004298         0.5\n",
              "2  HB_ystress  3.219395    0  inf  True   NaN  0.028909         1.0"
            ]
          },
          "metadata": {
            "tags": []
          }
        },
        {
          "output_type": "display_data",
          "data": {
            "text/html": [
              "<div>\n",
              "<style scoped>\n",
              "    .dataframe tbody tr th:only-of-type {\n",
              "        vertical-align: middle;\n",
              "    }\n",
              "\n",
              "    .dataframe tbody tr th {\n",
              "        vertical-align: top;\n",
              "    }\n",
              "\n",
              "    .dataframe thead th {\n",
              "        text-align: right;\n",
              "    }\n",
              "</style>\n",
              "<table border=\"1\" class=\"dataframe\">\n",
              "  <thead>\n",
              "    <tr style=\"text-align: right;\">\n",
              "      <th></th>\n",
              "      <th>name</th>\n",
              "      <th>value</th>\n",
              "      <th>min</th>\n",
              "      <th>max</th>\n",
              "      <th>vary</th>\n",
              "      <th>expr</th>\n",
              "      <th>stderr</th>\n",
              "      <th>init_value</th>\n",
              "    </tr>\n",
              "  </thead>\n",
              "  <tbody>\n",
              "    <tr>\n",
              "      <th>0</th>\n",
              "      <td>HB_K</td>\n",
              "      <td>2.498040</td>\n",
              "      <td>0</td>\n",
              "      <td>inf</td>\n",
              "      <td>True</td>\n",
              "      <td>NaN</td>\n",
              "      <td>0.037762</td>\n",
              "      <td>1.0</td>\n",
              "    </tr>\n",
              "    <tr>\n",
              "      <th>1</th>\n",
              "      <td>HB_n</td>\n",
              "      <td>0.517414</td>\n",
              "      <td>0</td>\n",
              "      <td>1.0</td>\n",
              "      <td>True</td>\n",
              "      <td>NaN</td>\n",
              "      <td>0.003954</td>\n",
              "      <td>0.5</td>\n",
              "    </tr>\n",
              "    <tr>\n",
              "      <th>2</th>\n",
              "      <td>HB_ystress</td>\n",
              "      <td>3.589250</td>\n",
              "      <td>0</td>\n",
              "      <td>inf</td>\n",
              "      <td>True</td>\n",
              "      <td>NaN</td>\n",
              "      <td>0.034026</td>\n",
              "      <td>1.0</td>\n",
              "    </tr>\n",
              "  </tbody>\n",
              "</table>\n",
              "</div>"
            ],
            "text/plain": [
              "         name     value  min  max  vary  expr    stderr  init_value\n",
              "0        HB_K  2.498040    0  inf  True   NaN  0.037762         1.0\n",
              "1        HB_n  0.517414    0  1.0  True   NaN  0.003954         0.5\n",
              "2  HB_ystress  3.589250    0  inf  True   NaN  0.034026         1.0"
            ]
          },
          "metadata": {
            "tags": []
          }
        },
        {
          "output_type": "display_data",
          "data": {
            "text/html": [
              "<div>\n",
              "<style scoped>\n",
              "    .dataframe tbody tr th:only-of-type {\n",
              "        vertical-align: middle;\n",
              "    }\n",
              "\n",
              "    .dataframe tbody tr th {\n",
              "        vertical-align: top;\n",
              "    }\n",
              "\n",
              "    .dataframe thead th {\n",
              "        text-align: right;\n",
              "    }\n",
              "</style>\n",
              "<table border=\"1\" class=\"dataframe\">\n",
              "  <thead>\n",
              "    <tr style=\"text-align: right;\">\n",
              "      <th></th>\n",
              "      <th>name</th>\n",
              "      <th>value</th>\n",
              "      <th>min</th>\n",
              "      <th>max</th>\n",
              "      <th>vary</th>\n",
              "      <th>expr</th>\n",
              "      <th>stderr</th>\n",
              "      <th>init_value</th>\n",
              "    </tr>\n",
              "  </thead>\n",
              "  <tbody>\n",
              "    <tr>\n",
              "      <th>0</th>\n",
              "      <td>HB_K</td>\n",
              "      <td>1.880492</td>\n",
              "      <td>0</td>\n",
              "      <td>inf</td>\n",
              "      <td>True</td>\n",
              "      <td>NaN</td>\n",
              "      <td>0.051488</td>\n",
              "      <td>1.0</td>\n",
              "    </tr>\n",
              "    <tr>\n",
              "      <th>1</th>\n",
              "      <td>HB_n</td>\n",
              "      <td>0.595807</td>\n",
              "      <td>0</td>\n",
              "      <td>1.0</td>\n",
              "      <td>True</td>\n",
              "      <td>NaN</td>\n",
              "      <td>0.005270</td>\n",
              "      <td>0.5</td>\n",
              "    </tr>\n",
              "    <tr>\n",
              "      <th>2</th>\n",
              "      <td>HB_ystress</td>\n",
              "      <td>4.088222</td>\n",
              "      <td>0</td>\n",
              "      <td>inf</td>\n",
              "      <td>True</td>\n",
              "      <td>NaN</td>\n",
              "      <td>0.059816</td>\n",
              "      <td>1.0</td>\n",
              "    </tr>\n",
              "  </tbody>\n",
              "</table>\n",
              "</div>"
            ],
            "text/plain": [
              "         name     value  min  max  vary  expr    stderr  init_value\n",
              "0        HB_K  1.880492    0  inf  True   NaN  0.051488         1.0\n",
              "1        HB_n  0.595807    0  1.0  True   NaN  0.005270         0.5\n",
              "2  HB_ystress  4.088222    0  inf  True   NaN  0.059816         1.0"
            ]
          },
          "metadata": {
            "tags": []
          }
        }
      ]
    },
    {
      "cell_type": "markdown",
      "metadata": {
        "colab_type": "text",
        "id": "RfXWEZq8Cwly"
      },
      "source": [
        "## Reduced $\\chi^2$ sensitivity on shear rate range"
      ]
    },
    {
      "cell_type": "code",
      "metadata": {
        "colab_type": "code",
        "id": "EAMpHeuQCwlz",
        "outputId": "249dc866-9e33-4691-ec1b-2b9f952b5e6d",
        "colab": {
          "base_uri": "https://localhost:8080/",
          "height": 292
        }
      },
      "source": [
        "data=rheofit.rheodata.example_emulsion()\n",
        "model=rheofit.models.HB_model\n",
        "res_fit=model.fit(data['Stress'],x=data['Shear rate'],weights=1/(data['Stress']))\n",
        "\n",
        "\n",
        "def explore_redchi(res_fit,min_shear_rate=0.01,max_shear_rate=1000):\n",
        "    data=pd.DataFrame.from_dict({'Shear rate':res_fit.userkws['x'],'Stress':res_fit.data})\n",
        "    res_dict={min_shear:fit_range(res_fit,min_shear_rate=min_shear,max_shear_rate=1000) \n",
        "              for min_shear in data['Shear rate'][10:-1]}\n",
        "    \n",
        "    ax1= plt.subplot(2,1,1)\n",
        "    \n",
        "    plt.plot(data['Shear rate'],data['Stress'],'o')\n",
        "    plt.yscale('log')\n",
        "    plt.xscale('log')\n",
        "    plt.xlabel('$\\dot\\gamma [1/s]$')\n",
        "    plt.ylabel('$\\sigma [Pa]$')\n",
        "\n",
        "    ax2= plt.subplot(2,1,2,sharex = ax1)\n",
        "    \n",
        "    plt.plot(list(res_dict.keys()),pb.glance(res_dict)['redchi'])\n",
        "    plt.xscale('log')\n",
        "    plt.ylabel('$\\chi_{red}$')\n",
        "    plt.xlabel('$\\dot\\gamma_{min} [1/s]$')\n",
        "    \n",
        "    return plt.gcf()\n",
        "    \n",
        "explore_redchi(res_fit);"
      ],
      "execution_count": 0,
      "outputs": [
        {
          "output_type": "display_data",
          "data": {
            "image/png": "[encoded data removed]",
            "text/plain": [
              "<Figure size 432x288 with 2 Axes>"
            ]
          },
          "metadata": {
            "tags": []
          }
        }
      ]
    },
    {
      "cell_type": "markdown",
      "metadata": {
        "colab_type": "text",
        "id": "bkFccV-uCwl1"
      },
      "source": [
        "## Model parameter sensitivity on shear rate range"
      ]
    },
    {
      "cell_type": "code",
      "metadata": {
        "colab_type": "code",
        "id": "8NQCE9fdCwl2",
        "outputId": "eacbdf46-c1a8-41e5-c994-b6070d654714",
        "colab": {
          "base_uri": "https://localhost:8080/",
          "height": 292
        }
      },
      "source": [
        "data=rheofit.rheodata.example_emulsion()\n",
        "data.sort_values('Shear rate',ascending=False, inplace=True)\n",
        "\n",
        "model=rheofit.models.HB_model\n",
        "res_fit=model.fit(data['Stress'],x=data['Shear rate'],weights=1/(data['Stress']))\n",
        "\n",
        "\n",
        "def explore_param_keephigh(res_fit,min_shear_rate=0.01,max_shear_rate=1000,param_name=None):\n",
        "    '''keep the right range of data for the fit\n",
        "    answer the question: how important it is how low we extend the analysis at low shear?\n",
        "    '''\n",
        "    data=pd.DataFrame.from_dict({'Shear rate':res_fit.userkws['x'],'Stress':res_fit.data})\n",
        "    data.sort_values('Shear rate',ascending=False, inplace=True)\n",
        "    res_fit=res_fit.model.fit(data['Stress'],x=data['Shear rate'],weights=1/(data['Stress']))\n",
        "    res_fit=fit_range(res_fit,min_shear_rate=min_shear_rate,max_shear_rate=max_shear_rate)\n",
        "    res_dict={min_shear:fit_range(res_fit,min_shear_rate=min_shear,max_shear_rate=max(res_fit.userkws['x'])) \n",
        "              for min_shear in res_fit.userkws['x'][5:-1]}\n",
        "    \n",
        "    ax1= plt.subplot(2,1,1)\n",
        "    \n",
        "    plt.plot(data['Shear rate'],data['Stress'],'o')\n",
        "    plt.yscale('log')\n",
        "    plt.xscale('log')\n",
        "    plt.xlabel('$\\dot\\gamma [1/s]$')\n",
        "    plt.ylabel('$\\sigma [Pa]$')\n",
        "    \n",
        "    xlim=plt.gca().get_xlim()\n",
        "    plt.axvspan(xlim[0],min_shear_rate,color='gray',alpha=0.5)\n",
        "    plt.axvspan(max_shear_rate,xlim[1],color='gray',alpha=0.5)\n",
        "    \n",
        "    ax2= plt.subplot(2,1,2,sharex = ax1)\n",
        "    \n",
        "    plt.plot(list(res_dict.keys()),pb.tidy(res_dict)['value'][pb.tidy(res_dict)['name']=='HB_n'])\n",
        "    plt.xscale('log')\n",
        "    plt.ylabel('$'+param_name+'$')\n",
        "    plt.xlabel('$\\dot\\gamma_{min} [1/s]$')\n",
        "    \n",
        "    plt.axvspan(xlim[0],min_shear_rate,color='gray',alpha=0.5)\n",
        "    plt.axvspan(max_shear_rate,xlim[1],color='gray',alpha=0.5)\n",
        "\n",
        "    plt.gca().set_xlim(xlim)\n",
        "    \n",
        "    return plt.gcf()\n",
        "    \n",
        "explore_param_keephigh(res_fit,min_shear_rate=0.1,param_name='n');"
      ],
      "execution_count": 0,
      "outputs": [
        {
          "output_type": "display_data",
          "data": {
            "image/png": "[encoded data removed]",
            "text/plain": [
              "<Figure size 432x288 with 2 Axes>"
            ]
          },
          "metadata": {
            "tags": []
          }
        }
      ]
    },
    {
      "cell_type": "code",
      "metadata": {
        "colab_type": "code",
        "id": "hKmOGGM5Cwl-",
        "outputId": "129acec3-0ef7-48c2-dc36-745174b4c4ab",
        "colab": {
          "base_uri": "https://localhost:8080/",
          "height": 292
        }
      },
      "source": [
        "data=rheofit.rheodata.example_emulsion()\n",
        "data.sort_values('Shear rate',ascending=False, inplace=True)\n",
        "\n",
        "model=rheofit.models.HB_model\n",
        "res_fit=model.fit(data['Stress'],x=data['Shear rate'],weights=1/(data['Stress']))\n",
        "\n",
        "\n",
        "def explore_param_keeplow(res_fit,min_shear_rate=0.01,max_shear_rate=1001,param_name=None):\n",
        "    '''keep the right range of data for the fit\n",
        "    answer the question: how important it is how low we extend the analysis at low shear?\n",
        "    '''\n",
        "    \n",
        "    data=pd.DataFrame.from_dict({'Shear rate':res_fit.userkws['x'],'Stress':res_fit.data})\n",
        "    data.sort_values('Shear rate',ascending=True, inplace=True)\n",
        "    res_fit=res_fit.model.fit(data['Stress'],x=data['Shear rate'],weights=1/(data['Stress']))\n",
        "    res_fit=fit_range(res_fit,min_shear_rate=min_shear_rate,max_shear_rate=max_shear_rate)\n",
        "    res_dict={max_shear:fit_range(res_fit,min_shear_rate=min(res_fit.userkws['x']),max_shear_rate=max_shear) \n",
        "              for max_shear in res_fit.userkws['x'][5:-1]}\n",
        "    \n",
        "    ax1= plt.subplot(2,1,1)\n",
        "    \n",
        "    plt.plot(data['Shear rate'],data['Stress'],'o')\n",
        "    plt.yscale('log')\n",
        "    plt.xscale('log')\n",
        "    plt.xlabel('$\\dot\\gamma [1/s]$')\n",
        "    plt.ylabel('$\\sigma [Pa]$')\n",
        "    \n",
        "    xlim=plt.gca().get_xlim()\n",
        "    plt.axvspan(xlim[0],min_shear_rate,color='gray',alpha=0.5)\n",
        "    plt.axvspan(max_shear_rate,xlim[1],color='gray',alpha=0.5)\n",
        "    \n",
        "    ax2= plt.subplot(2,1,2,sharex = ax1)\n",
        "    \n",
        "    plt.plot(list(res_dict.keys()),pb.tidy(res_dict)['value'][pb.tidy(res_dict)['name']=='HB_n'])\n",
        "    plt.xscale('log')\n",
        "    plt.ylabel('$'+param_name+'$')\n",
        "    plt.xlabel('$\\dot\\gamma_{max} [1/s]$')\n",
        "    \n",
        "    plt.axvspan(xlim[0],min_shear_rate,color='gray',alpha=0.5)\n",
        "    plt.axvspan(max_shear_rate,xlim[1],color='gray',alpha=0.5)\n",
        "\n",
        "    plt.gca().set_xlim(xlim)\n",
        "    \n",
        "    return plt.gcf()\n",
        "    \n",
        "explore_param_keeplow(res_fit,min_shear_rate=0.1,param_name='n');"
      ],
      "execution_count": 0,
      "outputs": [
        {
          "output_type": "display_data",
          "data": {
            "image/png": "[encoded data removed]",
            "text/plain": [
              "<Figure size 432x288 with 2 Axes>"
            ]
          },
          "metadata": {
            "tags": []
          }
        }
      ]
    },
    {
      "cell_type": "markdown",
      "metadata": {
        "colab_type": "text",
        "id": "sOEKQtUxCwmD"
      },
      "source": [
        "## Emcee"
      ]
    },
    {
      "cell_type": "code",
      "metadata": {
        "colab_type": "code",
        "id": "3tt30H1eCwmE",
        "outputId": "d69dba4c-ff8d-4e07-c590-8533f9487276",
        "colab": {
          "base_uri": "https://localhost:8080/",
          "height": 1000
        }
      },
      "source": [
        "data=rheofit.rheodata.example_emulsion()\n",
        "data=data[data['Shear rate']>0.1]\n",
        "model=rheofit.models.HB_model\n",
        "res_fit=model.fit(data['Stress'],x=data['Shear rate'],weights=1/(data['Stress']*0.1))\n",
        "res_emcee=res_fit.emcee(steps=1000, nwalkers=50, burn=300)\n",
        "\n",
        "corner.corner(res_emcee.flatchain, labels=res_emcee.var_names, truths=[res_fit.params[key].value for key in res_fit.params.keys()]);\n",
        "display(res_fit)"
      ],
      "execution_count": 0,
      "outputs": [
        {
          "output_type": "stream",
          "text": [
            "/usr/local/lib/python3.6/dist-packages/emcee/ensemble.py:258: RuntimeWarning: Initial state is not linearly independent and it will not allow a full exploration of parameter space\n",
            "  category=RuntimeWarning,\n",
            "100%|██████████| 1000/1000 [01:23<00:00, 12.12it/s]\n"
          ],
          "name": "stderr"
        },
        {
          "output_type": "display_data",
          "data": {
            "text/html": [
              "<h2> Model</h2> Model(HB, prefix='HB_') <h2>Fit Statistics</h2><table><tr><td>fitting method</td><td>leastsq</td><td></td></tr><tr><td># function evals</td><td>22</td><td></td></tr><tr><td># data points</td><td>80</td><td></td></tr><tr><td># variables</td><td>3</td><td></td></tr><tr><td>chi-square</td><td> 10.8588639</td><td></td></tr><tr><td>reduced chi-square</td><td> 0.14102421</td><td></td></tr><tr><td>Akaike info crit.</td><td>-153.763595</td><td></td></tr><tr><td>Bayesian info crit.</td><td>-146.617515</td><td></td></tr></table><h2>Variables</h2><table><tr><th> name </th><th> value </th><th> standard error </th><th> relative error </th><th> initial value </th><th> min </th><th> max </th><th> vary </th></tr><tr><td> HB_ystress </td><td>  4.08822217 </td><td>  0.05981584 </td><td> (1.46%) </td><td> 1.0 </td><td>  0.00000000 </td><td>         inf </td><td> True </td></tr><tr><td> HB_K </td><td>  1.88049246 </td><td>  0.05148762 </td><td> (2.74%) </td><td> 1.0 </td><td>  0.00000000 </td><td>         inf </td><td> True </td></tr><tr><td> HB_n </td><td>  0.59580716 </td><td>  0.00527012 </td><td> (0.88%) </td><td> 0.5 </td><td>  0.00000000 </td><td>  1.00000000 </td><td> True </td></tr></table><h2>Correlations (unreported correlations are < 0.100)</h2><table><tr><td>HB_K</td><td>HB_n</td><td>-0.9655</td></tr><tr><td>HB_ystress</td><td>HB_K</td><td>-0.8080</td></tr><tr><td>HB_ystress</td><td>HB_n</td><td>0.7536</td></tr></table>"
            ],
            "text/plain": [
              "<lmfit.model.ModelResult at 0x7fed09927518>"
            ]
          },
          "metadata": {
            "tags": []
          }
        },
        {
          "output_type": "display_data",
          "data": {
            "image/png": "[encoded data removed]",
            "text/plain": [
              "<Figure size 547.2x547.2 with 9 Axes>"
            ]
          },
          "metadata": {
            "tags": []
          }
        }
      ]
    },
    {
      "cell_type": "code",
      "metadata": {
        "colab_type": "code",
        "id": "LZOV8cPzENpZ",
        "colab": {}
      },
      "source": [
        ""
      ],
      "execution_count": 0,
      "outputs": []
    }
  ]
}