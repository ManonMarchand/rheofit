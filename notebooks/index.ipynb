{
 "cells": [
  {
   "cell_type": "markdown",
   "metadata": {},
   "source": [
    "# Rheofit notebooks index\n",
    "\n",
    "This index is the landing notebook for the colab badge\n",
    "\n",
    "* [Quickstart](Quickstart.ipynb)\n",
    "```\n",
    "Example of how to start using rheofit to analyze one or more flow curves, explore results and save to file\n",
    "```\n",
    "\n",
    "* [Fitting single flow curve data](Fitting_single_flow_curve_colab.ipynb) \n",
    "```\n",
    "this notebook focus on the possible analysis performed on a single flow curve.\n",
    "```\n",
    "\n",
    "\n",
    "* More notebooks to come:\n",
    "    * Fitting a list of flow curve from data files\n",
    "    * Importing data from different sources"
   ]
  }
 ],
 "metadata": {
  "kernelspec": {
   "display_name": "Python 3",
   "language": "python",
   "name": "python3"
  },
  "language_info": {
   "codemirror_mode": {
    "name": "ipython",
    "version": 3
   },
   "file_extension": ".py",
   "mimetype": "text/x-python",
   "name": "python",
   "nbconvert_exporter": "python",
   "pygments_lexer": "ipython3",
   "version": "3.7.4"
  }
 },
 "nbformat": 4,
 "nbformat_minor": 2
}
