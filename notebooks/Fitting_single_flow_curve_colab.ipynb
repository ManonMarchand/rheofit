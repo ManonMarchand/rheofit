{
  "nbformat": 4,
  "nbformat_minor": 0,
  "metadata": {
    "hide_input": false,
    "kernel_info": {
      "name": "python3"
    },
    "kernelspec": {
      "display_name": "Python 3",
      "language": "python",
      "name": "python3"
    },
    "language_info": {
      "codemirror_mode": {
        "name": "ipython",
        "version": 3
      },
      "file_extension": ".py",
      "mimetype": "text/x-python",
      "name": "python",
      "nbconvert_exporter": "python",
      "pygments_lexer": "ipython3",
      "version": "3.7.4"
    },
    "nteract": {
      "version": "0.15.0"
    },
    "colab": {
      "name": "Fitting_single_flow_curve.ipynb",
      "provenance": [],
      "include_colab_link": true
    }
  },
  "cells": [
    {
      "cell_type": "markdown",
      "metadata": {
        "id": "view-in-github",
        "colab_type": "text"
      },
      "source": [
        "<a href=\"https://colab.research.google.com/github/marcocaggioni/rheofit/blob/master/notebooks/Fitting_single_flow_curve_colab.ipynb\" target=\"_parent\"><img src=\"https://colab.research.google.com/assets/colab-badge.svg\" alt=\"Open In Colab\"/></a>"
      ]
    },
    {
      "cell_type": "markdown",
      "metadata": {
        "id": "H9vLPn3ICwlA",
        "colab_type": "text"
      },
      "source": [
        "# Fitting single flow curve\n",
        "\n",
        "List of usefull scripts\n",
        "\n",
        "The only objects that cells should share are functions and the general import in the first few cells"
      ]
    },
    {
      "cell_type": "code",
      "metadata": {
        "id": "LYT_Q3zkDIE3",
        "colab_type": "code",
        "colab": {
          "base_uri": "https://localhost:8080/",
          "height": 476
        },
        "outputId": "d7344cbb-ae7e-4e70-b07a-ab0b536e74e9"
      },
      "source": [
        "!pip install git+https://github.com/marcocaggioni/rheofit.git"
      ],
      "execution_count": 1,
      "outputs": [
        {
          "output_type": "stream",
          "text": [
            "Collecting git+https://github.com/marcocaggioni/rheofit.git\n",
            "  Cloning https://github.com/marcocaggioni/rheofit.git to /tmp/pip-req-build-55je0nn_\n",
            "  Running command git clone -q https://github.com/marcocaggioni/rheofit.git /tmp/pip-req-build-55je0nn_\n",
            "Requirement already satisfied (use --upgrade to upgrade): rheofit==0.1.0 from git+https://github.com/marcocaggioni/rheofit.git in /usr/local/lib/python3.6/dist-packages\n",
            "Requirement already satisfied: lmfit in /usr/local/lib/python3.6/dist-packages (from rheofit==0.1.0) (0.9.14)\n",
            "Requirement already satisfied: xmltodict in /usr/local/lib/python3.6/dist-packages (from rheofit==0.1.0) (0.12.0)\n",
            "Requirement already satisfied: emcee in /usr/local/lib/python3.6/dist-packages (from rheofit==0.1.0) (3.0.0)\n",
            "Requirement already satisfied: corner in /usr/local/lib/python3.6/dist-packages (from rheofit==0.1.0) (2.0.1)\n",
            "Requirement already satisfied: pybroom in /usr/local/lib/python3.6/dist-packages (from rheofit==0.1.0) (0.2)\n",
            "Requirement already satisfied: six>1.10 in /usr/local/lib/python3.6/dist-packages (from lmfit->rheofit==0.1.0) (1.12.0)\n",
            "Requirement already satisfied: asteval>=0.9.12 in /usr/local/lib/python3.6/dist-packages (from lmfit->rheofit==0.1.0) (0.9.15)\n",
            "Requirement already satisfied: uncertainties>=3.0 in /usr/local/lib/python3.6/dist-packages (from lmfit->rheofit==0.1.0) (3.1.2)\n",
            "Requirement already satisfied: scipy>=0.19 in /usr/local/lib/python3.6/dist-packages (from lmfit->rheofit==0.1.0) (1.3.1)\n",
            "Requirement already satisfied: numpy>=1.10 in /usr/local/lib/python3.6/dist-packages (from lmfit->rheofit==0.1.0) (1.16.5)\n",
            "Requirement already satisfied: matplotlib in /usr/local/lib/python3.6/dist-packages (from corner->rheofit==0.1.0) (3.0.3)\n",
            "Requirement already satisfied: pandas in /usr/local/lib/python3.6/dist-packages (from pybroom->rheofit==0.1.0) (0.24.2)\n",
            "Requirement already satisfied: kiwisolver>=1.0.1 in /usr/local/lib/python3.6/dist-packages (from matplotlib->corner->rheofit==0.1.0) (1.1.0)\n",
            "Requirement already satisfied: cycler>=0.10 in /usr/local/lib/python3.6/dist-packages (from matplotlib->corner->rheofit==0.1.0) (0.10.0)\n",
            "Requirement already satisfied: python-dateutil>=2.1 in /usr/local/lib/python3.6/dist-packages (from matplotlib->corner->rheofit==0.1.0) (2.5.3)\n",
            "Requirement already satisfied: pyparsing!=2.0.4,!=2.1.2,!=2.1.6,>=2.0.1 in /usr/local/lib/python3.6/dist-packages (from matplotlib->corner->rheofit==0.1.0) (2.4.2)\n",
            "Requirement already satisfied: pytz>=2011k in /usr/local/lib/python3.6/dist-packages (from pandas->pybroom->rheofit==0.1.0) (2018.9)\n",
            "Requirement already satisfied: setuptools in /usr/local/lib/python3.6/dist-packages (from kiwisolver>=1.0.1->matplotlib->corner->rheofit==0.1.0) (41.2.0)\n",
            "Building wheels for collected packages: rheofit\n",
            "  Building wheel for rheofit (setup.py) ... \u001b[?25l\u001b[?25hdone\n",
            "  Created wheel for rheofit: filename=rheofit-0.1.0-cp36-none-any.whl size=8006 sha256=3e87949dc8f70fd5368ede11af95af6b6bae7e4c32e724b4dcb8e0cf16285f47\n",
            "  Stored in directory: /tmp/pip-ephem-wheel-cache-h1zoh58q/wheels/f3/49/bb/fc1b0ac0a312efb9b4a46588084075de022a26ac00c8cf1193\n",
            "Successfully built rheofit\n"
          ],
          "name": "stdout"
        }
      ]
    },
    {
      "cell_type": "code",
      "metadata": {
        "id": "gjPMl7UDCwlC",
        "colab_type": "code",
        "colab": {}
      },
      "source": [
        "%matplotlib inline\n",
        "import sys\n",
        "sys.path.append(\"./../\")\n",
        "import rheofit\n",
        "import lmfit\n",
        "import pybroom as pb\n",
        "import matplotlib.pyplot as plt\n",
        "import pandas as pd\n",
        "import emcee\n",
        "import corner"
      ],
      "execution_count": 0,
      "outputs": []
    },
    {
      "cell_type": "markdown",
      "metadata": {
        "id": "ZWuxcdcuCwlH",
        "colab_type": "text"
      },
      "source": [
        "## Getting Example flow curve data"
      ]
    },
    {
      "cell_type": "code",
      "metadata": {
        "scrolled": false,
        "id": "-IdwBgCgCwlI",
        "colab_type": "code",
        "colab": {
          "base_uri": "https://localhost:8080/",
          "height": 1000
        },
        "outputId": "d89a6194-94c4-4e25-b2a9-248bc50adad1"
      },
      "source": [
        "#using provided example data\n",
        "example_data=rheofit.rheodata.example_emulsion()\n",
        "example_data"
      ],
      "execution_count": 3,
      "outputs": [
        {
          "output_type": "execute_result",
          "data": {
            "text/html": [
              "<div>\n",
              "<style scoped>\n",
              "    .dataframe tbody tr th:only-of-type {\n",
              "        vertical-align: middle;\n",
              "    }\n",
              "\n",
              "    .dataframe tbody tr th {\n",
              "        vertical-align: top;\n",
              "    }\n",
              "\n",
              "    .dataframe thead th {\n",
              "        text-align: right;\n",
              "    }\n",
              "</style>\n",
              "<table border=\"1\" class=\"dataframe\">\n",
              "  <thead>\n",
              "    <tr style=\"text-align: right;\">\n",
              "      <th></th>\n",
              "      <th>Shear rate</th>\n",
              "      <th>Stress</th>\n",
              "    </tr>\n",
              "  </thead>\n",
              "  <tbody>\n",
              "    <tr>\n",
              "      <th>0</th>\n",
              "      <td>999.894750</td>\n",
              "      <td>131.224750</td>\n",
              "    </tr>\n",
              "    <tr>\n",
              "      <th>1</th>\n",
              "      <td>891.251000</td>\n",
              "      <td>121.572250</td>\n",
              "    </tr>\n",
              "    <tr>\n",
              "      <th>2</th>\n",
              "      <td>794.328250</td>\n",
              "      <td>112.565250</td>\n",
              "    </tr>\n",
              "    <tr>\n",
              "      <th>3</th>\n",
              "      <td>707.946000</td>\n",
              "      <td>104.258000</td>\n",
              "    </tr>\n",
              "    <tr>\n",
              "      <th>4</th>\n",
              "      <td>630.957500</td>\n",
              "      <td>96.582950</td>\n",
              "    </tr>\n",
              "    <tr>\n",
              "      <th>5</th>\n",
              "      <td>562.341500</td>\n",
              "      <td>89.495925</td>\n",
              "    </tr>\n",
              "    <tr>\n",
              "      <th>6</th>\n",
              "      <td>501.187000</td>\n",
              "      <td>82.973725</td>\n",
              "    </tr>\n",
              "    <tr>\n",
              "      <th>7</th>\n",
              "      <td>446.683250</td>\n",
              "      <td>76.952300</td>\n",
              "    </tr>\n",
              "    <tr>\n",
              "      <th>8</th>\n",
              "      <td>398.109000</td>\n",
              "      <td>71.449250</td>\n",
              "    </tr>\n",
              "    <tr>\n",
              "      <th>9</th>\n",
              "      <td>354.815000</td>\n",
              "      <td>66.382500</td>\n",
              "    </tr>\n",
              "    <tr>\n",
              "      <th>10</th>\n",
              "      <td>316.227750</td>\n",
              "      <td>61.738000</td>\n",
              "    </tr>\n",
              "    <tr>\n",
              "      <th>11</th>\n",
              "      <td>281.838250</td>\n",
              "      <td>57.470050</td>\n",
              "    </tr>\n",
              "    <tr>\n",
              "      <th>12</th>\n",
              "      <td>251.188750</td>\n",
              "      <td>53.562825</td>\n",
              "    </tr>\n",
              "    <tr>\n",
              "      <th>13</th>\n",
              "      <td>223.872000</td>\n",
              "      <td>49.971150</td>\n",
              "    </tr>\n",
              "    <tr>\n",
              "      <th>14</th>\n",
              "      <td>199.527250</td>\n",
              "      <td>46.678000</td>\n",
              "    </tr>\n",
              "    <tr>\n",
              "      <th>15</th>\n",
              "      <td>177.829000</td>\n",
              "      <td>43.665100</td>\n",
              "    </tr>\n",
              "    <tr>\n",
              "      <th>16</th>\n",
              "      <td>158.490750</td>\n",
              "      <td>40.893600</td>\n",
              "    </tr>\n",
              "    <tr>\n",
              "      <th>17</th>\n",
              "      <td>141.253000</td>\n",
              "      <td>38.343550</td>\n",
              "    </tr>\n",
              "    <tr>\n",
              "      <th>18</th>\n",
              "      <td>125.893500</td>\n",
              "      <td>35.998150</td>\n",
              "    </tr>\n",
              "    <tr>\n",
              "      <th>19</th>\n",
              "      <td>112.202000</td>\n",
              "      <td>33.834100</td>\n",
              "    </tr>\n",
              "    <tr>\n",
              "      <th>20</th>\n",
              "      <td>100.000225</td>\n",
              "      <td>31.832825</td>\n",
              "    </tr>\n",
              "    <tr>\n",
              "      <th>21</th>\n",
              "      <td>89.125850</td>\n",
              "      <td>29.987525</td>\n",
              "    </tr>\n",
              "    <tr>\n",
              "      <th>22</th>\n",
              "      <td>79.433425</td>\n",
              "      <td>28.279775</td>\n",
              "    </tr>\n",
              "    <tr>\n",
              "      <th>23</th>\n",
              "      <td>70.794800</td>\n",
              "      <td>26.694725</td>\n",
              "    </tr>\n",
              "    <tr>\n",
              "      <th>24</th>\n",
              "      <td>63.095775</td>\n",
              "      <td>25.224025</td>\n",
              "    </tr>\n",
              "    <tr>\n",
              "      <th>25</th>\n",
              "      <td>56.234175</td>\n",
              "      <td>23.861250</td>\n",
              "    </tr>\n",
              "    <tr>\n",
              "      <th>26</th>\n",
              "      <td>50.118925</td>\n",
              "      <td>22.594175</td>\n",
              "    </tr>\n",
              "    <tr>\n",
              "      <th>27</th>\n",
              "      <td>44.668400</td>\n",
              "      <td>21.418600</td>\n",
              "    </tr>\n",
              "    <tr>\n",
              "      <th>28</th>\n",
              "      <td>39.810875</td>\n",
              "      <td>20.322825</td>\n",
              "    </tr>\n",
              "    <tr>\n",
              "      <th>29</th>\n",
              "      <td>35.481400</td>\n",
              "      <td>19.299625</td>\n",
              "    </tr>\n",
              "    <tr>\n",
              "      <th>...</th>\n",
              "      <td>...</td>\n",
              "      <td>...</td>\n",
              "    </tr>\n",
              "    <tr>\n",
              "      <th>71</th>\n",
              "      <td>0.281839</td>\n",
              "      <td>4.903512</td>\n",
              "    </tr>\n",
              "    <tr>\n",
              "      <th>72</th>\n",
              "      <td>0.251192</td>\n",
              "      <td>4.815292</td>\n",
              "    </tr>\n",
              "    <tr>\n",
              "      <th>73</th>\n",
              "      <td>0.223873</td>\n",
              "      <td>4.729872</td>\n",
              "    </tr>\n",
              "    <tr>\n",
              "      <th>74</th>\n",
              "      <td>0.199528</td>\n",
              "      <td>4.648013</td>\n",
              "    </tr>\n",
              "    <tr>\n",
              "      <th>75</th>\n",
              "      <td>0.177830</td>\n",
              "      <td>4.568455</td>\n",
              "    </tr>\n",
              "    <tr>\n",
              "      <th>76</th>\n",
              "      <td>0.158490</td>\n",
              "      <td>4.490795</td>\n",
              "    </tr>\n",
              "    <tr>\n",
              "      <th>77</th>\n",
              "      <td>0.141253</td>\n",
              "      <td>4.413418</td>\n",
              "    </tr>\n",
              "    <tr>\n",
              "      <th>78</th>\n",
              "      <td>0.125892</td>\n",
              "      <td>4.337580</td>\n",
              "    </tr>\n",
              "    <tr>\n",
              "      <th>79</th>\n",
              "      <td>0.112201</td>\n",
              "      <td>4.261750</td>\n",
              "    </tr>\n",
              "    <tr>\n",
              "      <th>80</th>\n",
              "      <td>0.099999</td>\n",
              "      <td>4.186445</td>\n",
              "    </tr>\n",
              "    <tr>\n",
              "      <th>81</th>\n",
              "      <td>0.089125</td>\n",
              "      <td>4.111598</td>\n",
              "    </tr>\n",
              "    <tr>\n",
              "      <th>82</th>\n",
              "      <td>0.079431</td>\n",
              "      <td>4.036218</td>\n",
              "    </tr>\n",
              "    <tr>\n",
              "      <th>83</th>\n",
              "      <td>0.070795</td>\n",
              "      <td>3.961225</td>\n",
              "    </tr>\n",
              "    <tr>\n",
              "      <th>84</th>\n",
              "      <td>0.063097</td>\n",
              "      <td>3.886750</td>\n",
              "    </tr>\n",
              "    <tr>\n",
              "      <th>85</th>\n",
              "      <td>0.056236</td>\n",
              "      <td>3.812663</td>\n",
              "    </tr>\n",
              "    <tr>\n",
              "      <th>86</th>\n",
              "      <td>0.050118</td>\n",
              "      <td>3.739257</td>\n",
              "    </tr>\n",
              "    <tr>\n",
              "      <th>87</th>\n",
              "      <td>0.044667</td>\n",
              "      <td>3.666965</td>\n",
              "    </tr>\n",
              "    <tr>\n",
              "      <th>88</th>\n",
              "      <td>0.039812</td>\n",
              "      <td>3.596097</td>\n",
              "    </tr>\n",
              "    <tr>\n",
              "      <th>89</th>\n",
              "      <td>0.035480</td>\n",
              "      <td>3.526772</td>\n",
              "    </tr>\n",
              "    <tr>\n",
              "      <th>90</th>\n",
              "      <td>0.031622</td>\n",
              "      <td>3.458772</td>\n",
              "    </tr>\n",
              "    <tr>\n",
              "      <th>91</th>\n",
              "      <td>0.028183</td>\n",
              "      <td>3.393145</td>\n",
              "    </tr>\n",
              "    <tr>\n",
              "      <th>92</th>\n",
              "      <td>0.025118</td>\n",
              "      <td>3.329848</td>\n",
              "    </tr>\n",
              "    <tr>\n",
              "      <th>93</th>\n",
              "      <td>0.022387</td>\n",
              "      <td>3.269595</td>\n",
              "    </tr>\n",
              "    <tr>\n",
              "      <th>94</th>\n",
              "      <td>0.019953</td>\n",
              "      <td>3.210183</td>\n",
              "    </tr>\n",
              "    <tr>\n",
              "      <th>95</th>\n",
              "      <td>0.017782</td>\n",
              "      <td>3.153433</td>\n",
              "    </tr>\n",
              "    <tr>\n",
              "      <th>96</th>\n",
              "      <td>0.015848</td>\n",
              "      <td>3.098968</td>\n",
              "    </tr>\n",
              "    <tr>\n",
              "      <th>97</th>\n",
              "      <td>0.014126</td>\n",
              "      <td>3.046845</td>\n",
              "    </tr>\n",
              "    <tr>\n",
              "      <th>98</th>\n",
              "      <td>0.012588</td>\n",
              "      <td>2.997400</td>\n",
              "    </tr>\n",
              "    <tr>\n",
              "      <th>99</th>\n",
              "      <td>0.011219</td>\n",
              "      <td>2.950915</td>\n",
              "    </tr>\n",
              "    <tr>\n",
              "      <th>100</th>\n",
              "      <td>0.010000</td>\n",
              "      <td>2.906797</td>\n",
              "    </tr>\n",
              "  </tbody>\n",
              "</table>\n",
              "<p>101 rows × 2 columns</p>\n",
              "</div>"
            ],
            "text/plain": [
              "     Shear rate      Stress\n",
              "0    999.894750  131.224750\n",
              "1    891.251000  121.572250\n",
              "2    794.328250  112.565250\n",
              "3    707.946000  104.258000\n",
              "4    630.957500   96.582950\n",
              "5    562.341500   89.495925\n",
              "6    501.187000   82.973725\n",
              "7    446.683250   76.952300\n",
              "8    398.109000   71.449250\n",
              "9    354.815000   66.382500\n",
              "10   316.227750   61.738000\n",
              "11   281.838250   57.470050\n",
              "12   251.188750   53.562825\n",
              "13   223.872000   49.971150\n",
              "14   199.527250   46.678000\n",
              "15   177.829000   43.665100\n",
              "16   158.490750   40.893600\n",
              "17   141.253000   38.343550\n",
              "18   125.893500   35.998150\n",
              "19   112.202000   33.834100\n",
              "20   100.000225   31.832825\n",
              "21    89.125850   29.987525\n",
              "22    79.433425   28.279775\n",
              "23    70.794800   26.694725\n",
              "24    63.095775   25.224025\n",
              "25    56.234175   23.861250\n",
              "26    50.118925   22.594175\n",
              "27    44.668400   21.418600\n",
              "28    39.810875   20.322825\n",
              "29    35.481400   19.299625\n",
              "..          ...         ...\n",
              "71     0.281839    4.903512\n",
              "72     0.251192    4.815292\n",
              "73     0.223873    4.729872\n",
              "74     0.199528    4.648013\n",
              "75     0.177830    4.568455\n",
              "76     0.158490    4.490795\n",
              "77     0.141253    4.413418\n",
              "78     0.125892    4.337580\n",
              "79     0.112201    4.261750\n",
              "80     0.099999    4.186445\n",
              "81     0.089125    4.111598\n",
              "82     0.079431    4.036218\n",
              "83     0.070795    3.961225\n",
              "84     0.063097    3.886750\n",
              "85     0.056236    3.812663\n",
              "86     0.050118    3.739257\n",
              "87     0.044667    3.666965\n",
              "88     0.039812    3.596097\n",
              "89     0.035480    3.526772\n",
              "90     0.031622    3.458772\n",
              "91     0.028183    3.393145\n",
              "92     0.025118    3.329848\n",
              "93     0.022387    3.269595\n",
              "94     0.019953    3.210183\n",
              "95     0.017782    3.153433\n",
              "96     0.015848    3.098968\n",
              "97     0.014126    3.046845\n",
              "98     0.012588    2.997400\n",
              "99     0.011219    2.950915\n",
              "100    0.010000    2.906797\n",
              "\n",
              "[101 rows x 2 columns]"
            ]
          },
          "metadata": {
            "tags": []
          },
          "execution_count": 3
        }
      ]
    },
    {
      "cell_type": "markdown",
      "metadata": {
        "id": "bvt_Uip1CwlK",
        "colab_type": "text"
      },
      "source": [
        "## Plotting flow curve data"
      ]
    },
    {
      "cell_type": "code",
      "metadata": {
        "id": "7Aa1x6kHCwlL",
        "colab_type": "code",
        "colab": {
          "base_uri": "https://localhost:8080/",
          "height": 292
        },
        "outputId": "8a0dd701-e745-4a77-fbda-babcd840f098"
      },
      "source": [
        "data=rheofit.rheodata.example_emulsion()\n",
        "\n",
        "def plot_data(data):\n",
        "    plt.plot(data['Shear rate'],data['Stress'],'o')\n",
        "    plt.yscale('log')\n",
        "    plt.xscale('log')\n",
        "    plt.ylabel('$\\sigma [Pa]$');\n",
        "    plt.xlabel('$\\dot\\gamma [1/s]$');\n",
        "    \n",
        "    return plt.gcf()\n",
        "\n",
        "plot_data(data);"
      ],
      "execution_count": 4,
      "outputs": [
        {
          "output_type": "display_data",
          "data": {
            "image/png": "[encoded data removed]",
            "text/plain": [
              "<Figure size 432x288 with 1 Axes>"
            ]
          },
          "metadata": {
            "tags": []
          }
        }
      ]
    },
    {
      "cell_type": "markdown",
      "metadata": {
        "id": "1G879lZRCwlN",
        "colab_type": "text"
      },
      "source": [
        "## Fitting flow curve data to a rheological model"
      ]
    },
    {
      "cell_type": "code",
      "metadata": {
        "id": "imzqgtPACwlN",
        "colab_type": "code",
        "colab": {
          "base_uri": "https://localhost:8080/",
          "height": 545
        },
        "outputId": "90820394-7bbf-4f7a-bd9a-f27a7dc4a9d8"
      },
      "source": [
        "data=rheofit.rheodata.example_emulsion()\n",
        "model=rheofit.models.HB_model\n",
        "res_fit=model.fit(data['Stress'],x=data['Shear rate'],weights=1/(data['Stress']))\n",
        "res_fit"
      ],
      "execution_count": 5,
      "outputs": [
        {
          "output_type": "execute_result",
          "data": {
            "text/html": [
              "<h2> Model</h2> Model(HB, prefix='HB_') <h2>Fit Statistics</h2><table><tr><td>fitting method</td><td>leastsq</td><td></td></tr><tr><td># function evals</td><td>29</td><td></td></tr><tr><td># data points</td><td>101</td><td></td></tr><tr><td># variables</td><td>3</td><td></td></tr><tr><td>chi-square</td><td> 0.52363806</td><td></td></tr><tr><td>reduced chi-square</td><td> 0.00534325</td><td></td></tr><tr><td>Akaike info crit.</td><td>-525.469582</td><td></td></tr><tr><td>Bayesian info crit.</td><td>-517.624221</td><td></td></tr></table><h2>Variables</h2><table><tr><th> name </th><th> value </th><th> standard error </th><th> relative error </th><th> initial value </th><th> min </th><th> max </th><th> vary </th></tr><tr><td> HB_ystress </td><td>  3.18629490 </td><td>  0.06296913 </td><td> (1.98%) </td><td> 1.0 </td><td>  0.00000000 </td><td>         inf </td><td> True </td></tr><tr><td> HB_K </td><td>  2.56281495 </td><td>  0.09118889 </td><td> (3.56%) </td><td> 1.0 </td><td>  0.00000000 </td><td>         inf </td><td> True </td></tr><tr><td> HB_n </td><td>  0.53928815 </td><td>  0.00752288 </td><td> (1.39%) </td><td> 0.5 </td><td>  0.00000000 </td><td>  1.00000000 </td><td> True </td></tr></table><h2>Correlations (unreported correlations are < 0.100)</h2><table><tr><td>HB_K</td><td>HB_n</td><td>-0.9380</td></tr><tr><td>HB_ystress</td><td>HB_K</td><td>-0.7366</td></tr><tr><td>HB_ystress</td><td>HB_n</td><td>0.6757</td></tr></table>"
            ],
            "text/plain": [
              "<lmfit.model.ModelResult at 0x7f0d6f540748>"
            ]
          },
          "metadata": {
            "tags": []
          },
          "execution_count": 5
        }
      ]
    },
    {
      "cell_type": "code",
      "metadata": {
        "id": "cA_HHQbBCwlP",
        "colab_type": "code",
        "colab": {
          "base_uri": "https://localhost:8080/",
          "height": 584
        },
        "outputId": "49d330c3-3f80-4c92-aa45-01bde1e07f17"
      },
      "source": [
        "data=rheofit.rheodata.example_emulsion()\n",
        "data=data[data['Shear rate']>0.1]\n",
        "model=rheofit.models.HB_model\n",
        "res_fit=model.fit(data['Stress'],x=data['Shear rate'],weights=1/(data['Stress']*0.1))\n",
        "\n",
        "kwarg={'xscale':'log','yscale':('log')}\n",
        "res_fit.plot_fit(ax_kws=kwarg,yerr=False);\n",
        "plt.figure()\n",
        "res_fit.plot_residuals(yerr=False,ax_kws={'xscale':'log'})"
      ],
      "execution_count": 17,
      "outputs": [
        {
          "output_type": "execute_result",
          "data": {
            "text/plain": [
              "<matplotlib.axes._subplots.AxesSubplot at 0x7f0d71f08d30>"
            ]
          },
          "metadata": {
            "tags": []
          },
          "execution_count": 17
        },
        {
          "output_type": "display_data",
          "data": {
            "image/png": "[encoded data removed]",
            "text/plain": [
              "<Figure size 432x288 with 1 Axes>"
            ]
          },
          "metadata": {
            "tags": []
          }
        },
        {
          "output_type": "display_data",
          "data": {
            "image/png": "[encoded data removed]",
            "text/plain": [
              "<Figure size 432x288 with 1 Axes>"
            ]
          },
          "metadata": {
            "tags": []
          }
        }
      ]
    },
    {
      "cell_type": "code",
      "metadata": {
        "id": "OGTq1CKOCwlR",
        "colab_type": "code",
        "colab": {
          "base_uri": "https://localhost:8080/",
          "height": 292
        },
        "outputId": "0106f376-8415-455c-bf1b-1d37caa7d0cc"
      },
      "source": [
        "data=rheofit.rheodata.example_emulsion()\n",
        "data=data[data['Shear rate']>0.1]\n",
        "\n",
        "model=rheofit.models.HB_model\n",
        "res_fit=model.fit(data['Stress'],x=data['Shear rate'],weights=1/(data['Stress']))\n",
        "\n",
        "def plot_fit(res_fit, xlist=None):\n",
        "    if xlist is None:\n",
        "        xlist=res_fit.userkws['x']\n",
        "    \n",
        "    plt.plot(res_fit.userkws['x'], res_fit.data,'o',label='Data')\n",
        "    plt.plot(xlist, res_fit.eval(x=xlist),label='Best fit')\n",
        "    plt.yscale('log')\n",
        "    plt.xscale('log')\n",
        "    plt.ylabel('$\\sigma [Pa]$')\n",
        "    plt.xlabel('$\\dot\\gamma [1/s]$')\n",
        "\n",
        "plot_fit(res_fit);"
      ],
      "execution_count": 10,
      "outputs": [
        {
          "output_type": "display_data",
          "data": {
            "image/png": "[encoded data removed]",
            "text/plain": [
              "<Figure size 432x288 with 1 Axes>"
            ]
          },
          "metadata": {
            "tags": []
          }
        }
      ]
    },
    {
      "cell_type": "markdown",
      "metadata": {
        "id": "MM3xBkwjCwlT",
        "colab_type": "text"
      },
      "source": [
        "## Explore fit results with pybroom "
      ]
    },
    {
      "cell_type": "code",
      "metadata": {
        "id": "oPub69raCwlT",
        "colab_type": "code",
        "colab": {
          "base_uri": "https://localhost:8080/",
          "height": 80
        },
        "outputId": "a80a4626-9aa2-4001-aafa-87f0af86cab6"
      },
      "source": [
        "data=rheofit.rheodata.example_emulsion()\n",
        "model=rheofit.models.HB_model\n",
        "res_fit=model.fit(data['Stress'],x=data['Shear rate'],weights=1/(data['Stress']))\n",
        "\n",
        "pb.glance(res_fit)"
      ],
      "execution_count": 11,
      "outputs": [
        {
          "output_type": "execute_result",
          "data": {
            "text/latex": "\\centering{\\begin{tabular}{lllrrrrrrrll}\n\\toprule\n{} &                    model &   method &  num\\_params &  num\\_data\\_points &    chisqr &    redchi &         AIC &         BIC &  num\\_func\\_eval &  success &         message \\\\\n\\midrule\n0 &  Model(HB, prefix='HB\\_') &  leastsq &           3 &              101 &  0.523638 &  0.005343 & -525.469582 & -517.624221 &             29 &     True &  Fit succeeded. \\\\\n\\bottomrule\n\\end{tabular}\n}",
            "text/html": [
              "<div>\n",
              "<style scoped>\n",
              "    .dataframe tbody tr th:only-of-type {\n",
              "        vertical-align: middle;\n",
              "    }\n",
              "\n",
              "    .dataframe tbody tr th {\n",
              "        vertical-align: top;\n",
              "    }\n",
              "\n",
              "    .dataframe thead th {\n",
              "        text-align: right;\n",
              "    }\n",
              "</style>\n",
              "<table border=\"1\" class=\"dataframe\">\n",
              "  <thead>\n",
              "    <tr style=\"text-align: right;\">\n",
              "      <th></th>\n",
              "      <th>model</th>\n",
              "      <th>method</th>\n",
              "      <th>num_params</th>\n",
              "      <th>num_data_points</th>\n",
              "      <th>chisqr</th>\n",
              "      <th>redchi</th>\n",
              "      <th>AIC</th>\n",
              "      <th>BIC</th>\n",
              "      <th>num_func_eval</th>\n",
              "      <th>success</th>\n",
              "      <th>message</th>\n",
              "    </tr>\n",
              "  </thead>\n",
              "  <tbody>\n",
              "    <tr>\n",
              "      <th>0</th>\n",
              "      <td>Model(HB, prefix='HB_')</td>\n",
              "      <td>leastsq</td>\n",
              "      <td>3</td>\n",
              "      <td>101</td>\n",
              "      <td>0.523638</td>\n",
              "      <td>0.005343</td>\n",
              "      <td>-525.469582</td>\n",
              "      <td>-517.624221</td>\n",
              "      <td>29</td>\n",
              "      <td>True</td>\n",
              "      <td>Fit succeeded.</td>\n",
              "    </tr>\n",
              "  </tbody>\n",
              "</table>\n",
              "</div>"
            ],
            "text/plain": [
              "                     model   method  ...  success         message\n",
              "0  Model(HB, prefix='HB_')  leastsq  ...     True  Fit succeeded.\n",
              "\n",
              "[1 rows x 11 columns]"
            ]
          },
          "metadata": {
            "tags": []
          },
          "execution_count": 11
        }
      ]
    },
    {
      "cell_type": "code",
      "metadata": {
        "id": "OWyIDjWHCwld",
        "colab_type": "code",
        "colab": {
          "base_uri": "https://localhost:8080/",
          "height": 142
        },
        "outputId": "39061eb3-08d1-44eb-fb0e-75553ed918f9"
      },
      "source": [
        "data=rheofit.rheodata.example_emulsion()\n",
        "model=rheofit.models.HB_model\n",
        "res_fit=model.fit(data['Stress'],x=data['Shear rate'],weights=1/(data['Stress']))\n",
        "\n",
        "pb.tidy(res_fit)"
      ],
      "execution_count": 12,
      "outputs": [
        {
          "output_type": "execute_result",
          "data": {
            "text/latex": "\\centering{\\begin{tabular}{llrrrlrrr}\n\\toprule\n{} &        name &     value &  min &  max &  vary &  expr &    stderr &  init\\_value \\\\\n\\midrule\n0 &        HB\\_K &  2.562815 &    0 &  inf &  True &   NaN &  0.091189 &         1.0 \\\\\n1 &        HB\\_n &  0.539288 &    0 &  1.0 &  True &   NaN &  0.007523 &         0.5 \\\\\n2 &  HB\\_ystress &  3.186295 &    0 &  inf &  True &   NaN &  0.062969 &         1.0 \\\\\n\\bottomrule\n\\end{tabular}\n}",
            "text/html": [
              "<div>\n",
              "<style scoped>\n",
              "    .dataframe tbody tr th:only-of-type {\n",
              "        vertical-align: middle;\n",
              "    }\n",
              "\n",
              "    .dataframe tbody tr th {\n",
              "        vertical-align: top;\n",
              "    }\n",
              "\n",
              "    .dataframe thead th {\n",
              "        text-align: right;\n",
              "    }\n",
              "</style>\n",
              "<table border=\"1\" class=\"dataframe\">\n",
              "  <thead>\n",
              "    <tr style=\"text-align: right;\">\n",
              "      <th></th>\n",
              "      <th>name</th>\n",
              "      <th>value</th>\n",
              "      <th>min</th>\n",
              "      <th>max</th>\n",
              "      <th>vary</th>\n",
              "      <th>expr</th>\n",
              "      <th>stderr</th>\n",
              "      <th>init_value</th>\n",
              "    </tr>\n",
              "  </thead>\n",
              "  <tbody>\n",
              "    <tr>\n",
              "      <th>0</th>\n",
              "      <td>HB_K</td>\n",
              "      <td>2.562815</td>\n",
              "      <td>0</td>\n",
              "      <td>inf</td>\n",
              "      <td>True</td>\n",
              "      <td>NaN</td>\n",
              "      <td>0.091189</td>\n",
              "      <td>1.0</td>\n",
              "    </tr>\n",
              "    <tr>\n",
              "      <th>1</th>\n",
              "      <td>HB_n</td>\n",
              "      <td>0.539288</td>\n",
              "      <td>0</td>\n",
              "      <td>1.0</td>\n",
              "      <td>True</td>\n",
              "      <td>NaN</td>\n",
              "      <td>0.007523</td>\n",
              "      <td>0.5</td>\n",
              "    </tr>\n",
              "    <tr>\n",
              "      <th>2</th>\n",
              "      <td>HB_ystress</td>\n",
              "      <td>3.186295</td>\n",
              "      <td>0</td>\n",
              "      <td>inf</td>\n",
              "      <td>True</td>\n",
              "      <td>NaN</td>\n",
              "      <td>0.062969</td>\n",
              "      <td>1.0</td>\n",
              "    </tr>\n",
              "  </tbody>\n",
              "</table>\n",
              "</div>"
            ],
            "text/plain": [
              "         name     value  min  max  vary  expr    stderr  init_value\n",
              "0        HB_K  2.562815    0  inf  True   NaN  0.091189         1.0\n",
              "1        HB_n  0.539288    0  1.0  True   NaN  0.007523         0.5\n",
              "2  HB_ystress  3.186295    0  inf  True   NaN  0.062969         1.0"
            ]
          },
          "metadata": {
            "tags": []
          },
          "execution_count": 12
        }
      ]
    },
    {
      "cell_type": "code",
      "metadata": {
        "id": "bRXTpYdjCwlh",
        "colab_type": "code",
        "colab": {
          "base_uri": "https://localhost:8080/",
          "height": 1000
        },
        "outputId": "66d2bfd3-22fa-4fa1-e856-edc4d6fd8062"
      },
      "source": [
        "data=rheofit.rheodata.example_emulsion()\n",
        "model=rheofit.models.HB_model\n",
        "res_fit=model.fit(data['Stress'],x=data['Shear rate'],weights=1/(data['Stress']))\n",
        "\n",
        "augmented=pb.augment(res_fit)\n",
        "augmented"
      ],
      "execution_count": 13,
      "outputs": [
        {
          "output_type": "execute_result",
          "data": {
            "text/latex": "\\centering{\\begin{tabular}{lrrrr}\n\\toprule\n{} &           x &        data &    best\\_fit &  residual \\\\\n\\midrule\n0   &  999.894750 &  131.224750 &  109.492113 & -0.165614 \\\\\n1   &  891.251000 &  121.572250 &  103.098212 & -0.151959 \\\\\n2   &  794.328250 &  112.565250 &   97.083545 & -0.137535 \\\\\n3   &  707.946000 &  104.258000 &   91.430975 & -0.123032 \\\\\n4   &  630.957500 &   96.582950 &   86.118672 & -0.108345 \\\\\n5   &  562.341500 &   89.495925 &   81.126173 & -0.093521 \\\\\n6   &  501.187000 &   82.973725 &   76.434187 & -0.078815 \\\\\n7   &  446.683250 &   76.952300 &   72.024677 & -0.064035 \\\\\n8   &  398.109000 &   71.449250 &   67.880816 & -0.049944 \\\\\n9   &  354.815000 &   66.382500 &   63.986225 & -0.036098 \\\\\n10  &  316.227750 &   61.738000 &   60.325948 & -0.022872 \\\\\n11  &  281.838250 &   57.470050 &   56.886157 & -0.010160 \\\\\n12  &  251.188750 &   53.562825 &   53.653459 &  0.001692 \\\\\n13  &  223.872000 &   49.971150 &   50.615328 &  0.012891 \\\\\n14  &  199.527250 &   46.678000 &   47.760251 &  0.023185 \\\\\n15  &  177.829000 &   43.665100 &   45.076932 &  0.032333 \\\\\n16  &  158.490750 &   40.893600 &   42.555195 &  0.040632 \\\\\n17  &  141.253000 &   38.343550 &   40.184914 &  0.048023 \\\\\n18  &  125.893500 &   35.998150 &   37.957852 &  0.054439 \\\\\n19  &  112.202000 &   33.834100 &   35.864506 &  0.060011 \\\\\n20  &  100.000225 &   31.832825 &   33.897303 &  0.064854 \\\\\n21  &   89.125850 &   29.987525 &   32.048607 &  0.068731 \\\\\n22  &   79.433425 &   28.279775 &   30.311092 &  0.071829 \\\\\n23  &   70.794800 &   26.694725 &   28.678127 &  0.074299 \\\\\n24  &   63.095775 &   25.224025 &   27.143495 &  0.076097 \\\\\n25  &   56.234175 &   23.861250 &   25.701281 &  0.077114 \\\\\n26  &   50.118925 &   22.594175 &   24.345923 &  0.077531 \\\\\n27  &   44.668400 &   21.418600 &   23.072087 &  0.077199 \\\\\n28  &   39.810875 &   20.322825 &   21.875000 &  0.076376 \\\\\n29  &   35.481400 &   19.299625 &   20.749925 &  0.075147 \\\\\n30  &   31.622875 &   18.345225 &   19.692612 &  0.073446 \\\\\n31  &   28.183875 &   17.461225 &   18.698925 &  0.070883 \\\\\n32  &   25.119050 &   16.637150 &   17.765115 &  0.067798 \\\\\n33  &   22.387175 &   15.854425 &   16.887408 &  0.065154 \\\\\n34  &   19.952600 &   15.142100 &   16.062609 &  0.060791 \\\\\n35  &   17.782925 &   14.466350 &   15.287515 &  0.056764 \\\\\n36  &   15.848950 &   13.832200 &   14.558987 &  0.052543 \\\\\n37  &   14.125400 &   13.239375 &   13.874358 &  0.047962 \\\\\n38  &   12.589300 &   12.683750 &   13.230951 &  0.043142 \\\\\n39  &   11.220200 &   12.159000 &   12.626254 &  0.038429 \\\\\n40  &    9.999990 &   11.673425 &   12.057960 &  0.032941 \\\\\n41  &    8.912562 &   11.221750 &   11.523920 &  0.026927 \\\\\n42  &    7.943310 &   10.785100 &   11.021988 &  0.021964 \\\\\n43  &    7.079470 &   10.385050 &   10.550274 &  0.015910 \\\\\n44  &    6.309578 &    9.998685 &   10.106961 &  0.010829 \\\\\n45  &    5.623450 &    9.647470 &    9.690360 &  0.004446 \\\\\n46  &    5.011882 &    9.311640 &    9.298803 & -0.001379 \\\\\n47  &    4.466837 &    8.987080 &    8.930827 & -0.006259 \\\\\n48  &    3.981082 &    8.691690 &    8.585014 & -0.012273 \\\\\n49  &    3.548155 &    8.411305 &    8.260022 & -0.017986 \\\\\n50  &    3.162275 &    8.146395 &    7.954568 & -0.023547 \\\\\n51  &    2.818390 &    7.895768 &    7.667528 & -0.028907 \\\\\n52  &    2.511893 &    7.659020 &    7.397759 & -0.034112 \\\\\n53  &    2.238733 &    7.432132 &    7.144236 & -0.038737 \\\\\n54  &    1.995270 &    7.221855 &    6.905966 & -0.043741 \\\\\n55  &    1.778285 &    7.023707 &    6.682042 & -0.048645 \\\\\n56  &    1.584898 &    6.835063 &    6.471599 & -0.053176 \\\\\n57  &    1.412540 &    6.655800 &    6.273823 & -0.057390 \\\\\n58  &    1.258925 &    6.481415 &    6.087951 & -0.060706 \\\\\n59  &    1.122030 &    6.320292 &    5.913288 & -0.064396 \\\\\n60  &    1.000000 &    6.168960 &    5.749110 & -0.068059 \\\\\n61  &    0.891250 &    6.022328 &    5.594828 & -0.070986 \\\\\n62  &    0.794334 &    5.885282 &    5.449845 & -0.073988 \\\\\n63  &    0.707949 &    5.755240 &    5.313577 & -0.076741 \\\\\n64  &    0.630960 &    5.627407 &    5.185515 & -0.078525 \\\\\n65  &    0.562345 &    5.510838 &    5.065165 & -0.080872 \\\\\n66  &    0.501192 &    5.398845 &    4.952060 & -0.082756 \\\\\n67  &    0.446688 &    5.289307 &    4.845762 & -0.083857 \\\\\n68  &    0.398107 &    5.184628 &    4.745853 & -0.084630 \\\\\n69  &    0.354813 &    5.087360 &    4.651969 & -0.085583 \\\\\n70  &    0.316232 &    4.994620 &    4.563746 & -0.086268 \\\\\n71  &    0.281839 &    4.903512 &    4.480817 & -0.086203 \\\\\n72  &    0.251192 &    4.815292 &    4.402893 & -0.085644 \\\\\n73  &    0.223873 &    4.729872 &    4.329648 & -0.084616 \\\\\n74  &    0.199528 &    4.648013 &    4.260823 & -0.083302 \\\\\n75  &    0.177830 &    4.568455 &    4.196137 & -0.081498 \\\\\n76  &    0.158490 &    4.490795 &    4.135343 & -0.079151 \\\\\n77  &    0.141253 &    4.413418 &    4.078206 & -0.075953 \\\\\n78  &    0.125892 &    4.337580 &    4.024514 & -0.072175 \\\\\n79  &    0.112201 &    4.261750 &    3.974052 & -0.067507 \\\\\n80  &    0.099999 &    4.186445 &    3.926629 & -0.062061 \\\\\n81  &    0.089125 &    4.111598 &    3.882063 & -0.055826 \\\\\n82  &    0.079431 &    4.036218 &    3.840171 & -0.048572 \\\\\n83  &    0.070795 &    3.961225 &    3.800816 & -0.040495 \\\\\n84  &    0.063097 &    3.886750 &    3.763826 & -0.031626 \\\\\n85  &    0.056236 &    3.812663 &    3.729064 & -0.021926 \\\\\n86  &    0.050118 &    3.739257 &    3.696374 & -0.011468 \\\\\n87  &    0.044667 &    3.666965 &    3.665668 & -0.000354 \\\\\n88  &    0.039812 &    3.596097 &    3.636820 &  0.011324 \\\\\n89  &    0.035480 &    3.526772 &    3.609686 &  0.023510 \\\\\n90  &    0.031622 &    3.458772 &    3.584199 &  0.036263 \\\\\n91  &    0.028183 &    3.393145 &    3.560246 &  0.049247 \\\\\n92  &    0.025118 &    3.329848 &    3.537732 &  0.062431 \\\\\n93  &    0.022387 &    3.269595 &    3.516580 &  0.075540 \\\\\n94  &    0.019953 &    3.210183 &    3.496700 &  0.089253 \\\\\n95  &    0.017782 &    3.153433 &    3.478008 &  0.102928 \\\\\n96  &    0.015848 &    3.098968 &    3.460439 &  0.116642 \\\\\n97  &    0.014126 &    3.046845 &    3.443949 &  0.130333 \\\\\n98  &    0.012588 &    2.997400 &    3.428427 &  0.143800 \\\\\n99  &    0.011219 &    2.950915 &    3.413850 &  0.156878 \\\\\n100 &    0.010000 &    2.906797 &    3.400155 &  0.169726 \\\\\n\\bottomrule\n\\end{tabular}\n}",
            "text/html": [
              "<div>\n",
              "<style scoped>\n",
              "    .dataframe tbody tr th:only-of-type {\n",
              "        vertical-align: middle;\n",
              "    }\n",
              "\n",
              "    .dataframe tbody tr th {\n",
              "        vertical-align: top;\n",
              "    }\n",
              "\n",
              "    .dataframe thead th {\n",
              "        text-align: right;\n",
              "    }\n",
              "</style>\n",
              "<table border=\"1\" class=\"dataframe\">\n",
              "  <thead>\n",
              "    <tr style=\"text-align: right;\">\n",
              "      <th></th>\n",
              "      <th>x</th>\n",
              "      <th>data</th>\n",
              "      <th>best_fit</th>\n",
              "      <th>residual</th>\n",
              "    </tr>\n",
              "  </thead>\n",
              "  <tbody>\n",
              "    <tr>\n",
              "      <th>0</th>\n",
              "      <td>999.894750</td>\n",
              "      <td>131.224750</td>\n",
              "      <td>109.492113</td>\n",
              "      <td>-0.165614</td>\n",
              "    </tr>\n",
              "    <tr>\n",
              "      <th>1</th>\n",
              "      <td>891.251000</td>\n",
              "      <td>121.572250</td>\n",
              "      <td>103.098212</td>\n",
              "      <td>-0.151959</td>\n",
              "    </tr>\n",
              "    <tr>\n",
              "      <th>2</th>\n",
              "      <td>794.328250</td>\n",
              "      <td>112.565250</td>\n",
              "      <td>97.083545</td>\n",
              "      <td>-0.137535</td>\n",
              "    </tr>\n",
              "    <tr>\n",
              "      <th>3</th>\n",
              "      <td>707.946000</td>\n",
              "      <td>104.258000</td>\n",
              "      <td>91.430975</td>\n",
              "      <td>-0.123032</td>\n",
              "    </tr>\n",
              "    <tr>\n",
              "      <th>4</th>\n",
              "      <td>630.957500</td>\n",
              "      <td>96.582950</td>\n",
              "      <td>86.118672</td>\n",
              "      <td>-0.108345</td>\n",
              "    </tr>\n",
              "    <tr>\n",
              "      <th>5</th>\n",
              "      <td>562.341500</td>\n",
              "      <td>89.495925</td>\n",
              "      <td>81.126173</td>\n",
              "      <td>-0.093521</td>\n",
              "    </tr>\n",
              "    <tr>\n",
              "      <th>6</th>\n",
              "      <td>501.187000</td>\n",
              "      <td>82.973725</td>\n",
              "      <td>76.434187</td>\n",
              "      <td>-0.078815</td>\n",
              "    </tr>\n",
              "    <tr>\n",
              "      <th>7</th>\n",
              "      <td>446.683250</td>\n",
              "      <td>76.952300</td>\n",
              "      <td>72.024677</td>\n",
              "      <td>-0.064035</td>\n",
              "    </tr>\n",
              "    <tr>\n",
              "      <th>8</th>\n",
              "      <td>398.109000</td>\n",
              "      <td>71.449250</td>\n",
              "      <td>67.880816</td>\n",
              "      <td>-0.049944</td>\n",
              "    </tr>\n",
              "    <tr>\n",
              "      <th>9</th>\n",
              "      <td>354.815000</td>\n",
              "      <td>66.382500</td>\n",
              "      <td>63.986225</td>\n",
              "      <td>-0.036098</td>\n",
              "    </tr>\n",
              "    <tr>\n",
              "      <th>10</th>\n",
              "      <td>316.227750</td>\n",
              "      <td>61.738000</td>\n",
              "      <td>60.325948</td>\n",
              "      <td>-0.022872</td>\n",
              "    </tr>\n",
              "    <tr>\n",
              "      <th>11</th>\n",
              "      <td>281.838250</td>\n",
              "      <td>57.470050</td>\n",
              "      <td>56.886157</td>\n",
              "      <td>-0.010160</td>\n",
              "    </tr>\n",
              "    <tr>\n",
              "      <th>12</th>\n",
              "      <td>251.188750</td>\n",
              "      <td>53.562825</td>\n",
              "      <td>53.653459</td>\n",
              "      <td>0.001692</td>\n",
              "    </tr>\n",
              "    <tr>\n",
              "      <th>13</th>\n",
              "      <td>223.872000</td>\n",
              "      <td>49.971150</td>\n",
              "      <td>50.615328</td>\n",
              "      <td>0.012891</td>\n",
              "    </tr>\n",
              "    <tr>\n",
              "      <th>14</th>\n",
              "      <td>199.527250</td>\n",
              "      <td>46.678000</td>\n",
              "      <td>47.760251</td>\n",
              "      <td>0.023185</td>\n",
              "    </tr>\n",
              "    <tr>\n",
              "      <th>15</th>\n",
              "      <td>177.829000</td>\n",
              "      <td>43.665100</td>\n",
              "      <td>45.076932</td>\n",
              "      <td>0.032333</td>\n",
              "    </tr>\n",
              "    <tr>\n",
              "      <th>16</th>\n",
              "      <td>158.490750</td>\n",
              "      <td>40.893600</td>\n",
              "      <td>42.555195</td>\n",
              "      <td>0.040632</td>\n",
              "    </tr>\n",
              "    <tr>\n",
              "      <th>17</th>\n",
              "      <td>141.253000</td>\n",
              "      <td>38.343550</td>\n",
              "      <td>40.184914</td>\n",
              "      <td>0.048023</td>\n",
              "    </tr>\n",
              "    <tr>\n",
              "      <th>18</th>\n",
              "      <td>125.893500</td>\n",
              "      <td>35.998150</td>\n",
              "      <td>37.957852</td>\n",
              "      <td>0.054439</td>\n",
              "    </tr>\n",
              "    <tr>\n",
              "      <th>19</th>\n",
              "      <td>112.202000</td>\n",
              "      <td>33.834100</td>\n",
              "      <td>35.864506</td>\n",
              "      <td>0.060011</td>\n",
              "    </tr>\n",
              "    <tr>\n",
              "      <th>20</th>\n",
              "      <td>100.000225</td>\n",
              "      <td>31.832825</td>\n",
              "      <td>33.897303</td>\n",
              "      <td>0.064854</td>\n",
              "    </tr>\n",
              "    <tr>\n",
              "      <th>21</th>\n",
              "      <td>89.125850</td>\n",
              "      <td>29.987525</td>\n",
              "      <td>32.048607</td>\n",
              "      <td>0.068731</td>\n",
              "    </tr>\n",
              "    <tr>\n",
              "      <th>22</th>\n",
              "      <td>79.433425</td>\n",
              "      <td>28.279775</td>\n",
              "      <td>30.311092</td>\n",
              "      <td>0.071829</td>\n",
              "    </tr>\n",
              "    <tr>\n",
              "      <th>23</th>\n",
              "      <td>70.794800</td>\n",
              "      <td>26.694725</td>\n",
              "      <td>28.678127</td>\n",
              "      <td>0.074299</td>\n",
              "    </tr>\n",
              "    <tr>\n",
              "      <th>24</th>\n",
              "      <td>63.095775</td>\n",
              "      <td>25.224025</td>\n",
              "      <td>27.143495</td>\n",
              "      <td>0.076097</td>\n",
              "    </tr>\n",
              "    <tr>\n",
              "      <th>25</th>\n",
              "      <td>56.234175</td>\n",
              "      <td>23.861250</td>\n",
              "      <td>25.701281</td>\n",
              "      <td>0.077114</td>\n",
              "    </tr>\n",
              "    <tr>\n",
              "      <th>26</th>\n",
              "      <td>50.118925</td>\n",
              "      <td>22.594175</td>\n",
              "      <td>24.345923</td>\n",
              "      <td>0.077531</td>\n",
              "    </tr>\n",
              "    <tr>\n",
              "      <th>27</th>\n",
              "      <td>44.668400</td>\n",
              "      <td>21.418600</td>\n",
              "      <td>23.072087</td>\n",
              "      <td>0.077199</td>\n",
              "    </tr>\n",
              "    <tr>\n",
              "      <th>28</th>\n",
              "      <td>39.810875</td>\n",
              "      <td>20.322825</td>\n",
              "      <td>21.875000</td>\n",
              "      <td>0.076376</td>\n",
              "    </tr>\n",
              "    <tr>\n",
              "      <th>29</th>\n",
              "      <td>35.481400</td>\n",
              "      <td>19.299625</td>\n",
              "      <td>20.749925</td>\n",
              "      <td>0.075147</td>\n",
              "    </tr>\n",
              "    <tr>\n",
              "      <th>...</th>\n",
              "      <td>...</td>\n",
              "      <td>...</td>\n",
              "      <td>...</td>\n",
              "      <td>...</td>\n",
              "    </tr>\n",
              "    <tr>\n",
              "      <th>71</th>\n",
              "      <td>0.281839</td>\n",
              "      <td>4.903512</td>\n",
              "      <td>4.480817</td>\n",
              "      <td>-0.086203</td>\n",
              "    </tr>\n",
              "    <tr>\n",
              "      <th>72</th>\n",
              "      <td>0.251192</td>\n",
              "      <td>4.815292</td>\n",
              "      <td>4.402893</td>\n",
              "      <td>-0.085644</td>\n",
              "    </tr>\n",
              "    <tr>\n",
              "      <th>73</th>\n",
              "      <td>0.223873</td>\n",
              "      <td>4.729872</td>\n",
              "      <td>4.329648</td>\n",
              "      <td>-0.084616</td>\n",
              "    </tr>\n",
              "    <tr>\n",
              "      <th>74</th>\n",
              "      <td>0.199528</td>\n",
              "      <td>4.648013</td>\n",
              "      <td>4.260823</td>\n",
              "      <td>-0.083302</td>\n",
              "    </tr>\n",
              "    <tr>\n",
              "      <th>75</th>\n",
              "      <td>0.177830</td>\n",
              "      <td>4.568455</td>\n",
              "      <td>4.196137</td>\n",
              "      <td>-0.081498</td>\n",
              "    </tr>\n",
              "    <tr>\n",
              "      <th>76</th>\n",
              "      <td>0.158490</td>\n",
              "      <td>4.490795</td>\n",
              "      <td>4.135343</td>\n",
              "      <td>-0.079151</td>\n",
              "    </tr>\n",
              "    <tr>\n",
              "      <th>77</th>\n",
              "      <td>0.141253</td>\n",
              "      <td>4.413418</td>\n",
              "      <td>4.078206</td>\n",
              "      <td>-0.075953</td>\n",
              "    </tr>\n",
              "    <tr>\n",
              "      <th>78</th>\n",
              "      <td>0.125892</td>\n",
              "      <td>4.337580</td>\n",
              "      <td>4.024514</td>\n",
              "      <td>-0.072175</td>\n",
              "    </tr>\n",
              "    <tr>\n",
              "      <th>79</th>\n",
              "      <td>0.112201</td>\n",
              "      <td>4.261750</td>\n",
              "      <td>3.974052</td>\n",
              "      <td>-0.067507</td>\n",
              "    </tr>\n",
              "    <tr>\n",
              "      <th>80</th>\n",
              "      <td>0.099999</td>\n",
              "      <td>4.186445</td>\n",
              "      <td>3.926629</td>\n",
              "      <td>-0.062061</td>\n",
              "    </tr>\n",
              "    <tr>\n",
              "      <th>81</th>\n",
              "      <td>0.089125</td>\n",
              "      <td>4.111598</td>\n",
              "      <td>3.882063</td>\n",
              "      <td>-0.055826</td>\n",
              "    </tr>\n",
              "    <tr>\n",
              "      <th>82</th>\n",
              "      <td>0.079431</td>\n",
              "      <td>4.036218</td>\n",
              "      <td>3.840171</td>\n",
              "      <td>-0.048572</td>\n",
              "    </tr>\n",
              "    <tr>\n",
              "      <th>83</th>\n",
              "      <td>0.070795</td>\n",
              "      <td>3.961225</td>\n",
              "      <td>3.800816</td>\n",
              "      <td>-0.040495</td>\n",
              "    </tr>\n",
              "    <tr>\n",
              "      <th>84</th>\n",
              "      <td>0.063097</td>\n",
              "      <td>3.886750</td>\n",
              "      <td>3.763826</td>\n",
              "      <td>-0.031626</td>\n",
              "    </tr>\n",
              "    <tr>\n",
              "      <th>85</th>\n",
              "      <td>0.056236</td>\n",
              "      <td>3.812663</td>\n",
              "      <td>3.729064</td>\n",
              "      <td>-0.021926</td>\n",
              "    </tr>\n",
              "    <tr>\n",
              "      <th>86</th>\n",
              "      <td>0.050118</td>\n",
              "      <td>3.739257</td>\n",
              "      <td>3.696374</td>\n",
              "      <td>-0.011468</td>\n",
              "    </tr>\n",
              "    <tr>\n",
              "      <th>87</th>\n",
              "      <td>0.044667</td>\n",
              "      <td>3.666965</td>\n",
              "      <td>3.665668</td>\n",
              "      <td>-0.000354</td>\n",
              "    </tr>\n",
              "    <tr>\n",
              "      <th>88</th>\n",
              "      <td>0.039812</td>\n",
              "      <td>3.596097</td>\n",
              "      <td>3.636820</td>\n",
              "      <td>0.011324</td>\n",
              "    </tr>\n",
              "    <tr>\n",
              "      <th>89</th>\n",
              "      <td>0.035480</td>\n",
              "      <td>3.526772</td>\n",
              "      <td>3.609686</td>\n",
              "      <td>0.023510</td>\n",
              "    </tr>\n",
              "    <tr>\n",
              "      <th>90</th>\n",
              "      <td>0.031622</td>\n",
              "      <td>3.458772</td>\n",
              "      <td>3.584199</td>\n",
              "      <td>0.036263</td>\n",
              "    </tr>\n",
              "    <tr>\n",
              "      <th>91</th>\n",
              "      <td>0.028183</td>\n",
              "      <td>3.393145</td>\n",
              "      <td>3.560246</td>\n",
              "      <td>0.049247</td>\n",
              "    </tr>\n",
              "    <tr>\n",
              "      <th>92</th>\n",
              "      <td>0.025118</td>\n",
              "      <td>3.329848</td>\n",
              "      <td>3.537732</td>\n",
              "      <td>0.062431</td>\n",
              "    </tr>\n",
              "    <tr>\n",
              "      <th>93</th>\n",
              "      <td>0.022387</td>\n",
              "      <td>3.269595</td>\n",
              "      <td>3.516580</td>\n",
              "      <td>0.075540</td>\n",
              "    </tr>\n",
              "    <tr>\n",
              "      <th>94</th>\n",
              "      <td>0.019953</td>\n",
              "      <td>3.210183</td>\n",
              "      <td>3.496700</td>\n",
              "      <td>0.089253</td>\n",
              "    </tr>\n",
              "    <tr>\n",
              "      <th>95</th>\n",
              "      <td>0.017782</td>\n",
              "      <td>3.153433</td>\n",
              "      <td>3.478008</td>\n",
              "      <td>0.102928</td>\n",
              "    </tr>\n",
              "    <tr>\n",
              "      <th>96</th>\n",
              "      <td>0.015848</td>\n",
              "      <td>3.098968</td>\n",
              "      <td>3.460439</td>\n",
              "      <td>0.116642</td>\n",
              "    </tr>\n",
              "    <tr>\n",
              "      <th>97</th>\n",
              "      <td>0.014126</td>\n",
              "      <td>3.046845</td>\n",
              "      <td>3.443949</td>\n",
              "      <td>0.130333</td>\n",
              "    </tr>\n",
              "    <tr>\n",
              "      <th>98</th>\n",
              "      <td>0.012588</td>\n",
              "      <td>2.997400</td>\n",
              "      <td>3.428427</td>\n",
              "      <td>0.143800</td>\n",
              "    </tr>\n",
              "    <tr>\n",
              "      <th>99</th>\n",
              "      <td>0.011219</td>\n",
              "      <td>2.950915</td>\n",
              "      <td>3.413850</td>\n",
              "      <td>0.156878</td>\n",
              "    </tr>\n",
              "    <tr>\n",
              "      <th>100</th>\n",
              "      <td>0.010000</td>\n",
              "      <td>2.906797</td>\n",
              "      <td>3.400155</td>\n",
              "      <td>0.169726</td>\n",
              "    </tr>\n",
              "  </tbody>\n",
              "</table>\n",
              "<p>101 rows × 4 columns</p>\n",
              "</div>"
            ],
            "text/plain": [
              "              x        data    best_fit  residual\n",
              "0    999.894750  131.224750  109.492113 -0.165614\n",
              "1    891.251000  121.572250  103.098212 -0.151959\n",
              "2    794.328250  112.565250   97.083545 -0.137535\n",
              "3    707.946000  104.258000   91.430975 -0.123032\n",
              "4    630.957500   96.582950   86.118672 -0.108345\n",
              "5    562.341500   89.495925   81.126173 -0.093521\n",
              "6    501.187000   82.973725   76.434187 -0.078815\n",
              "7    446.683250   76.952300   72.024677 -0.064035\n",
              "8    398.109000   71.449250   67.880816 -0.049944\n",
              "9    354.815000   66.382500   63.986225 -0.036098\n",
              "10   316.227750   61.738000   60.325948 -0.022872\n",
              "11   281.838250   57.470050   56.886157 -0.010160\n",
              "12   251.188750   53.562825   53.653459  0.001692\n",
              "13   223.872000   49.971150   50.615328  0.012891\n",
              "14   199.527250   46.678000   47.760251  0.023185\n",
              "15   177.829000   43.665100   45.076932  0.032333\n",
              "16   158.490750   40.893600   42.555195  0.040632\n",
              "17   141.253000   38.343550   40.184914  0.048023\n",
              "18   125.893500   35.998150   37.957852  0.054439\n",
              "19   112.202000   33.834100   35.864506  0.060011\n",
              "20   100.000225   31.832825   33.897303  0.064854\n",
              "21    89.125850   29.987525   32.048607  0.068731\n",
              "22    79.433425   28.279775   30.311092  0.071829\n",
              "23    70.794800   26.694725   28.678127  0.074299\n",
              "24    63.095775   25.224025   27.143495  0.076097\n",
              "25    56.234175   23.861250   25.701281  0.077114\n",
              "26    50.118925   22.594175   24.345923  0.077531\n",
              "27    44.668400   21.418600   23.072087  0.077199\n",
              "28    39.810875   20.322825   21.875000  0.076376\n",
              "29    35.481400   19.299625   20.749925  0.075147\n",
              "..          ...         ...         ...       ...\n",
              "71     0.281839    4.903512    4.480817 -0.086203\n",
              "72     0.251192    4.815292    4.402893 -0.085644\n",
              "73     0.223873    4.729872    4.329648 -0.084616\n",
              "74     0.199528    4.648013    4.260823 -0.083302\n",
              "75     0.177830    4.568455    4.196137 -0.081498\n",
              "76     0.158490    4.490795    4.135343 -0.079151\n",
              "77     0.141253    4.413418    4.078206 -0.075953\n",
              "78     0.125892    4.337580    4.024514 -0.072175\n",
              "79     0.112201    4.261750    3.974052 -0.067507\n",
              "80     0.099999    4.186445    3.926629 -0.062061\n",
              "81     0.089125    4.111598    3.882063 -0.055826\n",
              "82     0.079431    4.036218    3.840171 -0.048572\n",
              "83     0.070795    3.961225    3.800816 -0.040495\n",
              "84     0.063097    3.886750    3.763826 -0.031626\n",
              "85     0.056236    3.812663    3.729064 -0.021926\n",
              "86     0.050118    3.739257    3.696374 -0.011468\n",
              "87     0.044667    3.666965    3.665668 -0.000354\n",
              "88     0.039812    3.596097    3.636820  0.011324\n",
              "89     0.035480    3.526772    3.609686  0.023510\n",
              "90     0.031622    3.458772    3.584199  0.036263\n",
              "91     0.028183    3.393145    3.560246  0.049247\n",
              "92     0.025118    3.329848    3.537732  0.062431\n",
              "93     0.022387    3.269595    3.516580  0.075540\n",
              "94     0.019953    3.210183    3.496700  0.089253\n",
              "95     0.017782    3.153433    3.478008  0.102928\n",
              "96     0.015848    3.098968    3.460439  0.116642\n",
              "97     0.014126    3.046845    3.443949  0.130333\n",
              "98     0.012588    2.997400    3.428427  0.143800\n",
              "99     0.011219    2.950915    3.413850  0.156878\n",
              "100    0.010000    2.906797    3.400155  0.169726\n",
              "\n",
              "[101 rows x 4 columns]"
            ]
          },
          "metadata": {
            "tags": []
          },
          "execution_count": 13
        }
      ]
    },
    {
      "cell_type": "markdown",
      "metadata": {
        "id": "jm5du9w3Cwlk",
        "colab_type": "text"
      },
      "source": [
        "## Plot residuals"
      ]
    },
    {
      "cell_type": "code",
      "metadata": {
        "id": "acIsfjWsCwll",
        "colab_type": "code",
        "colab": {
          "base_uri": "https://localhost:8080/",
          "height": 292
        },
        "outputId": "6f02c269-9e2b-4efd-c4c2-33c166d53fdd"
      },
      "source": [
        "data=rheofit.rheodata.example_emulsion()\n",
        "model=rheofit.models.HB_model\n",
        "res_fit=model.fit(data['Stress'],x=data['Shear rate'],weights=1/(data['Stress']))\n",
        "\n",
        "\n",
        "def plot_residuals(res_fit):\n",
        "    augmented=pb.augment(res_fit)\n",
        "    plt.plot('x','residual',data=augmented)\n",
        "    plt.xscale('log')\n",
        "    plt.ylabel('residual - relative deviation');\n",
        "    plt.xlabel('$\\dot\\gamma [1/s]$');\n",
        "    \n",
        "    return plt.gcf()\n",
        "\n",
        "plot_residuals(res_fit);"
      ],
      "execution_count": 14,
      "outputs": [
        {
          "output_type": "display_data",
          "data": {
            "image/png": "[encoded data removed]",
            "text/plain": [
              "<Figure size 432x288 with 1 Axes>"
            ]
          },
          "metadata": {
            "tags": []
          }
        }
      ]
    },
    {
      "cell_type": "markdown",
      "metadata": {
        "id": "FqJ-qer3Cwlo",
        "colab_type": "text"
      },
      "source": [
        "## Confidence interval"
      ]
    },
    {
      "cell_type": "code",
      "metadata": {
        "id": "5QL7Af8VCwlp",
        "colab_type": "code",
        "colab": {
          "base_uri": "https://localhost:8080/",
          "height": 292
        },
        "outputId": "cadf30d1-1e56-4228-cc0f-6299c36c7f25"
      },
      "source": [
        "data=rheofit.rheodata.example_emulsion()\n",
        "data=data[data['Shear rate']>0.1]\n",
        "model=rheofit.models.HB_model\n",
        "res_fit=model.fit(data['Stress'],x=data['Shear rate'],weights=1/(data['Stress']))\n",
        "\n",
        "def plot_confidence(res_fit,expand=10):\n",
        "    dely = res_fit.eval_uncertainty(x=res_fit.userkws['x'],sigma=3)*expand\n",
        "    \n",
        "    plt.plot(res_fit.userkws['x'], res_fit.data,'o',color='black',label='Data',markersize=5)\n",
        "    plt.plot(res_fit.userkws['x'], res_fit.best_fit,label='Best fit TC model',color='red')\n",
        "    plt.fill_between(res_fit.userkws['x'], res_fit.best_fit-dely,res_fit.best_fit+dely,\n",
        "                     color='blue',alpha=0.2,label='0.9973 Confidence interval')\n",
        "    plt.yscale('log')\n",
        "    plt.xscale('log')\n",
        "    plt.ylabel('$\\sigma [Pa]$')\n",
        "    plt.xlabel('$\\dot\\gamma [1/s]$')\n",
        "    \n",
        "    return plt.gcf()\n",
        "\n",
        "plot_confidence(res_fit);"
      ],
      "execution_count": 15,
      "outputs": [
        {
          "output_type": "display_data",
          "data": {
            "image/png": "[encoded data removed]",
            "text/plain": [
              "<Figure size 432x288 with 1 Axes>"
            ]
          },
          "metadata": {
            "tags": []
          }
        }
      ]
    },
    {
      "cell_type": "markdown",
      "metadata": {
        "id": "3J-2PjF5Cwlr",
        "colab_type": "text"
      },
      "source": [
        "## Fit specific shear rate range"
      ]
    },
    {
      "cell_type": "code",
      "metadata": {
        "scrolled": false,
        "id": "s-f_w_TUCwls",
        "colab_type": "code",
        "colab": {
          "base_uri": "https://localhost:8080/",
          "height": 292
        },
        "outputId": "40de4d61-e141-492e-e38f-cb9e8ed6c92f"
      },
      "source": [
        "data=rheofit.rheodata.example_emulsion()\n",
        "data=data[data['Shear rate']>0.1]\n",
        "model=rheofit.models.HB_model\n",
        "res_fit=model.fit(data['Stress'],x=data['Shear rate'],weights=1/(data['Stress']))\n",
        "\n",
        "min_shear_rate=0.1\n",
        "max_shear_rate=1000\n",
        "\n",
        "def fit_range(res_fit,min_shear_rate=0.1,max_shear_rate=100):\n",
        "    data=pd.DataFrame.from_dict({'Shear rate':res_fit.userkws['x'],'Stress':res_fit.data})\n",
        "    mask=(data['Shear rate']>=min_shear_rate) & (data['Shear rate']<=max_shear_rate)\n",
        "    res_fit=model.fit(data[mask]['Stress'],x=data[mask]['Shear rate'],weights=1/(data[mask]['Stress']))\n",
        "    \n",
        "    return res_fit\n",
        "\n",
        "plot_fit(res_fit);\n",
        "plot_fit(fit_range(res_fit));"
      ],
      "execution_count": 16,
      "outputs": [
        {
          "output_type": "display_data",
          "data": {
            "image/png": "[encoded data removed]",
            "text/plain": [
              "<Figure size 432x288 with 1 Axes>"
            ]
          },
          "metadata": {
            "tags": []
          }
        }
      ]
    },
    {
      "cell_type": "code",
      "metadata": {
        "id": "E-5pHGtwCwlu",
        "colab_type": "code",
        "colab": {
          "base_uri": "https://localhost:8080/",
          "height": 392
        },
        "outputId": "968b2052-6fbb-485f-a604-46a5ae126462"
      },
      "source": [
        "data=rheofit.rheodata.example_emulsion()\n",
        "model=rheofit.models.HB_model\n",
        "res_fit=model.fit(data['Stress'],x=data['Shear rate'],weights=1/(data['Stress']))\n",
        "\n",
        "min_shear_rate=0.1\n",
        "max_shear_rate=1000\n",
        "\n",
        "def fit_range(res_fit,min_shear_rate=0.1,max_shear_rate=100):\n",
        "    data=pd.DataFrame.from_dict({'Shear rate':res_fit.userkws['x'],'Stress':res_fit.data})\n",
        "    mask=(data['Shear rate']>min_shear_rate) & (data['Shear rate']<max_shear_rate)\n",
        "    res_fit=model.fit(data[mask]['Stress'],x=data[mask]['Shear rate'],weights=1/(data[mask]['Stress']))\n",
        "    \n",
        "    return res_fit\n",
        "\n",
        "display(pb.tidy(fit_range(res_fit,min_shear_rate=0.1,max_shear_rate=10)))\n",
        "display(pb.tidy(fit_range(res_fit,min_shear_rate=0.1,max_shear_rate=100)))\n",
        "display(pb.tidy(fit_range(res_fit,min_shear_rate=0.1,max_shear_rate=1000)))"
      ],
      "execution_count": 17,
      "outputs": [
        {
          "output_type": "display_data",
          "data": {
            "text/latex": "\\centering{\\begin{tabular}{llrrrlrrr}\n\\toprule\n{} &        name &     value &  min &  max &  vary &  expr &    stderr &  init\\_value \\\\\n\\midrule\n0 &        HB\\_K &  2.946032 &    0 &  inf &  True &   NaN &  0.033507 &         1.0 \\\\\n1 &        HB\\_n &  0.452852 &    0 &  1.0 &  True &   NaN &  0.004298 &         0.5 \\\\\n2 &  HB\\_ystress &  3.219395 &    0 &  inf &  True &   NaN &  0.028909 &         1.0 \\\\\n\\bottomrule\n\\end{tabular}\n}",
            "text/html": [
              "<div>\n",
              "<style scoped>\n",
              "    .dataframe tbody tr th:only-of-type {\n",
              "        vertical-align: middle;\n",
              "    }\n",
              "\n",
              "    .dataframe tbody tr th {\n",
              "        vertical-align: top;\n",
              "    }\n",
              "\n",
              "    .dataframe thead th {\n",
              "        text-align: right;\n",
              "    }\n",
              "</style>\n",
              "<table border=\"1\" class=\"dataframe\">\n",
              "  <thead>\n",
              "    <tr style=\"text-align: right;\">\n",
              "      <th></th>\n",
              "      <th>name</th>\n",
              "      <th>value</th>\n",
              "      <th>min</th>\n",
              "      <th>max</th>\n",
              "      <th>vary</th>\n",
              "      <th>expr</th>\n",
              "      <th>stderr</th>\n",
              "      <th>init_value</th>\n",
              "    </tr>\n",
              "  </thead>\n",
              "  <tbody>\n",
              "    <tr>\n",
              "      <th>0</th>\n",
              "      <td>HB_K</td>\n",
              "      <td>2.946032</td>\n",
              "      <td>0</td>\n",
              "      <td>inf</td>\n",
              "      <td>True</td>\n",
              "      <td>NaN</td>\n",
              "      <td>0.033507</td>\n",
              "      <td>1.0</td>\n",
              "    </tr>\n",
              "    <tr>\n",
              "      <th>1</th>\n",
              "      <td>HB_n</td>\n",
              "      <td>0.452852</td>\n",
              "      <td>0</td>\n",
              "      <td>1.0</td>\n",
              "      <td>True</td>\n",
              "      <td>NaN</td>\n",
              "      <td>0.004298</td>\n",
              "      <td>0.5</td>\n",
              "    </tr>\n",
              "    <tr>\n",
              "      <th>2</th>\n",
              "      <td>HB_ystress</td>\n",
              "      <td>3.219395</td>\n",
              "      <td>0</td>\n",
              "      <td>inf</td>\n",
              "      <td>True</td>\n",
              "      <td>NaN</td>\n",
              "      <td>0.028909</td>\n",
              "      <td>1.0</td>\n",
              "    </tr>\n",
              "  </tbody>\n",
              "</table>\n",
              "</div>"
            ],
            "text/plain": [
              "         name     value  min  max  vary  expr    stderr  init_value\n",
              "0        HB_K  2.946032    0  inf  True   NaN  0.033507         1.0\n",
              "1        HB_n  0.452852    0  1.0  True   NaN  0.004298         0.5\n",
              "2  HB_ystress  3.219395    0  inf  True   NaN  0.028909         1.0"
            ]
          },
          "metadata": {
            "tags": []
          }
        },
        {
          "output_type": "display_data",
          "data": {
            "text/latex": "\\centering{\\begin{tabular}{llrrrlrrr}\n\\toprule\n{} &        name &     value &  min &  max &  vary &  expr &    stderr &  init\\_value \\\\\n\\midrule\n0 &        HB\\_K &  2.498040 &    0 &  inf &  True &   NaN &  0.037762 &         1.0 \\\\\n1 &        HB\\_n &  0.517414 &    0 &  1.0 &  True &   NaN &  0.003954 &         0.5 \\\\\n2 &  HB\\_ystress &  3.589250 &    0 &  inf &  True &   NaN &  0.034026 &         1.0 \\\\\n\\bottomrule\n\\end{tabular}\n}",
            "text/html": [
              "<div>\n",
              "<style scoped>\n",
              "    .dataframe tbody tr th:only-of-type {\n",
              "        vertical-align: middle;\n",
              "    }\n",
              "\n",
              "    .dataframe tbody tr th {\n",
              "        vertical-align: top;\n",
              "    }\n",
              "\n",
              "    .dataframe thead th {\n",
              "        text-align: right;\n",
              "    }\n",
              "</style>\n",
              "<table border=\"1\" class=\"dataframe\">\n",
              "  <thead>\n",
              "    <tr style=\"text-align: right;\">\n",
              "      <th></th>\n",
              "      <th>name</th>\n",
              "      <th>value</th>\n",
              "      <th>min</th>\n",
              "      <th>max</th>\n",
              "      <th>vary</th>\n",
              "      <th>expr</th>\n",
              "      <th>stderr</th>\n",
              "      <th>init_value</th>\n",
              "    </tr>\n",
              "  </thead>\n",
              "  <tbody>\n",
              "    <tr>\n",
              "      <th>0</th>\n",
              "      <td>HB_K</td>\n",
              "      <td>2.498040</td>\n",
              "      <td>0</td>\n",
              "      <td>inf</td>\n",
              "      <td>True</td>\n",
              "      <td>NaN</td>\n",
              "      <td>0.037762</td>\n",
              "      <td>1.0</td>\n",
              "    </tr>\n",
              "    <tr>\n",
              "      <th>1</th>\n",
              "      <td>HB_n</td>\n",
              "      <td>0.517414</td>\n",
              "      <td>0</td>\n",
              "      <td>1.0</td>\n",
              "      <td>True</td>\n",
              "      <td>NaN</td>\n",
              "      <td>0.003954</td>\n",
              "      <td>0.5</td>\n",
              "    </tr>\n",
              "    <tr>\n",
              "      <th>2</th>\n",
              "      <td>HB_ystress</td>\n",
              "      <td>3.589250</td>\n",
              "      <td>0</td>\n",
              "      <td>inf</td>\n",
              "      <td>True</td>\n",
              "      <td>NaN</td>\n",
              "      <td>0.034026</td>\n",
              "      <td>1.0</td>\n",
              "    </tr>\n",
              "  </tbody>\n",
              "</table>\n",
              "</div>"
            ],
            "text/plain": [
              "         name     value  min  max  vary  expr    stderr  init_value\n",
              "0        HB_K  2.498040    0  inf  True   NaN  0.037762         1.0\n",
              "1        HB_n  0.517414    0  1.0  True   NaN  0.003954         0.5\n",
              "2  HB_ystress  3.589250    0  inf  True   NaN  0.034026         1.0"
            ]
          },
          "metadata": {
            "tags": []
          }
        },
        {
          "output_type": "display_data",
          "data": {
            "text/latex": "\\centering{\\begin{tabular}{llrrrlrrr}\n\\toprule\n{} &        name &     value &  min &  max &  vary &  expr &    stderr &  init\\_value \\\\\n\\midrule\n0 &        HB\\_K &  1.880492 &    0 &  inf &  True &   NaN &  0.051488 &         1.0 \\\\\n1 &        HB\\_n &  0.595807 &    0 &  1.0 &  True &   NaN &  0.005270 &         0.5 \\\\\n2 &  HB\\_ystress &  4.088222 &    0 &  inf &  True &   NaN &  0.059816 &         1.0 \\\\\n\\bottomrule\n\\end{tabular}\n}",
            "text/html": [
              "<div>\n",
              "<style scoped>\n",
              "    .dataframe tbody tr th:only-of-type {\n",
              "        vertical-align: middle;\n",
              "    }\n",
              "\n",
              "    .dataframe tbody tr th {\n",
              "        vertical-align: top;\n",
              "    }\n",
              "\n",
              "    .dataframe thead th {\n",
              "        text-align: right;\n",
              "    }\n",
              "</style>\n",
              "<table border=\"1\" class=\"dataframe\">\n",
              "  <thead>\n",
              "    <tr style=\"text-align: right;\">\n",
              "      <th></th>\n",
              "      <th>name</th>\n",
              "      <th>value</th>\n",
              "      <th>min</th>\n",
              "      <th>max</th>\n",
              "      <th>vary</th>\n",
              "      <th>expr</th>\n",
              "      <th>stderr</th>\n",
              "      <th>init_value</th>\n",
              "    </tr>\n",
              "  </thead>\n",
              "  <tbody>\n",
              "    <tr>\n",
              "      <th>0</th>\n",
              "      <td>HB_K</td>\n",
              "      <td>1.880492</td>\n",
              "      <td>0</td>\n",
              "      <td>inf</td>\n",
              "      <td>True</td>\n",
              "      <td>NaN</td>\n",
              "      <td>0.051488</td>\n",
              "      <td>1.0</td>\n",
              "    </tr>\n",
              "    <tr>\n",
              "      <th>1</th>\n",
              "      <td>HB_n</td>\n",
              "      <td>0.595807</td>\n",
              "      <td>0</td>\n",
              "      <td>1.0</td>\n",
              "      <td>True</td>\n",
              "      <td>NaN</td>\n",
              "      <td>0.005270</td>\n",
              "      <td>0.5</td>\n",
              "    </tr>\n",
              "    <tr>\n",
              "      <th>2</th>\n",
              "      <td>HB_ystress</td>\n",
              "      <td>4.088222</td>\n",
              "      <td>0</td>\n",
              "      <td>inf</td>\n",
              "      <td>True</td>\n",
              "      <td>NaN</td>\n",
              "      <td>0.059816</td>\n",
              "      <td>1.0</td>\n",
              "    </tr>\n",
              "  </tbody>\n",
              "</table>\n",
              "</div>"
            ],
            "text/plain": [
              "         name     value  min  max  vary  expr    stderr  init_value\n",
              "0        HB_K  1.880492    0  inf  True   NaN  0.051488         1.0\n",
              "1        HB_n  0.595807    0  1.0  True   NaN  0.005270         0.5\n",
              "2  HB_ystress  4.088222    0  inf  True   NaN  0.059816         1.0"
            ]
          },
          "metadata": {
            "tags": []
          }
        }
      ]
    },
    {
      "cell_type": "markdown",
      "metadata": {
        "id": "RfXWEZq8Cwly",
        "colab_type": "text"
      },
      "source": [
        "## Reduced $\\chi^2$ sensitivity on shear rate range"
      ]
    },
    {
      "cell_type": "code",
      "metadata": {
        "id": "EAMpHeuQCwlz",
        "colab_type": "code",
        "colab": {
          "base_uri": "https://localhost:8080/",
          "height": 292
        },
        "outputId": "5e2be2e1-8fc0-43b6-bb1a-ac8f73d1202c"
      },
      "source": [
        "data=rheofit.rheodata.example_emulsion()\n",
        "model=rheofit.models.HB_model\n",
        "res_fit=model.fit(data['Stress'],x=data['Shear rate'],weights=1/(data['Stress']))\n",
        "\n",
        "\n",
        "def explore_redchi(res_fit,min_shear_rate=0.01,max_shear_rate=1000):\n",
        "    data=pd.DataFrame.from_dict({'Shear rate':res_fit.userkws['x'],'Stress':res_fit.data})\n",
        "    res_dict={min_shear:fit_range(res_fit,min_shear_rate=min_shear,max_shear_rate=1000) \n",
        "              for min_shear in data['Shear rate'][10:-1]}\n",
        "    \n",
        "    ax1= plt.subplot(2,1,1)\n",
        "    \n",
        "    plt.plot(data['Shear rate'],data['Stress'],'o')\n",
        "    plt.yscale('log')\n",
        "    plt.xscale('log')\n",
        "    plt.xlabel('$\\dot\\gamma [1/s]$')\n",
        "    plt.ylabel('$\\sigma [Pa]$')\n",
        "\n",
        "    ax2= plt.subplot(2,1,2,sharex = ax1)\n",
        "    \n",
        "    plt.plot(list(res_dict.keys()),pb.glance(res_dict)['redchi'])\n",
        "    plt.xscale('log')\n",
        "    plt.ylabel('$\\chi_{red}$')\n",
        "    plt.xlabel('$\\dot\\gamma_{min} [1/s]$')\n",
        "    \n",
        "    return plt.gcf()\n",
        "    \n",
        "explore_redchi(res_fit);"
      ],
      "execution_count": 18,
      "outputs": [
        {
          "output_type": "display_data",
          "data": {
            "image/png": "[encoded data removed]",
            "text/plain": [
              "<Figure size 432x288 with 2 Axes>"
            ]
          },
          "metadata": {
            "tags": []
          }
        }
      ]
    },
    {
      "cell_type": "markdown",
      "metadata": {
        "id": "bkFccV-uCwl1",
        "colab_type": "text"
      },
      "source": [
        "## Model parameter sensitivity on shear rate range"
      ]
    },
    {
      "cell_type": "code",
      "metadata": {
        "id": "8NQCE9fdCwl2",
        "colab_type": "code",
        "colab": {
          "base_uri": "https://localhost:8080/",
          "height": 292
        },
        "outputId": "04f9857c-40d2-417c-85e2-94b937ec4c11"
      },
      "source": [
        "data=rheofit.rheodata.example_emulsion()\n",
        "data.sort_values('Shear rate',ascending=False, inplace=True)\n",
        "\n",
        "model=rheofit.models.HB_model\n",
        "res_fit=model.fit(data['Stress'],x=data['Shear rate'],weights=1/(data['Stress']))\n",
        "\n",
        "\n",
        "def explore_param_keephigh(res_fit,min_shear_rate=0.01,max_shear_rate=1000,param_name=None):\n",
        "    '''keep the right range of data for the fit\n",
        "    answer the question: how important it is how low we extend the analysis at low shear?\n",
        "    '''\n",
        "    data=pd.DataFrame.from_dict({'Shear rate':res_fit.userkws['x'],'Stress':res_fit.data})\n",
        "    data.sort_values('Shear rate',ascending=False, inplace=True)\n",
        "    res_fit=res_fit.model.fit(data['Stress'],x=data['Shear rate'],weights=1/(data['Stress']))\n",
        "    res_fit=fit_range(res_fit,min_shear_rate=min_shear_rate,max_shear_rate=max_shear_rate)\n",
        "    res_dict={min_shear:fit_range(res_fit,min_shear_rate=min_shear,max_shear_rate=max(res_fit.userkws['x'])) \n",
        "              for min_shear in res_fit.userkws['x'][5:-1]}\n",
        "    \n",
        "    ax1= plt.subplot(2,1,1)\n",
        "    \n",
        "    plt.plot(data['Shear rate'],data['Stress'],'o')\n",
        "    plt.yscale('log')\n",
        "    plt.xscale('log')\n",
        "    plt.xlabel('$\\dot\\gamma [1/s]$')\n",
        "    plt.ylabel('$\\sigma [Pa]$')\n",
        "    \n",
        "    xlim=plt.gca().get_xlim()\n",
        "    plt.axvspan(xlim[0],min_shear_rate,color='gray',alpha=0.5)\n",
        "    plt.axvspan(max_shear_rate,xlim[1],color='gray',alpha=0.5)\n",
        "    \n",
        "    ax2= plt.subplot(2,1,2,sharex = ax1)\n",
        "    \n",
        "    plt.plot(list(res_dict.keys()),pb.tidy(res_dict)['value'][pb.tidy(res_dict)['name']=='HB_n'])\n",
        "    plt.xscale('log')\n",
        "    plt.ylabel('$'+param_name+'$')\n",
        "    plt.xlabel('$\\dot\\gamma_{min} [1/s]$')\n",
        "    \n",
        "    plt.axvspan(xlim[0],min_shear_rate,color='gray',alpha=0.5)\n",
        "    plt.axvspan(max_shear_rate,xlim[1],color='gray',alpha=0.5)\n",
        "\n",
        "    plt.gca().set_xlim(xlim)\n",
        "    \n",
        "    return plt.gcf()\n",
        "    \n",
        "explore_param_keephigh(res_fit,min_shear_rate=0.1,param_name='n');"
      ],
      "execution_count": 19,
      "outputs": [
        {
          "output_type": "display_data",
          "data": {
            "image/png": "[encoded data removed]",
            "text/plain": [
              "<Figure size 432x288 with 2 Axes>"
            ]
          },
          "metadata": {
            "tags": []
          }
        }
      ]
    },
    {
      "cell_type": "code",
      "metadata": {
        "id": "hKmOGGM5Cwl-",
        "colab_type": "code",
        "colab": {
          "base_uri": "https://localhost:8080/",
          "height": 292
        },
        "outputId": "b8ca0ccb-74f7-475a-f5be-bda447714e8f"
      },
      "source": [
        "data=rheofit.rheodata.example_emulsion()\n",
        "data.sort_values('Shear rate',ascending=False, inplace=True)\n",
        "\n",
        "model=rheofit.models.HB_model\n",
        "res_fit=model.fit(data['Stress'],x=data['Shear rate'],weights=1/(data['Stress']))\n",
        "\n",
        "\n",
        "def explore_param_keeplow(res_fit,min_shear_rate=0.01,max_shear_rate=1001,param_name=None):\n",
        "    '''keep the right range of data for the fit\n",
        "    answer the question: how important it is how low we extend the analysis at low shear?\n",
        "    '''\n",
        "    \n",
        "    data=pd.DataFrame.from_dict({'Shear rate':res_fit.userkws['x'],'Stress':res_fit.data})\n",
        "    data.sort_values('Shear rate',ascending=True, inplace=True)\n",
        "    res_fit=res_fit.model.fit(data['Stress'],x=data['Shear rate'],weights=1/(data['Stress']))\n",
        "    res_fit=fit_range(res_fit,min_shear_rate=min_shear_rate,max_shear_rate=max_shear_rate)\n",
        "    res_dict={max_shear:fit_range(res_fit,min_shear_rate=min(res_fit.userkws['x']),max_shear_rate=max_shear) \n",
        "              for max_shear in res_fit.userkws['x'][5:-1]}\n",
        "    \n",
        "    ax1= plt.subplot(2,1,1)\n",
        "    \n",
        "    plt.plot(data['Shear rate'],data['Stress'],'o')\n",
        "    plt.yscale('log')\n",
        "    plt.xscale('log')\n",
        "    plt.xlabel('$\\dot\\gamma [1/s]$')\n",
        "    plt.ylabel('$\\sigma [Pa]$')\n",
        "    \n",
        "    xlim=plt.gca().get_xlim()\n",
        "    plt.axvspan(xlim[0],min_shear_rate,color='gray',alpha=0.5)\n",
        "    plt.axvspan(max_shear_rate,xlim[1],color='gray',alpha=0.5)\n",
        "    \n",
        "    ax2= plt.subplot(2,1,2,sharex = ax1)\n",
        "    \n",
        "    plt.plot(list(res_dict.keys()),pb.tidy(res_dict)['value'][pb.tidy(res_dict)['name']=='HB_n'])\n",
        "    plt.xscale('log')\n",
        "    plt.ylabel('$'+param_name+'$')\n",
        "    plt.xlabel('$\\dot\\gamma_{max} [1/s]$')\n",
        "    \n",
        "    plt.axvspan(xlim[0],min_shear_rate,color='gray',alpha=0.5)\n",
        "    plt.axvspan(max_shear_rate,xlim[1],color='gray',alpha=0.5)\n",
        "\n",
        "    plt.gca().set_xlim(xlim)\n",
        "    \n",
        "    return plt.gcf()\n",
        "    \n",
        "explore_param_keeplow(res_fit,min_shear_rate=0.1,param_name='n');"
      ],
      "execution_count": 20,
      "outputs": [
        {
          "output_type": "display_data",
          "data": {
            "image/png": "[encoded data removed]",
            "text/plain": [
              "<Figure size 432x288 with 2 Axes>"
            ]
          },
          "metadata": {
            "tags": []
          }
        }
      ]
    },
    {
      "cell_type": "markdown",
      "metadata": {
        "id": "sOEKQtUxCwmD",
        "colab_type": "text"
      },
      "source": [
        "## Emcee"
      ]
    },
    {
      "cell_type": "code",
      "metadata": {
        "id": "3tt30H1eCwmE",
        "colab_type": "code",
        "colab": {
          "base_uri": "https://localhost:8080/",
          "height": 1000
        },
        "outputId": "79ce2098-2505-4e38-aa2c-9ca2c7df5d34"
      },
      "source": [
        "data=rheofit.rheodata.example_emulsion()\n",
        "data=data[data['Shear rate']>0.1]\n",
        "model=rheofit.models.HB_model\n",
        "res_fit=model.fit(data['Stress'],x=data['Shear rate'],weights=1/(data['Stress']*0.1))\n",
        "res_emcee=res_fit.emcee(steps=1000, nwalkers=50, burn=300)\n",
        "\n",
        "corner.corner(res_emcee.flatchain, labels=res_emcee.var_names, truths=[res_fit.params[key].value for key in res_fit.params.keys()]);\n",
        "display(res_fit)"
      ],
      "execution_count": 21,
      "outputs": [
        {
          "output_type": "stream",
          "text": [
            "/usr/local/lib/python3.6/dist-packages/emcee/ensemble.py:258: RuntimeWarning: Initial state is not linearly independent and it will not allow a full exploration of parameter space\n",
            "  category=RuntimeWarning,\n",
            "100%|██████████| 1000/1000 [01:04<00:00, 16.19it/s]\n"
          ],
          "name": "stderr"
        },
        {
          "output_type": "display_data",
          "data": {
            "text/html": [
              "<h2> Model</h2> Model(HB, prefix='HB_') <h2>Fit Statistics</h2><table><tr><td>fitting method</td><td>leastsq</td><td></td></tr><tr><td># function evals</td><td>22</td><td></td></tr><tr><td># data points</td><td>80</td><td></td></tr><tr><td># variables</td><td>3</td><td></td></tr><tr><td>chi-square</td><td> 10.8588639</td><td></td></tr><tr><td>reduced chi-square</td><td> 0.14102421</td><td></td></tr><tr><td>Akaike info crit.</td><td>-153.763595</td><td></td></tr><tr><td>Bayesian info crit.</td><td>-146.617515</td><td></td></tr></table><h2>Variables</h2><table><tr><th> name </th><th> value </th><th> standard error </th><th> relative error </th><th> initial value </th><th> min </th><th> max </th><th> vary </th></tr><tr><td> HB_ystress </td><td>  4.08822217 </td><td>  0.05981584 </td><td> (1.46%) </td><td> 1.0 </td><td>  0.00000000 </td><td>         inf </td><td> True </td></tr><tr><td> HB_K </td><td>  1.88049246 </td><td>  0.05148762 </td><td> (2.74%) </td><td> 1.0 </td><td>  0.00000000 </td><td>         inf </td><td> True </td></tr><tr><td> HB_n </td><td>  0.59580716 </td><td>  0.00527012 </td><td> (0.88%) </td><td> 0.5 </td><td>  0.00000000 </td><td>  1.00000000 </td><td> True </td></tr></table><h2>Correlations (unreported correlations are < 0.100)</h2><table><tr><td>HB_K</td><td>HB_n</td><td>-0.9655</td></tr><tr><td>HB_ystress</td><td>HB_K</td><td>-0.8080</td></tr><tr><td>HB_ystress</td><td>HB_n</td><td>0.7536</td></tr></table>"
            ],
            "text/plain": [
              "<lmfit.model.ModelResult at 0x7fda2afd8588>"
            ]
          },
          "metadata": {
            "tags": []
          }
        },
        {
          "output_type": "display_data",
          "data": {
            "image/png": "[encoded data removed]",
            "text/plain": [
              "<Figure size 547.2x547.2 with 9 Axes>"
            ]
          },
          "metadata": {
            "tags": []
          }
        }
      ]
    },
    {
      "cell_type": "code",
      "metadata": {
        "id": "LZOV8cPzENpZ",
        "colab_type": "code",
        "colab": {}
      },
      "source": [
        ""
      ],
      "execution_count": 0,
      "outputs": []
    }
  ]
}