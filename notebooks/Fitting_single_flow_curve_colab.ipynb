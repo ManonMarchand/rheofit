{
 "cells": [
  {
   "cell_type": "markdown",
   "metadata": {
    "colab_type": "text",
    "id": "H9vLPn3ICwlA"
   },
   "source": [
    "# Fitting single flow curve\n",
    "\n",
    "This notebook contains a list of possibly usefull scripts focusing on possible analysis and visualization on a single flow curve. A flow curve is the measurement of the viscosity or shear stress as a function of the stress or shear rate. In a measurment a constant shear rate or shear stress is imposed on a fluid sample and the required shear stress or the resulting shear rate is measured. The viscosity is defined as:\n",
    "\n",
    "$$\\eta=\\sigma/\\dot\\gamma$$\n",
    "\n",
    "where $\\eta$ represents the viscosity in unit of [Pa s], $\\sigma$ the stress in unit of [Pa] and $\\dot\\gamma$ the shear rate in unit of [1/s].\n",
    "\n",
    "Since for Non newtonian fluids the viscosity is a function of the shear rate, the measurement of the flow curve is a way to characterize such functional dependence. Additionally constitutive models can be used to fit the flow curve and extract parameter that in some case directly relates to fundamental material properties.\n",
    "\n",
    "In this notebook we provide some example of analysis of flow curves using powerful python libraries that we simply integrate to make flow curves analysis simple, easy to share and reproduce.\n",
    "\n",
    "Writing this notebook we provide a sequence of exaples structured as \"recepies\" to perform a specific function, plotiing data, fitting data, evaluating confidence itervals...\n",
    "\n",
    "Each recepy can be considered stand alone meaning that the only objects that cells share are the general imports in the first cell and the functions defined through the notebook. This should make it easy to copy and paste a cell in case you want to use it as a starting point for your own analysis."
   ]
  },
  {
   "cell_type": "markdown",
   "metadata": {
    "colab_type": "text",
    "id": "view-in-github"
   },
   "source": [
    "<a href=\"https://colab.research.google.com/github/marcocaggioni/rheofit/blob/master/notebooks/Fitting_single_flow_curve_colab.ipynb\" target=\"_parent\"><img src=\"https://colab.research.google.com/assets/colab-badge.svg\" alt=\"Open In Colab\"/></a>"
   ]
  },
  {
   "cell_type": "code",
   "execution_count": null,
   "metadata": {
    "colab": {
     "base_uri": "https://localhost:8080/",
     "height": 884
    },
    "colab_type": "code",
    "id": "LYT_Q3zkDIE3",
    "outputId": "9b2c1256-bbe4-4584-fcf1-0284b864d135"
   },
   "outputs": [],
   "source": [
    "#executing the notebook in colab requires installation of the rheofit library\n",
    "!pip install git+https://github.com/marcocaggioni/rheofit.git"
   ]
  },
  {
   "cell_type": "code",
   "execution_count": 12,
   "metadata": {
    "colab": {},
    "colab_type": "code",
    "id": "gjPMl7UDCwlC"
   },
   "outputs": [],
   "source": [
    "%matplotlib inline\n",
    "\n",
    "import sys\n",
    "sys.path.append(\"./../\") #in case you are running the notebook in binder or from the cloned repository\n",
    "import rheofit\n",
    "import lmfit\n",
    "import pybroom as pb\n",
    "import matplotlib.pyplot as plt\n",
    "import pandas as pd\n",
    "import emcee\n",
    "import corner\n",
    "import seaborn"
   ]
  },
  {
   "cell_type": "markdown",
   "metadata": {
    "colab_type": "text",
    "id": "ZWuxcdcuCwlH"
   },
   "source": [
    "## Getting Example flow curve data\n",
    "\n",
    "To make the demo more agile we stored an example flow curve in the rheodata module. In the future we would like to collect flow curves from published articles to make them easily available for training purpouse. The data provided refer to a 75w% mineral oil in 11%LAS surfactant solution. The emusion droplets size ranges from 1-10 um and the measurement was performed with a Couette geometry at 40C.\n",
    "\n",
    "The example_emulsion method returns a Pandas dataframe with column 'Shear rate' in [1/s] and column 'Stress' in [Pa].\n",
    "The choice of the name convention is from the excel exported file by the TA Trios software. A possibly better choice could be the RheoML convention 'ShearRate' and 'ShearStress'. We may change in the future.\n",
    "\n",
    "Example of importing data from different file formats are provided in a different Notebook, here we focus on possible analysis and visualization on a single flow curve."
   ]
  },
  {
   "cell_type": "code",
   "execution_count": 13,
   "metadata": {
    "colab": {
     "base_uri": "https://localhost:8080/",
     "height": 204
    },
    "colab_type": "code",
    "id": "-IdwBgCgCwlI",
    "outputId": "c02136fd-316d-4ad7-ecd6-aa72cf72519e",
    "scrolled": false
   },
   "outputs": [
    {
     "data": {
      "text/html": [
       "<div>\n",
       "<style scoped>\n",
       "    .dataframe tbody tr th:only-of-type {\n",
       "        vertical-align: middle;\n",
       "    }\n",
       "\n",
       "    .dataframe tbody tr th {\n",
       "        vertical-align: top;\n",
       "    }\n",
       "\n",
       "    .dataframe thead th {\n",
       "        text-align: right;\n",
       "    }\n",
       "</style>\n",
       "<table border=\"1\" class=\"dataframe\">\n",
       "  <thead>\n",
       "    <tr style=\"text-align: right;\">\n",
       "      <th></th>\n",
       "      <th>Shear rate</th>\n",
       "      <th>Stress</th>\n",
       "    </tr>\n",
       "  </thead>\n",
       "  <tbody>\n",
       "    <tr>\n",
       "      <td>0</td>\n",
       "      <td>999.89475</td>\n",
       "      <td>131.22475</td>\n",
       "    </tr>\n",
       "    <tr>\n",
       "      <td>1</td>\n",
       "      <td>891.25100</td>\n",
       "      <td>121.57225</td>\n",
       "    </tr>\n",
       "    <tr>\n",
       "      <td>2</td>\n",
       "      <td>794.32825</td>\n",
       "      <td>112.56525</td>\n",
       "    </tr>\n",
       "    <tr>\n",
       "      <td>3</td>\n",
       "      <td>707.94600</td>\n",
       "      <td>104.25800</td>\n",
       "    </tr>\n",
       "    <tr>\n",
       "      <td>4</td>\n",
       "      <td>630.95750</td>\n",
       "      <td>96.58295</td>\n",
       "    </tr>\n",
       "  </tbody>\n",
       "</table>\n",
       "</div>"
      ],
      "text/plain": [
       "   Shear rate     Stress\n",
       "0   999.89475  131.22475\n",
       "1   891.25100  121.57225\n",
       "2   794.32825  112.56525\n",
       "3   707.94600  104.25800\n",
       "4   630.95750   96.58295"
      ]
     },
     "execution_count": 13,
     "metadata": {},
     "output_type": "execute_result"
    }
   ],
   "source": [
    "#using provided example data\n",
    "example_data=rheofit.rheodata.example_emulsion()\n",
    "example_data.head()"
   ]
  },
  {
   "cell_type": "markdown",
   "metadata": {
    "colab_type": "text",
    "id": "bvt_Uip1CwlK"
   },
   "source": [
    "## Plotting flow curve data"
   ]
  },
  {
   "cell_type": "code",
   "execution_count": 14,
   "metadata": {
    "colab": {
     "base_uri": "https://localhost:8080/",
     "height": 292
    },
    "colab_type": "code",
    "id": "7Aa1x6kHCwlL",
    "outputId": "8a0dd701-e745-4a77-fbda-babcd840f098"
   },
   "outputs": [
    {
     "data": {
      "image/png": "[encoded data removed]",
      "text/plain": [
       "<Figure size 432x288 with 1 Axes>"
      ]
     },
     "metadata": {
      "needs_background": "light"
     },
     "output_type": "display_data"
    }
   ],
   "source": [
    "data=rheofit.rheodata.example_emulsion()\n",
    "\n",
    "def plot_data(data):\n",
    "    plt.plot(data['Shear rate'],data['Stress'],'o')\n",
    "    plt.yscale('log')\n",
    "    plt.xscale('log')\n",
    "    plt.ylabel('$\\sigma [Pa]$');\n",
    "    plt.xlabel('$\\dot\\gamma [1/s]$');\n",
    "    \n",
    "    return plt.gcf()\n",
    "\n",
    "plot_data(data);"
   ]
  },
  {
   "cell_type": "markdown",
   "metadata": {
    "colab_type": "text",
    "id": "1G879lZRCwlN"
   },
   "source": [
    "## Fitting flow curve data to a rheological model"
   ]
  },
  {
   "cell_type": "code",
   "execution_count": 15,
   "metadata": {
    "colab": {
     "base_uri": "https://localhost:8080/",
     "height": 545
    },
    "colab_type": "code",
    "id": "imzqgtPACwlN",
    "outputId": "90820394-7bbf-4f7a-bd9a-f27a7dc4a9d8"
   },
   "outputs": [
    {
     "data": {
      "text/html": [
       "<h2> Model</h2> Model(HB, prefix='HB_') <h2>Fit Statistics</h2><table><tr><td>fitting method</td><td>leastsq</td><td></td></tr><tr><td># function evals</td><td>29</td><td></td></tr><tr><td># data points</td><td>101</td><td></td></tr><tr><td># variables</td><td>3</td><td></td></tr><tr><td>chi-square</td><td> 0.52363806</td><td></td></tr><tr><td>reduced chi-square</td><td> 0.00534325</td><td></td></tr><tr><td>Akaike info crit.</td><td>-525.469582</td><td></td></tr><tr><td>Bayesian info crit.</td><td>-517.624221</td><td></td></tr></table><h2>Variables</h2><table><tr><th> name </th><th> value </th><th> standard error </th><th> relative error </th><th> initial value </th><th> min </th><th> max </th><th> vary </th></tr><tr><td> HB_n </td><td>  0.53928815 </td><td>  0.00752288 </td><td> 1.39% </td><td> 0.5 </td><td>  0.00000000 </td><td>  1.00000000 </td><td> True </td></tr><tr><td> HB_K </td><td>  2.56281495 </td><td>  0.09118889 </td><td> 3.56% </td><td> 1.0 </td><td>  0.00000000 </td><td>         inf </td><td> True </td></tr><tr><td> HB_ystress </td><td>  3.18629490 </td><td>  0.06296913 </td><td> 1.98% </td><td> 1.0 </td><td>  0.00000000 </td><td>         inf </td><td> True </td></tr></table><h2>Correlations (unreported correlations are < 0.100)</h2><table><tr><td>HB_n</td><td>HB_K</td><td>-0.9380</td></tr><tr><td>HB_K</td><td>HB_ystress</td><td>-0.7366</td></tr><tr><td>HB_n</td><td>HB_ystress</td><td>0.6757</td></tr></table>"
      ],
      "text/plain": [
       "<lmfit.model.ModelResult at 0x16f6e1b0688>"
      ]
     },
     "execution_count": 15,
     "metadata": {},
     "output_type": "execute_result"
    }
   ],
   "source": [
    "data=rheofit.rheodata.example_emulsion()\n",
    "model=rheofit.models.HB_model\n",
    "res_fit=model.fit(data['Stress'],x=data['Shear rate'],weights=1/(data['Stress']))\n",
    "res_fit"
   ]
  },
  {
   "cell_type": "code",
   "execution_count": 16,
   "metadata": {
    "colab": {
     "base_uri": "https://localhost:8080/",
     "height": 584
    },
    "colab_type": "code",
    "id": "cA_HHQbBCwlP",
    "outputId": "49d330c3-3f80-4c92-aa45-01bde1e07f17"
   },
   "outputs": [
    {
     "data": {
      "text/plain": [
       "<matplotlib.axes._subplots.AxesSubplot at 0x16f6eea9a88>"
      ]
     },
     "execution_count": 16,
     "metadata": {},
     "output_type": "execute_result"
    },
    {
     "data": {
      "image/png": "[encoded data removed]",
      "text/plain": [
       "<Figure size 432x288 with 1 Axes>"
      ]
     },
     "metadata": {
      "needs_background": "light"
     },
     "output_type": "display_data"
    },
    {
     "data": {
      "image/png": "[encoded data removed]",
      "text/plain": [
       "<Figure size 432x288 with 1 Axes>"
      ]
     },
     "metadata": {
      "needs_background": "light"
     },
     "output_type": "display_data"
    }
   ],
   "source": [
    "data=rheofit.rheodata.example_emulsion()\n",
    "data=data[data['Shear rate']>0.1]\n",
    "model=rheofit.models.HB_model\n",
    "res_fit=model.fit(data['Stress'],x=data['Shear rate'],weights=1/(data['Stress']*0.1))\n",
    "\n",
    "kwarg={'xscale':'log','yscale':('log')}\n",
    "res_fit.plot_fit(ax_kws=kwarg,yerr=False);\n",
    "plt.figure()\n",
    "res_fit.plot_residuals(yerr=False,ax_kws={'xscale':'log'})"
   ]
  },
  {
   "cell_type": "code",
   "execution_count": 17,
   "metadata": {
    "colab": {
     "base_uri": "https://localhost:8080/",
     "height": 292
    },
    "colab_type": "code",
    "id": "OGTq1CKOCwlR",
    "outputId": "0106f376-8415-455c-bf1b-1d37caa7d0cc"
   },
   "outputs": [
    {
     "data": {
      "image/png": "[encoded data removed]",
      "text/plain": [
       "<Figure size 432x288 with 1 Axes>"
      ]
     },
     "metadata": {
      "needs_background": "light"
     },
     "output_type": "display_data"
    }
   ],
   "source": [
    "data=rheofit.rheodata.example_emulsion()\n",
    "data=data[data['Shear rate']>0.1]\n",
    "\n",
    "model=rheofit.models.HB_model\n",
    "res_fit=model.fit(data['Stress'],x=data['Shear rate'],weights=1/(data['Stress']))\n",
    "\n",
    "def plot_fit(res_fit, xlist=None):\n",
    "    if xlist is None:\n",
    "        xlist=res_fit.userkws['x']\n",
    "    \n",
    "    plt.plot(res_fit.userkws['x'], res_fit.data,'o',label='Data')\n",
    "    plt.plot(xlist, res_fit.eval(x=xlist),label='Best fit')\n",
    "    plt.yscale('log')\n",
    "    plt.xscale('log')\n",
    "    plt.ylabel('$\\sigma [Pa]$')\n",
    "    plt.xlabel('$\\dot\\gamma [1/s]$')\n",
    "\n",
    "plot_fit(res_fit);"
   ]
  },
  {
   "cell_type": "markdown",
   "metadata": {
    "colab_type": "text",
    "id": "MM3xBkwjCwlT"
   },
   "source": [
    "## Explore fit results with pybroom "
   ]
  },
  {
   "cell_type": "code",
   "execution_count": 18,
   "metadata": {
    "colab": {
     "base_uri": "https://localhost:8080/",
     "height": 80
    },
    "colab_type": "code",
    "id": "oPub69raCwlT",
    "outputId": "a80a4626-9aa2-4001-aafa-87f0af86cab6"
   },
   "outputs": [
    {
     "data": {
      "text/html": [
       "<div>\n",
       "<style scoped>\n",
       "    .dataframe tbody tr th:only-of-type {\n",
       "        vertical-align: middle;\n",
       "    }\n",
       "\n",
       "    .dataframe tbody tr th {\n",
       "        vertical-align: top;\n",
       "    }\n",
       "\n",
       "    .dataframe thead th {\n",
       "        text-align: right;\n",
       "    }\n",
       "</style>\n",
       "<table border=\"1\" class=\"dataframe\">\n",
       "  <thead>\n",
       "    <tr style=\"text-align: right;\">\n",
       "      <th></th>\n",
       "      <th>model</th>\n",
       "      <th>method</th>\n",
       "      <th>num_params</th>\n",
       "      <th>num_data_points</th>\n",
       "      <th>chisqr</th>\n",
       "      <th>redchi</th>\n",
       "      <th>AIC</th>\n",
       "      <th>BIC</th>\n",
       "      <th>num_func_eval</th>\n",
       "      <th>success</th>\n",
       "      <th>message</th>\n",
       "    </tr>\n",
       "  </thead>\n",
       "  <tbody>\n",
       "    <tr>\n",
       "      <td>0</td>\n",
       "      <td>Model(HB, prefix='HB_')</td>\n",
       "      <td>leastsq</td>\n",
       "      <td>3</td>\n",
       "      <td>101</td>\n",
       "      <td>0.523638</td>\n",
       "      <td>0.005343</td>\n",
       "      <td>-525.469582</td>\n",
       "      <td>-517.624221</td>\n",
       "      <td>29</td>\n",
       "      <td>True</td>\n",
       "      <td>Fit succeeded.</td>\n",
       "    </tr>\n",
       "  </tbody>\n",
       "</table>\n",
       "</div>"
      ],
      "text/plain": [
       "                     model   method  num_params  num_data_points    chisqr  \\\n",
       "0  Model(HB, prefix='HB_')  leastsq           3              101  0.523638   \n",
       "\n",
       "     redchi         AIC         BIC  num_func_eval  success         message  \n",
       "0  0.005343 -525.469582 -517.624221             29     True  Fit succeeded.  "
      ]
     },
     "execution_count": 18,
     "metadata": {},
     "output_type": "execute_result"
    }
   ],
   "source": [
    "data=rheofit.rheodata.example_emulsion()\n",
    "model=rheofit.models.HB_model\n",
    "res_fit=model.fit(data['Stress'],x=data['Shear rate'],weights=1/(data['Stress']))\n",
    "\n",
    "pb.glance(res_fit)"
   ]
  },
  {
   "cell_type": "code",
   "execution_count": 19,
   "metadata": {
    "colab": {
     "base_uri": "https://localhost:8080/",
     "height": 142
    },
    "colab_type": "code",
    "id": "OWyIDjWHCwld",
    "outputId": "39061eb3-08d1-44eb-fb0e-75553ed918f9"
   },
   "outputs": [
    {
     "data": {
      "text/html": [
       "<div>\n",
       "<style scoped>\n",
       "    .dataframe tbody tr th:only-of-type {\n",
       "        vertical-align: middle;\n",
       "    }\n",
       "\n",
       "    .dataframe tbody tr th {\n",
       "        vertical-align: top;\n",
       "    }\n",
       "\n",
       "    .dataframe thead th {\n",
       "        text-align: right;\n",
       "    }\n",
       "</style>\n",
       "<table border=\"1\" class=\"dataframe\">\n",
       "  <thead>\n",
       "    <tr style=\"text-align: right;\">\n",
       "      <th></th>\n",
       "      <th>name</th>\n",
       "      <th>value</th>\n",
       "      <th>min</th>\n",
       "      <th>max</th>\n",
       "      <th>vary</th>\n",
       "      <th>expr</th>\n",
       "      <th>stderr</th>\n",
       "      <th>init_value</th>\n",
       "    </tr>\n",
       "  </thead>\n",
       "  <tbody>\n",
       "    <tr>\n",
       "      <td>0</td>\n",
       "      <td>HB_K</td>\n",
       "      <td>2.562815</td>\n",
       "      <td>0</td>\n",
       "      <td>inf</td>\n",
       "      <td>True</td>\n",
       "      <td>NaN</td>\n",
       "      <td>0.091189</td>\n",
       "      <td>1.0</td>\n",
       "    </tr>\n",
       "    <tr>\n",
       "      <td>1</td>\n",
       "      <td>HB_n</td>\n",
       "      <td>0.539288</td>\n",
       "      <td>0</td>\n",
       "      <td>1.0</td>\n",
       "      <td>True</td>\n",
       "      <td>NaN</td>\n",
       "      <td>0.007523</td>\n",
       "      <td>0.5</td>\n",
       "    </tr>\n",
       "    <tr>\n",
       "      <td>2</td>\n",
       "      <td>HB_ystress</td>\n",
       "      <td>3.186295</td>\n",
       "      <td>0</td>\n",
       "      <td>inf</td>\n",
       "      <td>True</td>\n",
       "      <td>NaN</td>\n",
       "      <td>0.062969</td>\n",
       "      <td>1.0</td>\n",
       "    </tr>\n",
       "  </tbody>\n",
       "</table>\n",
       "</div>"
      ],
      "text/plain": [
       "         name     value  min  max  vary  expr    stderr  init_value\n",
       "0        HB_K  2.562815    0  inf  True   NaN  0.091189         1.0\n",
       "1        HB_n  0.539288    0  1.0  True   NaN  0.007523         0.5\n",
       "2  HB_ystress  3.186295    0  inf  True   NaN  0.062969         1.0"
      ]
     },
     "execution_count": 19,
     "metadata": {},
     "output_type": "execute_result"
    }
   ],
   "source": [
    "data=rheofit.rheodata.example_emulsion()\n",
    "model=rheofit.models.HB_model\n",
    "res_fit=model.fit(data['Stress'],x=data['Shear rate'],weights=1/(data['Stress']))\n",
    "\n",
    "pb.tidy(res_fit)"
   ]
  },
  {
   "cell_type": "code",
   "execution_count": 20,
   "metadata": {
    "colab": {
     "base_uri": "https://localhost:8080/",
     "height": 1000
    },
    "colab_type": "code",
    "id": "bRXTpYdjCwlh",
    "outputId": "66d2bfd3-22fa-4fa1-e856-edc4d6fd8062"
   },
   "outputs": [
    {
     "data": {
      "text/html": [
       "<div>\n",
       "<style scoped>\n",
       "    .dataframe tbody tr th:only-of-type {\n",
       "        vertical-align: middle;\n",
       "    }\n",
       "\n",
       "    .dataframe tbody tr th {\n",
       "        vertical-align: top;\n",
       "    }\n",
       "\n",
       "    .dataframe thead th {\n",
       "        text-align: right;\n",
       "    }\n",
       "</style>\n",
       "<table border=\"1\" class=\"dataframe\">\n",
       "  <thead>\n",
       "    <tr style=\"text-align: right;\">\n",
       "      <th></th>\n",
       "      <th>x</th>\n",
       "      <th>data</th>\n",
       "      <th>best_fit</th>\n",
       "      <th>residual</th>\n",
       "    </tr>\n",
       "  </thead>\n",
       "  <tbody>\n",
       "    <tr>\n",
       "      <td>0</td>\n",
       "      <td>999.89475</td>\n",
       "      <td>131.22475</td>\n",
       "      <td>109.492113</td>\n",
       "      <td>-0.165614</td>\n",
       "    </tr>\n",
       "    <tr>\n",
       "      <td>1</td>\n",
       "      <td>891.25100</td>\n",
       "      <td>121.57225</td>\n",
       "      <td>103.098212</td>\n",
       "      <td>-0.151959</td>\n",
       "    </tr>\n",
       "    <tr>\n",
       "      <td>2</td>\n",
       "      <td>794.32825</td>\n",
       "      <td>112.56525</td>\n",
       "      <td>97.083545</td>\n",
       "      <td>-0.137535</td>\n",
       "    </tr>\n",
       "    <tr>\n",
       "      <td>3</td>\n",
       "      <td>707.94600</td>\n",
       "      <td>104.25800</td>\n",
       "      <td>91.430975</td>\n",
       "      <td>-0.123032</td>\n",
       "    </tr>\n",
       "    <tr>\n",
       "      <td>4</td>\n",
       "      <td>630.95750</td>\n",
       "      <td>96.58295</td>\n",
       "      <td>86.118672</td>\n",
       "      <td>-0.108345</td>\n",
       "    </tr>\n",
       "  </tbody>\n",
       "</table>\n",
       "</div>"
      ],
      "text/plain": [
       "           x       data    best_fit  residual\n",
       "0  999.89475  131.22475  109.492113 -0.165614\n",
       "1  891.25100  121.57225  103.098212 -0.151959\n",
       "2  794.32825  112.56525   97.083545 -0.137535\n",
       "3  707.94600  104.25800   91.430975 -0.123032\n",
       "4  630.95750   96.58295   86.118672 -0.108345"
      ]
     },
     "execution_count": 20,
     "metadata": {},
     "output_type": "execute_result"
    }
   ],
   "source": [
    "data=rheofit.rheodata.example_emulsion()\n",
    "model=rheofit.models.HB_model\n",
    "res_fit=model.fit(data['Stress'],x=data['Shear rate'],weights=1/(data['Stress']))\n",
    "\n",
    "augmented=pb.augment(res_fit)\n",
    "augmented.head()"
   ]
  },
  {
   "cell_type": "markdown",
   "metadata": {
    "colab_type": "text",
    "id": "jm5du9w3Cwlk"
   },
   "source": [
    "## Plot residuals"
   ]
  },
  {
   "cell_type": "code",
   "execution_count": 21,
   "metadata": {
    "colab": {
     "base_uri": "https://localhost:8080/",
     "height": 292
    },
    "colab_type": "code",
    "id": "acIsfjWsCwll",
    "outputId": "6f02c269-9e2b-4efd-c4c2-33c166d53fdd"
   },
   "outputs": [
    {
     "data": {
      "image/png": "[encoded data removed]",
      "text/plain": [
       "<Figure size 432x288 with 1 Axes>"
      ]
     },
     "metadata": {
      "needs_background": "light"
     },
     "output_type": "display_data"
    }
   ],
   "source": [
    "data=rheofit.rheodata.example_emulsion()\n",
    "model=rheofit.models.HB_model\n",
    "res_fit=model.fit(data['Stress'],x=data['Shear rate'],weights=1/(data['Stress']))\n",
    "\n",
    "\n",
    "def plot_residuals(res_fit):\n",
    "    augmented=pb.augment(res_fit)\n",
    "    plt.plot('x','residual',data=augmented)\n",
    "    plt.xscale('log')\n",
    "    plt.ylabel('residual - relative deviation');\n",
    "    plt.xlabel('$\\dot\\gamma [1/s]$');\n",
    "    \n",
    "    return plt.gcf()\n",
    "\n",
    "plot_residuals(res_fit);"
   ]
  },
  {
   "cell_type": "markdown",
   "metadata": {
    "colab_type": "text",
    "id": "FqJ-qer3Cwlo"
   },
   "source": [
    "## Confidence interval"
   ]
  },
  {
   "cell_type": "code",
   "execution_count": 22,
   "metadata": {
    "colab": {
     "base_uri": "https://localhost:8080/",
     "height": 292
    },
    "colab_type": "code",
    "id": "5QL7Af8VCwlp",
    "outputId": "cadf30d1-1e56-4228-cc0f-6299c36c7f25"
   },
   "outputs": [
    {
     "data": {
      "image/png": "[encoded data removed]",
      "text/plain": [
       "<Figure size 432x288 with 1 Axes>"
      ]
     },
     "metadata": {
      "needs_background": "light"
     },
     "output_type": "display_data"
    }
   ],
   "source": [
    "data=rheofit.rheodata.example_emulsion()\n",
    "data=data[data['Shear rate']>0.1]\n",
    "model=rheofit.models.HB_model\n",
    "res_fit=model.fit(data['Stress'],x=data['Shear rate'],weights=1/(data['Stress']))\n",
    "\n",
    "def plot_confidence(res_fit,expand=10):\n",
    "    dely = res_fit.eval_uncertainty(x=res_fit.userkws['x'],sigma=3)*expand\n",
    "    \n",
    "    plt.plot(res_fit.userkws['x'], res_fit.data,'o',color='black',label='Data',markersize=5)\n",
    "    plt.plot(res_fit.userkws['x'], res_fit.best_fit,label='Best fit TC model',color='red')\n",
    "    plt.fill_between(res_fit.userkws['x'], res_fit.best_fit-dely,res_fit.best_fit+dely,\n",
    "                     color='blue',alpha=0.2,label='0.9973 Confidence interval')\n",
    "    plt.yscale('log')\n",
    "    plt.xscale('log')\n",
    "    plt.ylabel('$\\sigma [Pa]$')\n",
    "    plt.xlabel('$\\dot\\gamma [1/s]$')\n",
    "    \n",
    "    return plt.gcf()\n",
    "\n",
    "plot_confidence(res_fit);"
   ]
  },
  {
   "cell_type": "markdown",
   "metadata": {
    "colab_type": "text",
    "id": "3J-2PjF5Cwlr"
   },
   "source": [
    "## Fit specific shear rate range"
   ]
  },
  {
   "cell_type": "code",
   "execution_count": 23,
   "metadata": {
    "colab": {
     "base_uri": "https://localhost:8080/",
     "height": 292
    },
    "colab_type": "code",
    "id": "s-f_w_TUCwls",
    "outputId": "40de4d61-e141-492e-e38f-cb9e8ed6c92f",
    "scrolled": false
   },
   "outputs": [
    {
     "data": {
      "image/png": "[encoded data removed]",
      "text/plain": [
       "<Figure size 432x288 with 1 Axes>"
      ]
     },
     "metadata": {
      "needs_background": "light"
     },
     "output_type": "display_data"
    }
   ],
   "source": [
    "data=rheofit.rheodata.example_emulsion()\n",
    "data=data[data['Shear rate']>0.1]\n",
    "model=rheofit.models.HB_model\n",
    "res_fit=model.fit(data['Stress'],x=data['Shear rate'],weights=1/(data['Stress']))\n",
    "\n",
    "min_shear_rate=0.1\n",
    "max_shear_rate=1000\n",
    "\n",
    "def fit_range(res_fit,min_shear_rate=0.1,max_shear_rate=100):\n",
    "    data=pd.DataFrame.from_dict({'Shear rate':res_fit.userkws['x'],'Stress':res_fit.data})\n",
    "    mask=(data['Shear rate']>=min_shear_rate) & (data['Shear rate']<=max_shear_rate)\n",
    "    res_fit=model.fit(data[mask]['Stress'],x=data[mask]['Shear rate'],weights=1/(data[mask]['Stress']))\n",
    "    \n",
    "    return res_fit\n",
    "\n",
    "plot_fit(res_fit);\n",
    "plot_fit(fit_range(res_fit));"
   ]
  },
  {
   "cell_type": "code",
   "execution_count": 24,
   "metadata": {
    "colab": {
     "base_uri": "https://localhost:8080/",
     "height": 392
    },
    "colab_type": "code",
    "id": "E-5pHGtwCwlu",
    "outputId": "968b2052-6fbb-485f-a604-46a5ae126462"
   },
   "outputs": [
    {
     "data": {
      "text/html": [
       "<div>\n",
       "<style scoped>\n",
       "    .dataframe tbody tr th:only-of-type {\n",
       "        vertical-align: middle;\n",
       "    }\n",
       "\n",
       "    .dataframe tbody tr th {\n",
       "        vertical-align: top;\n",
       "    }\n",
       "\n",
       "    .dataframe thead th {\n",
       "        text-align: right;\n",
       "    }\n",
       "</style>\n",
       "<table border=\"1\" class=\"dataframe\">\n",
       "  <thead>\n",
       "    <tr style=\"text-align: right;\">\n",
       "      <th></th>\n",
       "      <th>name</th>\n",
       "      <th>value</th>\n",
       "      <th>min</th>\n",
       "      <th>max</th>\n",
       "      <th>vary</th>\n",
       "      <th>expr</th>\n",
       "      <th>stderr</th>\n",
       "      <th>init_value</th>\n",
       "    </tr>\n",
       "  </thead>\n",
       "  <tbody>\n",
       "    <tr>\n",
       "      <td>0</td>\n",
       "      <td>HB_K</td>\n",
       "      <td>2.946032</td>\n",
       "      <td>0</td>\n",
       "      <td>inf</td>\n",
       "      <td>True</td>\n",
       "      <td>NaN</td>\n",
       "      <td>0.033507</td>\n",
       "      <td>1.0</td>\n",
       "    </tr>\n",
       "    <tr>\n",
       "      <td>1</td>\n",
       "      <td>HB_n</td>\n",
       "      <td>0.452852</td>\n",
       "      <td>0</td>\n",
       "      <td>1.0</td>\n",
       "      <td>True</td>\n",
       "      <td>NaN</td>\n",
       "      <td>0.004298</td>\n",
       "      <td>0.5</td>\n",
       "    </tr>\n",
       "    <tr>\n",
       "      <td>2</td>\n",
       "      <td>HB_ystress</td>\n",
       "      <td>3.219395</td>\n",
       "      <td>0</td>\n",
       "      <td>inf</td>\n",
       "      <td>True</td>\n",
       "      <td>NaN</td>\n",
       "      <td>0.028909</td>\n",
       "      <td>1.0</td>\n",
       "    </tr>\n",
       "  </tbody>\n",
       "</table>\n",
       "</div>"
      ],
      "text/plain": [
       "         name     value  min  max  vary  expr    stderr  init_value\n",
       "0        HB_K  2.946032    0  inf  True   NaN  0.033507         1.0\n",
       "1        HB_n  0.452852    0  1.0  True   NaN  0.004298         0.5\n",
       "2  HB_ystress  3.219395    0  inf  True   NaN  0.028909         1.0"
      ]
     },
     "metadata": {},
     "output_type": "display_data"
    },
    {
     "data": {
      "text/html": [
       "<div>\n",
       "<style scoped>\n",
       "    .dataframe tbody tr th:only-of-type {\n",
       "        vertical-align: middle;\n",
       "    }\n",
       "\n",
       "    .dataframe tbody tr th {\n",
       "        vertical-align: top;\n",
       "    }\n",
       "\n",
       "    .dataframe thead th {\n",
       "        text-align: right;\n",
       "    }\n",
       "</style>\n",
       "<table border=\"1\" class=\"dataframe\">\n",
       "  <thead>\n",
       "    <tr style=\"text-align: right;\">\n",
       "      <th></th>\n",
       "      <th>name</th>\n",
       "      <th>value</th>\n",
       "      <th>min</th>\n",
       "      <th>max</th>\n",
       "      <th>vary</th>\n",
       "      <th>expr</th>\n",
       "      <th>stderr</th>\n",
       "      <th>init_value</th>\n",
       "    </tr>\n",
       "  </thead>\n",
       "  <tbody>\n",
       "    <tr>\n",
       "      <td>0</td>\n",
       "      <td>HB_K</td>\n",
       "      <td>2.498040</td>\n",
       "      <td>0</td>\n",
       "      <td>inf</td>\n",
       "      <td>True</td>\n",
       "      <td>NaN</td>\n",
       "      <td>0.037762</td>\n",
       "      <td>1.0</td>\n",
       "    </tr>\n",
       "    <tr>\n",
       "      <td>1</td>\n",
       "      <td>HB_n</td>\n",
       "      <td>0.517414</td>\n",
       "      <td>0</td>\n",
       "      <td>1.0</td>\n",
       "      <td>True</td>\n",
       "      <td>NaN</td>\n",
       "      <td>0.003954</td>\n",
       "      <td>0.5</td>\n",
       "    </tr>\n",
       "    <tr>\n",
       "      <td>2</td>\n",
       "      <td>HB_ystress</td>\n",
       "      <td>3.589250</td>\n",
       "      <td>0</td>\n",
       "      <td>inf</td>\n",
       "      <td>True</td>\n",
       "      <td>NaN</td>\n",
       "      <td>0.034026</td>\n",
       "      <td>1.0</td>\n",
       "    </tr>\n",
       "  </tbody>\n",
       "</table>\n",
       "</div>"
      ],
      "text/plain": [
       "         name     value  min  max  vary  expr    stderr  init_value\n",
       "0        HB_K  2.498040    0  inf  True   NaN  0.037762         1.0\n",
       "1        HB_n  0.517414    0  1.0  True   NaN  0.003954         0.5\n",
       "2  HB_ystress  3.589250    0  inf  True   NaN  0.034026         1.0"
      ]
     },
     "metadata": {},
     "output_type": "display_data"
    },
    {
     "data": {
      "text/html": [
       "<div>\n",
       "<style scoped>\n",
       "    .dataframe tbody tr th:only-of-type {\n",
       "        vertical-align: middle;\n",
       "    }\n",
       "\n",
       "    .dataframe tbody tr th {\n",
       "        vertical-align: top;\n",
       "    }\n",
       "\n",
       "    .dataframe thead th {\n",
       "        text-align: right;\n",
       "    }\n",
       "</style>\n",
       "<table border=\"1\" class=\"dataframe\">\n",
       "  <thead>\n",
       "    <tr style=\"text-align: right;\">\n",
       "      <th></th>\n",
       "      <th>name</th>\n",
       "      <th>value</th>\n",
       "      <th>min</th>\n",
       "      <th>max</th>\n",
       "      <th>vary</th>\n",
       "      <th>expr</th>\n",
       "      <th>stderr</th>\n",
       "      <th>init_value</th>\n",
       "    </tr>\n",
       "  </thead>\n",
       "  <tbody>\n",
       "    <tr>\n",
       "      <td>0</td>\n",
       "      <td>HB_K</td>\n",
       "      <td>1.880492</td>\n",
       "      <td>0</td>\n",
       "      <td>inf</td>\n",
       "      <td>True</td>\n",
       "      <td>NaN</td>\n",
       "      <td>0.051488</td>\n",
       "      <td>1.0</td>\n",
       "    </tr>\n",
       "    <tr>\n",
       "      <td>1</td>\n",
       "      <td>HB_n</td>\n",
       "      <td>0.595807</td>\n",
       "      <td>0</td>\n",
       "      <td>1.0</td>\n",
       "      <td>True</td>\n",
       "      <td>NaN</td>\n",
       "      <td>0.005270</td>\n",
       "      <td>0.5</td>\n",
       "    </tr>\n",
       "    <tr>\n",
       "      <td>2</td>\n",
       "      <td>HB_ystress</td>\n",
       "      <td>4.088222</td>\n",
       "      <td>0</td>\n",
       "      <td>inf</td>\n",
       "      <td>True</td>\n",
       "      <td>NaN</td>\n",
       "      <td>0.059816</td>\n",
       "      <td>1.0</td>\n",
       "    </tr>\n",
       "  </tbody>\n",
       "</table>\n",
       "</div>"
      ],
      "text/plain": [
       "         name     value  min  max  vary  expr    stderr  init_value\n",
       "0        HB_K  1.880492    0  inf  True   NaN  0.051488         1.0\n",
       "1        HB_n  0.595807    0  1.0  True   NaN  0.005270         0.5\n",
       "2  HB_ystress  4.088222    0  inf  True   NaN  0.059816         1.0"
      ]
     },
     "metadata": {},
     "output_type": "display_data"
    }
   ],
   "source": [
    "data=rheofit.rheodata.example_emulsion()\n",
    "model=rheofit.models.HB_model\n",
    "res_fit=model.fit(data['Stress'],x=data['Shear rate'],weights=1/(data['Stress']))\n",
    "\n",
    "min_shear_rate=0.1\n",
    "max_shear_rate=1000\n",
    "\n",
    "def fit_range(res_fit,min_shear_rate=0.1,max_shear_rate=100):\n",
    "    data=pd.DataFrame.from_dict({'Shear rate':res_fit.userkws['x'],'Stress':res_fit.data})\n",
    "    mask=(data['Shear rate']>min_shear_rate) & (data['Shear rate']<max_shear_rate)\n",
    "    res_fit=model.fit(data[mask]['Stress'],x=data[mask]['Shear rate'],weights=1/(data[mask]['Stress']))\n",
    "    \n",
    "    return res_fit\n",
    "\n",
    "display(pb.tidy(fit_range(res_fit,min_shear_rate=0.1,max_shear_rate=10)))\n",
    "display(pb.tidy(fit_range(res_fit,min_shear_rate=0.1,max_shear_rate=100)))\n",
    "display(pb.tidy(fit_range(res_fit,min_shear_rate=0.1,max_shear_rate=1000)))"
   ]
  },
  {
   "cell_type": "markdown",
   "metadata": {
    "colab_type": "text",
    "id": "RfXWEZq8Cwly"
   },
   "source": [
    "## Reduced $\\chi^2$ sensitivity on shear rate range"
   ]
  },
  {
   "cell_type": "code",
   "execution_count": 25,
   "metadata": {
    "colab": {
     "base_uri": "https://localhost:8080/",
     "height": 292
    },
    "colab_type": "code",
    "id": "EAMpHeuQCwlz",
    "outputId": "5e2be2e1-8fc0-43b6-bb1a-ac8f73d1202c"
   },
   "outputs": [
    {
     "data": {
      "image/png": "[encoded data removed]",
      "text/plain": [
       "<Figure size 432x288 with 2 Axes>"
      ]
     },
     "metadata": {
      "needs_background": "light"
     },
     "output_type": "display_data"
    }
   ],
   "source": [
    "data=rheofit.rheodata.example_emulsion()\n",
    "model=rheofit.models.HB_model\n",
    "res_fit=model.fit(data['Stress'],x=data['Shear rate'],weights=1/(data['Stress']))\n",
    "\n",
    "\n",
    "def explore_redchi(res_fit,min_shear_rate=0.01,max_shear_rate=1000):\n",
    "    data=pd.DataFrame.from_dict({'Shear rate':res_fit.userkws['x'],'Stress':res_fit.data})\n",
    "    res_dict={min_shear:fit_range(res_fit,min_shear_rate=min_shear,max_shear_rate=1000) \n",
    "              for min_shear in data['Shear rate'][10:-1]}\n",
    "    \n",
    "    ax1= plt.subplot(2,1,1)\n",
    "    \n",
    "    plt.plot(data['Shear rate'],data['Stress'],'o')\n",
    "    plt.yscale('log')\n",
    "    plt.xscale('log')\n",
    "    plt.xlabel('$\\dot\\gamma [1/s]$')\n",
    "    plt.ylabel('$\\sigma [Pa]$')\n",
    "\n",
    "    ax2= plt.subplot(2,1,2,sharex = ax1)\n",
    "    \n",
    "    plt.plot(list(res_dict.keys()),pb.glance(res_dict)['redchi'])\n",
    "    plt.xscale('log')\n",
    "    plt.ylabel('$\\chi_{red}$')\n",
    "    plt.xlabel('$\\dot\\gamma_{min} [1/s]$')\n",
    "    \n",
    "    return plt.gcf()\n",
    "    \n",
    "explore_redchi(res_fit);"
   ]
  },
  {
   "cell_type": "markdown",
   "metadata": {
    "colab_type": "text",
    "id": "bkFccV-uCwl1"
   },
   "source": [
    "## Model parameter sensitivity on shear rate range"
   ]
  },
  {
   "cell_type": "code",
   "execution_count": 26,
   "metadata": {
    "colab": {
     "base_uri": "https://localhost:8080/",
     "height": 292
    },
    "colab_type": "code",
    "id": "8NQCE9fdCwl2",
    "outputId": "04f9857c-40d2-417c-85e2-94b937ec4c11"
   },
   "outputs": [
    {
     "data": {
      "image/png": "[encoded data removed]",
      "text/plain": [
       "<Figure size 432x288 with 2 Axes>"
      ]
     },
     "metadata": {
      "needs_background": "light"
     },
     "output_type": "display_data"
    }
   ],
   "source": [
    "data=rheofit.rheodata.example_emulsion()\n",
    "data.sort_values('Shear rate',ascending=False, inplace=True)\n",
    "\n",
    "model=rheofit.models.HB_model\n",
    "res_fit=model.fit(data['Stress'],x=data['Shear rate'],weights=1/(data['Stress']))\n",
    "\n",
    "\n",
    "def explore_param_keephigh(res_fit,min_shear_rate=0.01,max_shear_rate=1000,param_name=None):\n",
    "    '''keep the right range of data for the fit\n",
    "    answer the question: how important it is how low we extend the analysis at low shear?\n",
    "    '''\n",
    "    data=pd.DataFrame.from_dict({'Shear rate':res_fit.userkws['x'],'Stress':res_fit.data})\n",
    "    data.sort_values('Shear rate',ascending=False, inplace=True)\n",
    "    res_fit=res_fit.model.fit(data['Stress'],x=data['Shear rate'],weights=1/(data['Stress']))\n",
    "    res_fit=fit_range(res_fit,min_shear_rate=min_shear_rate,max_shear_rate=max_shear_rate)\n",
    "    res_dict={min_shear:fit_range(res_fit,min_shear_rate=min_shear,max_shear_rate=max(res_fit.userkws['x'])) \n",
    "              for min_shear in res_fit.userkws['x'][5:-1]}\n",
    "    \n",
    "    ax1= plt.subplot(2,1,1)\n",
    "    \n",
    "    plt.plot(data['Shear rate'],data['Stress'],'o')\n",
    "    plt.yscale('log')\n",
    "    plt.xscale('log')\n",
    "    plt.xlabel('$\\dot\\gamma [1/s]$')\n",
    "    plt.ylabel('$\\sigma [Pa]$')\n",
    "    \n",
    "    xlim=plt.gca().get_xlim()\n",
    "    plt.axvspan(xlim[0],min_shear_rate,color='gray',alpha=0.5)\n",
    "    plt.axvspan(max_shear_rate,xlim[1],color='gray',alpha=0.5)\n",
    "    \n",
    "    ax2= plt.subplot(2,1,2,sharex = ax1)\n",
    "    \n",
    "    plt.plot(list(res_dict.keys()),pb.tidy(res_dict)['value'][pb.tidy(res_dict)['name']=='HB_n'])\n",
    "    plt.xscale('log')\n",
    "    plt.ylabel('$'+param_name+'$')\n",
    "    plt.xlabel('$\\dot\\gamma_{min} [1/s]$')\n",
    "    \n",
    "    plt.axvspan(xlim[0],min_shear_rate,color='gray',alpha=0.5)\n",
    "    plt.axvspan(max_shear_rate,xlim[1],color='gray',alpha=0.5)\n",
    "\n",
    "    plt.gca().set_xlim(xlim)\n",
    "    \n",
    "    return plt.gcf()\n",
    "    \n",
    "explore_param_keephigh(res_fit,min_shear_rate=0.1,param_name='n');"
   ]
  },
  {
   "cell_type": "code",
   "execution_count": 27,
   "metadata": {
    "colab": {
     "base_uri": "https://localhost:8080/",
     "height": 292
    },
    "colab_type": "code",
    "id": "hKmOGGM5Cwl-",
    "outputId": "b8ca0ccb-74f7-475a-f5be-bda447714e8f"
   },
   "outputs": [
    {
     "data": {
      "image/png": "[encoded data removed]",
      "text/plain": [
       "<Figure size 432x288 with 2 Axes>"
      ]
     },
     "metadata": {
      "needs_background": "light"
     },
     "output_type": "display_data"
    }
   ],
   "source": [
    "data=rheofit.rheodata.example_emulsion()\n",
    "data.sort_values('Shear rate',ascending=False, inplace=True)\n",
    "\n",
    "model=rheofit.models.HB_model\n",
    "res_fit=model.fit(data['Stress'],x=data['Shear rate'],weights=1/(data['Stress']))\n",
    "\n",
    "\n",
    "def explore_param_keeplow(res_fit,min_shear_rate=0.01,max_shear_rate=1001,param_name=None):\n",
    "    '''keep the right range of data for the fit\n",
    "    answer the question: how important it is how low we extend the analysis at low shear?\n",
    "    '''\n",
    "    \n",
    "    data=pd.DataFrame.from_dict({'Shear rate':res_fit.userkws['x'],'Stress':res_fit.data})\n",
    "    data.sort_values('Shear rate',ascending=True, inplace=True)\n",
    "    res_fit=res_fit.model.fit(data['Stress'],x=data['Shear rate'],weights=1/(data['Stress']))\n",
    "    res_fit=fit_range(res_fit,min_shear_rate=min_shear_rate,max_shear_rate=max_shear_rate)\n",
    "    res_dict={max_shear:fit_range(res_fit,min_shear_rate=min(res_fit.userkws['x']),max_shear_rate=max_shear) \n",
    "              for max_shear in res_fit.userkws['x'][5:-1]}\n",
    "    \n",
    "    ax1= plt.subplot(2,1,1)\n",
    "    \n",
    "    plt.plot(data['Shear rate'],data['Stress'],'o')\n",
    "    plt.yscale('log')\n",
    "    plt.xscale('log')\n",
    "    plt.xlabel('$\\dot\\gamma [1/s]$')\n",
    "    plt.ylabel('$\\sigma [Pa]$')\n",
    "    \n",
    "    xlim=plt.gca().get_xlim()\n",
    "    plt.axvspan(xlim[0],min_shear_rate,color='gray',alpha=0.5)\n",
    "    plt.axvspan(max_shear_rate,xlim[1],color='gray',alpha=0.5)\n",
    "    \n",
    "    ax2= plt.subplot(2,1,2,sharex = ax1)\n",
    "    \n",
    "    plt.plot(list(res_dict.keys()),pb.tidy(res_dict)['value'][pb.tidy(res_dict)['name']=='HB_n'])\n",
    "    plt.xscale('log')\n",
    "    plt.ylabel('$'+param_name+'$')\n",
    "    plt.xlabel('$\\dot\\gamma_{max} [1/s]$')\n",
    "    \n",
    "    plt.axvspan(xlim[0],min_shear_rate,color='gray',alpha=0.5)\n",
    "    plt.axvspan(max_shear_rate,xlim[1],color='gray',alpha=0.5)\n",
    "\n",
    "    plt.gca().set_xlim(xlim)\n",
    "    \n",
    "    return plt.gcf()\n",
    "    \n",
    "explore_param_keeplow(res_fit,min_shear_rate=0.1,param_name='n');"
   ]
  },
  {
   "cell_type": "markdown",
   "metadata": {
    "colab_type": "text",
    "id": "sOEKQtUxCwmD"
   },
   "source": [
    "## Emcee"
   ]
  },
  {
   "cell_type": "code",
   "execution_count": 28,
   "metadata": {
    "colab": {
     "base_uri": "https://localhost:8080/",
     "height": 1000
    },
    "colab_type": "code",
    "id": "3tt30H1eCwmE",
    "outputId": "79ce2098-2505-4e38-aa2c-9ca2c7df5d34"
   },
   "outputs": [
    {
     "data": {
      "text/html": [
       "<h2> Model</h2> Model(HB, prefix='HB_') <h2>Fit Statistics</h2><table><tr><td>fitting method</td><td>leastsq</td><td></td></tr><tr><td># function evals</td><td>22</td><td></td></tr><tr><td># data points</td><td>80</td><td></td></tr><tr><td># variables</td><td>3</td><td></td></tr><tr><td>chi-square</td><td> 10.8588639</td><td></td></tr><tr><td>reduced chi-square</td><td> 0.14102421</td><td></td></tr><tr><td>Akaike info crit.</td><td>-153.763595</td><td></td></tr><tr><td>Bayesian info crit.</td><td>-146.617515</td><td></td></tr></table><h2>Variables</h2><table><tr><th> name </th><th> value </th><th> standard error </th><th> relative error </th><th> initial value </th><th> min </th><th> max </th><th> vary </th></tr><tr><td> HB_n </td><td>  0.59580716 </td><td>  0.00527012 </td><td> 0.88% </td><td> 0.5 </td><td>  0.00000000 </td><td>  1.00000000 </td><td> True </td></tr><tr><td> HB_K </td><td>  1.88049246 </td><td>  0.05148762 </td><td> 2.74% </td><td> 1.0 </td><td>  0.00000000 </td><td>         inf </td><td> True </td></tr><tr><td> HB_ystress </td><td>  4.08822217 </td><td>  0.05981584 </td><td> 1.46% </td><td> 1.0 </td><td>  0.00000000 </td><td>         inf </td><td> True </td></tr></table><h2>Correlations (unreported correlations are < 0.100)</h2><table><tr><td>HB_n</td><td>HB_K</td><td>-0.9655</td></tr><tr><td>HB_K</td><td>HB_ystress</td><td>-0.8080</td></tr><tr><td>HB_n</td><td>HB_ystress</td><td>0.7536</td></tr></table>"
      ],
      "text/plain": [
       "<lmfit.model.ModelResult at 0x16f6d12ec88>"
      ]
     },
     "metadata": {},
     "output_type": "display_data"
    },
    {
     "data": {
      "image/png": "[encoded data removed]",
      "text/plain": [
       "<Figure size 547.2x547.2 with 9 Axes>"
      ]
     },
     "metadata": {
      "needs_background": "light"
     },
     "output_type": "display_data"
    }
   ],
   "source": [
    "data=rheofit.rheodata.example_emulsion()\n",
    "data=data[data['Shear rate']>0.1]\n",
    "model=rheofit.models.HB_model\n",
    "res_fit=model.fit(data['Stress'],x=data['Shear rate'],weights=1/(data['Stress']*0.1))\n",
    "res_emcee=res_fit.emcee(steps=1000, nwalkers=50, burn=300)\n",
    "\n",
    "corner.corner(res_emcee.flatchain, labels=res_emcee.var_names, truths=[res_fit.params[key].value for key in res_fit.params.keys()]);\n",
    "display(res_fit)"
   ]
  },
  {
   "cell_type": "code",
   "execution_count": null,
   "metadata": {
    "colab": {},
    "colab_type": "code",
    "id": "LZOV8cPzENpZ"
   },
   "outputs": [],
   "source": []
  }
 ],
 "metadata": {
  "colab": {
   "include_colab_link": true,
   "name": "Fitting_single_flow_curve.ipynb",
   "provenance": []
  },
  "hide_input": false,
  "kernel_info": {
   "name": "python3"
  },
  "kernelspec": {
   "display_name": "Python 3",
   "language": "python",
   "name": "python3"
  },
  "language_info": {
   "codemirror_mode": {
    "name": "ipython",
    "version": 3
   },
   "file_extension": ".py",
   "mimetype": "text/x-python",
   "name": "python",
   "nbconvert_exporter": "python",
   "pygments_lexer": "ipython3",
   "version": "3.7.4"
  },
  "nteract": {
   "version": "0.15.0"
  }
 },
 "nbformat": 4,
 "nbformat_minor": 1
}
